{
 "cells": [
  {
   "cell_type": "markdown",
   "id": "4bb3a8a4",
   "metadata": {
    "papermill": {
     "duration": 0.031469,
     "end_time": "2024-10-07T00:24:58.888940",
     "exception": false,
     "start_time": "2024-10-07T00:24:58.857471",
     "status": "completed"
    },
    "tags": []
   },
   "source": [
    "One of the outstanding members of the Kaggle community, grandmaster, gives a link to his [work](https://www.kaggle.com/code/cdeotte/top-solutions-ensemble-0-947), where he shows the refinement of the prediction using an experimental example. In order to try to refine our predictions at the [BrisT1D Blood Glucose Prediction Competition](https://www.kaggle.com/competitions/brist1d/overview)\n",
    "\n",
    "This approach has proven itself in the following competitions: 1. [ISIC 2024 - Skin Cancer Detection with 3D-TBP](https://www.kaggle.com/competitions/isic-2024-challenge/code?competitionId=63056&sortBy=scoreDescending&excludeNonAccessedDatasources=true), 2. [RSNA 2024 Lumbar Spine Degenerative Classification](https://www.kaggle.com/competitions/rsna-2024-lumbar-spine-degenerative-classification/code?competitionId=71549&sortBy=scoreAscending&excludeNonAccessedDatasources=true), 3. [NeurIPS - Ariel Data Challenge 2024](https://www.kaggle.com/competitions/ariel-data-challenge-2024/code?competitionId=70367&sortBy=scoreDescending&excludeNonAccessedDatasources=true), 4. [Child Mind Institute — Problematic Internet Use](https://www.kaggle.com/competitions/child-mind-institute-problematic-internet-use/code?competitionId=81933&sortBy=scoreDescending&excludeNonAccessedDatasources=true), 5. [BrisT1D Blood Glucose Prediction Competition](https://www.kaggle.com/competitions/brist1d/code?competitionId=82611&sortBy=scoreAscending&excludeNonAccessedDatasources=true), 6. [Eedi - Mining Misconceptions in Mathematics](https://www.kaggle.com/competitions/eedi-mining-misconceptions-in-mathematics/code?competitionId=82695&sortBy=scoreDescending&excludeNonAccessedDatasources=true), 7. [Connect X](https://www.kaggle.com/competitions/connectx/leaderboard?)\n",
    "\n",
    "And accordingly in the following notebooks: 1. [ISIC_2024 | Ensemble of solutions](https://www.kaggle.com/code/vyacheslavbolotin/isic-2024-ensemble-of-solutions), 2. [RSNA | Ensemble of solutions](https://www.kaggle.com/code/vyacheslavbolotin/rsna-ensemble-of-solutions), 3. [Ariel | Ensemble of solutions](https://www.kaggle.com/code/vyacheslavbolotin/ariel-ensemble-of-solutions), 4. [CMI | Ensemble of solutions](https://www.kaggle.com/code/vyacheslavbolotin/cmi-ensemble-of-solutions), 5. [BrisT1D | Ensemble of solutions](https://www.kaggle.com/code/vyacheslavbolotin/brist1d-ensemble-of-solutions), 6. [Eedi | Ensemble of solutions](https://www.kaggle.com/code/vyacheslavbolotin/eedi-ensemble-of-solutions), 7. [agents Connect X](https://www.kaggle.com/code/vyacheslavbolotin/agents-connect-x) \n",
    "\n",
    "**[BrisT1D | Ensemble  of solutions](https://www.kaggle.com/code/vyacheslavbolotin/brist1d-ensemble-of-solutions)**: Lb=?\n",
    "\n",
    "1. (**2.5505**) UAE [Brist1D|Baseline|V1](https://www.kaggle.com/code/ravi20076/brist1d-baseline-v1) by grandmaster [Ravi Ramakrishnan](https://www.kaggle.com/ravi20076)\n",
    "2. (**2.5841**) India [Blood Glucose Prediction](https://www.kaggle.com/code/sierra022/blood-glucose-prediction) by contributor [Shashank Mouli](https://www.kaggle.com/sierra022)\n",
    "3. (**2.5298**) China [BrisT1D Yunbase](https://www.kaggle.com/code/yunsuxiaozi/brist1d-yunbase) by master [yunsuxiaozi](https://www.kaggle.com/yunsuxiaozi)\n",
    "4. (**2.6393**) Germany [BloodGlucosePrediction - BlueCast](https://www.kaggle.com/code/thomasmeiner/bloodglucoseprediction-bluecast) by master [Thomas Meißner](https://www.kaggle.com/thomasmeiner)\n",
    "5. (**2.7253**) World [BloodGlucosePredictionGPU XGBoost](https://www.kaggle.com/code/twobob/bloodglucosepredictiongpu-xgboost) by contributor [Twobob Club](https://www.kaggle.com/twobob)\n",
    "6. ()\n",
    "7. (**2.6100**) Pakistan [LightGBM Optuna - LB 2.61](https://www.kaggle.com/code/salman1127/lightgbm-optuna-lb-2-61) by expert [Salman A.](https://www.kaggle.com/salman1127)\n",
    "8. (**2.5753**) Kenya [BrisT1D Blood Glucose Prediction | LightBGM](https://www.kaggle.com/code/valentinemwai/brist1d-blood-glucose-prediction-lightbgm) by contributor [valentine mwai](https://www.kaggle.com/valentinemwai)\n",
    "9. (**2.5483**) Pakistan [2.51_score_BrisT1D Blood Glucose](https://www.kaggle.com/code/muhammadqasimshabbir/2-51-score-brist1d-blood-glucose) by contributor [Muhammad Qasim Shabbir](https://www.kaggle.com/muhammadqasimshabbir/code)\n",
    "\n",
    "options\n",
    "- option 2 ->Lb=2.5816 solutions (1,5) + weight(0.50+0.50)\n",
    "- option 3 ->Lb=2.5855 solutions (2,5) + weight(0.50+0.50)\n",
    "- \n",
    "- option 4 ->Lb=2.5508 solutions (1,2,5) + weight(0.58+0.37+0.05)\n",
    "- \n",
    "- option 1 ->Lb=2.5434 solutions (1,2) + weight(0.50+0.50)\n",
    "- option 5 ->Lb=2.5420 solutions (1,2) + weight(0.55+0.45)\n",
    "- option 6 ->Lb=2.5410 solutions (1,2) + weight(0.60+0.40)\n",
    "- \n",
    "- option 8 ->Lb= 2.5461 solutions (1,8) + weight(0.50+0.50)\n",
    "- option 10->Lb=**2.5331** solutions (2,8) + weight(0.50+0.50)\n",
    "- \n",
    "- option 9 ->Lb=2.5544 solutions (1,2,8) + weight(0.33+0.35+0.32)\n",
    "- \n",
    "- option 11->Lb=2.5468 solutions (2,8,3) + weight(0.477+0.474+0.049), version.28\n",
    "- option 12->Lb=2.5388 solutions (2,8,4) + weight(0.477+0.474+0.049), version.29\n",
    "- option 13->Lb=2.5400 solutions (2,8,1) + weight(0.490+0.490+0.020), version.30\n",
    "- \n",
    "- option 15 ->Lb=2.5340 solutions (2,8) + weight(0.55+0.45), version.32\n",
    "- option 10 ->Lb=2.5331 solutions (2,8) + weight(0.50+0.50), version.24\n",
    "- option 16 ->Lb=2.5331 solutions (2,8) + weight(0.45+0.55), version.33\n",
    "- option.17 ->Lb=2.5341 solutions (2,8) + weight(0.40+0.60), version.37\n",
    "- \n",
    "- option.18 ->Lb=2.5585 solutions (3,8) + weight(0.50+0.50), version.36\n",
    "- \n",
    "- option 21 ->Lb=2.5348 solutions (8,9) + weight(0.50+0.50), version.42\n",
    "- option 22 ->Lb=2.5386 solutions (8,9) + weight(0.60+0.40), version.43\n",
    "- option 23 ->Lb=2.5332 solutions (8,9) + weight(0.40+0.60), version.44\n",
    "- option 24 ->Lb=2.5332 solutions (8,9) + weight(0.343+0.657), version.45\n",
    "- \n",
    "- option 27 ->Lb=2.5115 solutions (2,8,3) + weight(0.30+0.30+0.40), Version.49\n",
    "- \n",
    "- option 28 ->Lb=2.5179 solutions (3,2) + weight(0.55+0.45), Version.50\n",
    "- option 29 ->Lb=2.5236 solutions (3,8) + weight(0.55+0.45), Version.51\n",
    "\n",
    "\n",
    "current best rezult\n",
    "- option 27 ->Lb=2.5115 solutions (2,8,3) + weight(0.30+0.30+0.40), Version.49\n",
    "\n",
    "current options\n",
    "- option 30 ->Lb=**?** solutions (2,8,3) + weight(0.21+0.33+0.46), Version.54\n",
    "\n",
    "next options\n",
    "- **?**"
   ]
  },
  {
   "cell_type": "code",
   "execution_count": 1,
   "id": "1ef82c74",
   "metadata": {
    "execution": {
     "iopub.execute_input": "2024-10-07T00:24:58.948096Z",
     "iopub.status.busy": "2024-10-07T00:24:58.947558Z",
     "iopub.status.idle": "2024-10-07T00:24:58.961998Z",
     "shell.execute_reply": "2024-10-07T00:24:58.960437Z"
    },
    "jupyter": {
     "source_hidden": true
    },
    "papermill": {
     "duration": 0.047702,
     "end_time": "2024-10-07T00:24:58.965181",
     "exception": false,
     "start_time": "2024-10-07T00:24:58.917479",
     "status": "completed"
    },
    "tags": []
   },
   "outputs": [],
   "source": [
    "LAUNCH_VARIANT,ENSEMBLE_SOLUTIONS = 'option 30',['SOLUTION_2','SOLUTION_8','SOLUTION_3'] "
   ]
  },
  {
   "cell_type": "markdown",
   "id": "afe04563",
   "metadata": {
    "papermill": {
     "duration": 0.029377,
     "end_time": "2024-10-07T00:24:59.024502",
     "exception": false,
     "start_time": "2024-10-07T00:24:58.995125",
     "status": "completed"
    },
    "tags": []
   },
   "source": [
    "## 1. [Brist1D|Baseline|V1](https://www.kaggle.com/code/ravi20076/brist1d-baseline-v1)\n",
    "### [Ravi Ramakrishnan](https://www.kaggle.com/ravi20076)"
   ]
  },
  {
   "cell_type": "code",
   "execution_count": 2,
   "id": "37dc66f9",
   "metadata": {
    "_kg_hide-input": true,
    "_kg_hide-output": true,
    "execution": {
     "iopub.execute_input": "2024-10-07T00:24:59.087390Z",
     "iopub.status.busy": "2024-10-07T00:24:59.086901Z",
     "iopub.status.idle": "2024-10-07T00:24:59.093082Z",
     "shell.execute_reply": "2024-10-07T00:24:59.091485Z"
    },
    "jupyter": {
     "source_hidden": true
    },
    "papermill": {
     "duration": 0.040502,
     "end_time": "2024-10-07T00:24:59.095489",
     "exception": false,
     "start_time": "2024-10-07T00:24:59.054987",
     "status": "completed"
    },
    "tags": []
   },
   "outputs": [],
   "source": [
    "# %%writefile requirements.txt\n",
    "\n",
    "# lightgbm==4.5.0\n",
    "# xgboost==2.1.1\n",
    "# scikit-learn==1.4.2"
   ]
  },
  {
   "cell_type": "code",
   "execution_count": 3,
   "id": "210b7152",
   "metadata": {
    "_kg_hide-input": true,
    "_kg_hide-output": true,
    "execution": {
     "iopub.execute_input": "2024-10-07T00:24:59.157133Z",
     "iopub.status.busy": "2024-10-07T00:24:59.155685Z",
     "iopub.status.idle": "2024-10-07T00:24:59.161794Z",
     "shell.execute_reply": "2024-10-07T00:24:59.160400Z"
    },
    "jupyter": {
     "source_hidden": true
    },
    "papermill": {
     "duration": 0.040385,
     "end_time": "2024-10-07T00:24:59.164812",
     "exception": false,
     "start_time": "2024-10-07T00:24:59.124427",
     "status": "completed"
    },
    "tags": []
   },
   "outputs": [],
   "source": [
    "# %%capture \n",
    "\n",
    "# !pip install -r requirements.txt"
   ]
  },
  {
   "cell_type": "code",
   "execution_count": 4,
   "id": "f01e782f",
   "metadata": {
    "_kg_hide-input": true,
    "_kg_hide-output": true,
    "execution": {
     "iopub.execute_input": "2024-10-07T00:24:59.228495Z",
     "iopub.status.busy": "2024-10-07T00:24:59.228047Z",
     "iopub.status.idle": "2024-10-07T00:24:59.234942Z",
     "shell.execute_reply": "2024-10-07T00:24:59.233614Z"
    },
    "jupyter": {
     "source_hidden": true
    },
    "papermill": {
     "duration": 0.042218,
     "end_time": "2024-10-07T00:24:59.237525",
     "exception": false,
     "start_time": "2024-10-07T00:24:59.195307",
     "status": "completed"
    },
    "tags": []
   },
   "outputs": [],
   "source": [
    "# %%writefile -a myimports.py\n",
    "\n",
    "# print(f\"\\n---> Commencing imports\")\n",
    "\n",
    "# from gc import collect\n",
    "# from warnings import filterwarnings\n",
    "# filterwarnings('ignore')\n",
    "# from IPython.display import display_html, clear_output\n",
    "# clear_output()\n",
    "# import os, sys, logging, re, joblib, ctypes, shutil\n",
    "# from copy import deepcopy\n",
    "\n",
    "# # General library imports:-\n",
    "# from os import path, walk, getpid\n",
    "# from psutil import Process\n",
    "# from collections import Counter\n",
    "# from itertools import product\n",
    "# import ctypes\n",
    "# libc = ctypes.CDLL(\"libc.so.6\")\n",
    "\n",
    "# from IPython.display import display_html, clear_output\n",
    "# from pprint import pprint\n",
    "# from functools import partial\n",
    "# from copy import deepcopy\n",
    "# import pandas as pd, numpy as np\n",
    "# from scipy.optimize import minimize\n",
    "# from numpy.typing import ArrayLike, NDArray\n",
    "# import polars as pl\n",
    "# import polars.selectors as cs\n",
    "# from polars.testing import assert_frame_equal\n",
    "\n",
    "# import matplotlib.pyplot as plt\n",
    "# import seaborn as sns\n",
    "# from colorama import Fore, Style, init\n",
    "# from tqdm.notebook import tqdm"
   ]
  },
  {
   "cell_type": "code",
   "execution_count": 5,
   "id": "731bbbb8",
   "metadata": {
    "_kg_hide-input": true,
    "_kg_hide-output": true,
    "execution": {
     "iopub.execute_input": "2024-10-07T00:24:59.299263Z",
     "iopub.status.busy": "2024-10-07T00:24:59.298819Z",
     "iopub.status.idle": "2024-10-07T00:24:59.306839Z",
     "shell.execute_reply": "2024-10-07T00:24:59.305470Z"
    },
    "jupyter": {
     "source_hidden": true
    },
    "papermill": {
     "duration": 0.042158,
     "end_time": "2024-10-07T00:24:59.309483",
     "exception": false,
     "start_time": "2024-10-07T00:24:59.267325",
     "status": "completed"
    },
    "tags": []
   },
   "outputs": [],
   "source": [
    "# %%writefile -a myimports.py\n",
    "\n",
    "# # Importing model and pipeline specifics:-\n",
    "# from category_encoders import OrdinalEncoder, OneHotEncoder\n",
    "\n",
    "# # Pipeline specifics:-\n",
    "# from sklearn.preprocessing import (RobustScaler,\n",
    "#                                    MinMaxScaler,\n",
    "#                                    StandardScaler,\n",
    "#                                    FunctionTransformer as FT,\n",
    "#                                    PowerTransformer,\n",
    "#                                   )\n",
    "# from sklearn.impute import SimpleImputer as SI\n",
    "# from sklearn.model_selection import (RepeatedStratifiedKFold as RSKF,\n",
    "#                                      StratifiedKFold as SKF,\n",
    "#                                      StratifiedGroupKFold as SGKF,\n",
    "#                                      KFold,\n",
    "#                                      GroupKFold as GKF,\n",
    "#                                      RepeatedKFold as RKF,\n",
    "#                                      PredefinedSplit as PDS,\n",
    "#                                      cross_val_score,\n",
    "#                                      cross_val_predict,\n",
    "#                                     )\n",
    "# from sklearn.inspection import permutation_importance\n",
    "# from sklearn.feature_selection import VarianceThreshold as VT\n",
    "# from sklearn.pipeline import Pipeline, make_pipeline\n",
    "# from sklearn.base import (BaseEstimator, TransformerMixin, RegressorMixin, clone)\n",
    "# from sklearn.compose import ColumnTransformer, make_column_selector\n",
    "# from sklearn.linear_model import Ridge\n",
    "# from sklearn.metrics import (root_mean_squared_error as rmse, \n",
    "#                              mean_absolute_error as mae,\n",
    "#                             )\n",
    "# from sklearn.ensemble import (RandomForestRegressor as RFR,\n",
    "#                               ExtraTreesRegressor as ETR,\n",
    "#                               HistGradientBoostingRegressor as HGBR,\n",
    "#                              )\n",
    "\n",
    "# # Importing model packages\n",
    "# import xgboost as xgb, lightgbm as lgb\n",
    "# from xgboost import QuantileDMatrix, XGBRegressor as XGBR\n",
    "# from lightgbm import log_evaluation, early_stopping, LGBMRegressor as LGBMR\n",
    "# from catboost import CatBoostRegressor as CBR, Pool\n",
    "\n",
    "# # Importing Ensemble and tuning packages\n",
    "# import optuna\n",
    "# from optuna import Trial, trial, create_study\n",
    "# from optuna.pruners import HyperbandPruner\n",
    "# from optuna.samplers import TPESampler, CmaEsSampler\n",
    "# optuna.logging.disable_default_handler()"
   ]
  },
  {
   "cell_type": "code",
   "execution_count": 6,
   "id": "3738c59e",
   "metadata": {
    "_kg_hide-input": true,
    "_kg_hide-output": true,
    "execution": {
     "iopub.execute_input": "2024-10-07T00:24:59.373318Z",
     "iopub.status.busy": "2024-10-07T00:24:59.372702Z",
     "iopub.status.idle": "2024-10-07T00:24:59.380561Z",
     "shell.execute_reply": "2024-10-07T00:24:59.378968Z"
    },
    "jupyter": {
     "source_hidden": true
    },
    "papermill": {
     "duration": 0.043963,
     "end_time": "2024-10-07T00:24:59.383410",
     "exception": false,
     "start_time": "2024-10-07T00:24:59.339447",
     "status": "completed"
    },
    "tags": []
   },
   "outputs": [],
   "source": [
    "# %%writefile -a myimports.py\n",
    "\n",
    "# # Setting rc parameters in seaborn for plots and graphs-\n",
    "# sns.set({\"axes.facecolor\"       : \"#ffffff\",\n",
    "#          \"figure.facecolor\"     : \"#ffffff\",\n",
    "#          \"axes.edgecolor\"       : \"#000000\",\n",
    "#          \"grid.color\"           : \"#ffffff\",\n",
    "#          \"font.family\"          : ['Cambria'],\n",
    "#          \"axes.labelcolor\"      : \"#000000\",\n",
    "#          \"xtick.color\"          : \"#000000\",\n",
    "#          \"ytick.color\"          : \"#000000\",\n",
    "#          \"grid.linewidth\"       : 0.75,\n",
    "#          \"grid.linestyle\"       : \"--\",\n",
    "#          \"axes.titlecolor\"      : '#0099e6',\n",
    "#          'axes.titlesize'       : 8.5,\n",
    "#          'axes.labelweight'     : \"bold\",\n",
    "#          'legend.fontsize'      : 7.0,\n",
    "#          'legend.title_fontsize': 7.0,\n",
    "#          'font.size'            : 7.5,\n",
    "#          'xtick.labelsize'      : 7.5,\n",
    "#          'ytick.labelsize'      : 7.5,\n",
    "#         }\n",
    "#        )\n",
    "\n",
    "# # Color printing\n",
    "# def PrintColor(text: str, color = Fore.BLUE, style = Style.BRIGHT):\n",
    "#     \"Prints color outputs using colorama using a text F-string\"\n",
    "#     print(style + color + text + Style.RESET_ALL)\n",
    "\n",
    "# # Checking package versions\n",
    "# import xgboost as xgb, lightgbm as lgb, catboost as cb, sklearn as sk\n",
    "# print(f\"---> XGBoost = {xgb.__version__} | LightGBM = {lgb.__version__} | Catboost = {cb.__version__}\")\n",
    "# print(f\"---> Sklearn = {sk.__version__}| Pandas = {pd.__version__} | Polars = {pl.__version__}\")\n",
    "# collect()"
   ]
  },
  {
   "cell_type": "code",
   "execution_count": 7,
   "id": "4930b7e0",
   "metadata": {
    "_kg_hide-input": true,
    "_kg_hide-output": true,
    "execution": {
     "iopub.execute_input": "2024-10-07T00:24:59.443364Z",
     "iopub.status.busy": "2024-10-07T00:24:59.442897Z",
     "iopub.status.idle": "2024-10-07T00:24:59.450994Z",
     "shell.execute_reply": "2024-10-07T00:24:59.449537Z"
    },
    "jupyter": {
     "source_hidden": true
    },
    "papermill": {
     "duration": 0.041202,
     "end_time": "2024-10-07T00:24:59.453675",
     "exception": false,
     "start_time": "2024-10-07T00:24:59.412473",
     "status": "completed"
    },
    "tags": []
   },
   "outputs": [],
   "source": [
    "# %%writefile -a myimports.py\n",
    "\n",
    "# class MyLogger:\n",
    "#     \"\"\"\n",
    "#     This class helps to suppress logs in lightgbm and Optuna\n",
    "#     Source - https://github.com/microsoft/LightGBM/issues/6014\n",
    "#     \"\"\"\n",
    "\n",
    "#     def init(self, logging_lbl: str):\n",
    "#         self.logger = logging.getLogger(logging_lbl)\n",
    "#         self.logger.setLevel(logging.ERROR)\n",
    "\n",
    "#     def info(self, message):\n",
    "#         pass\n",
    "\n",
    "#     def warning(self, message):\n",
    "#         pass\n",
    "\n",
    "#     def error(self, message):\n",
    "#         self.logger.error(message)\n",
    "\n",
    "\n",
    "# # Customizing logging for XGBoost\n",
    "# for handler in logging.root.handlers[:]:\n",
    "#     logging.root.removeHandler(handler)\n",
    "\n",
    "# logger = logging.getLogger(__name__)\n",
    "# logger.setLevel(logging.ERROR)\n",
    "# formatter = logging.Formatter('%(asctime)s | %(levelname)s | %(message)s')\n",
    "\n",
    "# stdout_handler = logging.StreamHandler(sys.stdout)\n",
    "# stdout_handler.setLevel(logging.INFO)\n",
    "# stdout_handler.setFormatter(formatter)\n",
    "\n",
    "# file_handler = logging.FileHandler(f'xgb_optimize.log')\n",
    "# file_handler.setLevel(logging.ERROR)\n",
    "# file_handler.setFormatter(formatter)\n",
    "\n",
    "# logger.addHandler(file_handler)\n",
    "# logger.addHandler(stdout_handler)\n",
    "\n",
    "# class XGBLogging(xgb.callback.TrainingCallback):\n",
    "#     \"\"\"\n",
    "#     This class designs the custom logging for XGboost \n",
    "#     This is to be used inside the XGboost callback\n",
    "#     \"\"\"\n",
    "\n",
    "#     def __init__(self, epoch_log_interval=100):\n",
    "#         self.epoch_log_interval = epoch_log_interval\n",
    "\n",
    "#     def after_iteration(\n",
    "#         self, model, epoch:int, evals_log:xgb.callback.TrainingCallback.EvalsLog\n",
    "#     ):\n",
    "#         if self.epoch_log_interval <= 0:\n",
    "#             pass\n",
    "\n",
    "#         elif (epoch %  self.epoch_log_interval == 0):\n",
    "#             for data, metric in evals_log.items():\n",
    "#                 for metric_name, log in metric.items():\n",
    "#                     score = log[-1][0] if isinstance(log[-1], tuple) else log[-1]\n",
    "#                     logger.info(f\"XGBLogging epoch {epoch} dataset {data} {metric_name} {score}\")\n",
    "\n",
    "#         return False"
   ]
  },
  {
   "cell_type": "code",
   "execution_count": 8,
   "id": "5b342b1d",
   "metadata": {
    "_kg_hide-input": true,
    "_kg_hide-output": true,
    "execution": {
     "iopub.execute_input": "2024-10-07T00:24:59.515384Z",
     "iopub.status.busy": "2024-10-07T00:24:59.514869Z",
     "iopub.status.idle": "2024-10-07T00:24:59.520541Z",
     "shell.execute_reply": "2024-10-07T00:24:59.519341Z"
    },
    "jupyter": {
     "source_hidden": true
    },
    "papermill": {
     "duration": 0.040474,
     "end_time": "2024-10-07T00:24:59.523229",
     "exception": false,
     "start_time": "2024-10-07T00:24:59.482755",
     "status": "completed"
    },
    "tags": []
   },
   "outputs": [],
   "source": [
    "# %%time\n",
    "# exec(open('myimports.py','r').read())\n",
    "# print()"
   ]
  },
  {
   "cell_type": "markdown",
   "id": "6e45069d",
   "metadata": {
    "_kg_hide-input": true,
    "_kg_hide-output": true,
    "papermill": {
     "duration": 0.03095,
     "end_time": "2024-10-07T00:24:59.583151",
     "exception": false,
     "start_time": "2024-10-07T00:24:59.552201",
     "status": "completed"
    },
    "tags": []
   },
   "source": [
    "This is a baseline kernel for the community competition [here](https://www.kaggle.com/competitions/brist1d) <br>\n",
    "This is a tabular regression problem with the RMSE metric. This needs to be minimized <br>\n",
    "\n",
    "This kernel is based on the simple preprocesssing done [here](https://www.kaggle.com/code/sierra022/blood-glucose-prediction) and my ML model framework. Let's add more models as we move along and refine the process! <br>\n",
    "\n",
    "### **CV STRATEGY** <br>\n",
    "We use a group k-fold strategy here, with the patient number being the grouper column. We also resort to a 5-fold split <br>\n",
    "\n",
    "### **INCORPORATING COMMUNITY FEEDBACK** <br>\n",
    "This training class is my rejoinder to the community feedback. My previously designed trainer class became a bit clunky and needed revision. Hopefully, this one is better to read and more nimble. Hope it serves the purpose of the user! <br>\n",
    "\n",
    "All the best!"
   ]
  },
  {
   "cell_type": "code",
   "execution_count": 9,
   "id": "9fc2677e",
   "metadata": {
    "_kg_hide-input": true,
    "_kg_hide-output": true,
    "execution": {
     "iopub.execute_input": "2024-10-07T00:24:59.643847Z",
     "iopub.status.busy": "2024-10-07T00:24:59.643297Z",
     "iopub.status.idle": "2024-10-07T00:24:59.651265Z",
     "shell.execute_reply": "2024-10-07T00:24:59.650041Z"
    },
    "jupyter": {
     "source_hidden": true
    },
    "papermill": {
     "duration": 0.041581,
     "end_time": "2024-10-07T00:24:59.653901",
     "exception": false,
     "start_time": "2024-10-07T00:24:59.612320",
     "status": "completed"
    },
    "tags": []
   },
   "outputs": [],
   "source": [
    "# %%writefile -a training.py\n",
    "\n",
    "# # Configuration class:-\n",
    "# class CFG:\n",
    "#     \"\"\"\n",
    "#     Configuration class for parameters and CV strategy for tuning and training\n",
    "#     Some parameters may be unused here as this is a general configuration class\n",
    "#     \"\"\";\n",
    "\n",
    "#     # Data preparation:-\n",
    "#     version_nb  = 1\n",
    "#     model_id    = \"V1_1\"\n",
    "#     model_label = \"ML\"\n",
    "\n",
    "#     test_req           = False\n",
    "#     test_sample_frac   = 1000\n",
    "\n",
    "#     gpu_switch         = \"OFF\"\n",
    "#     state              = 42\n",
    "#     target             = f'bg+1:00'\n",
    "#     grouper            = f'p_num'\n",
    "\n",
    "#     ip_path            = f\"/kaggle/input/brist1d\"\n",
    "#     op_path            = f\"/kaggle/working\"\n",
    "\n",
    "#     # Model Training:-\n",
    "#     pstprcs_oof        = False\n",
    "#     pstprcs_train      = False\n",
    "#     pstprcs_test       = False\n",
    "#     ML                 = True\n",
    "#     test_preds_req     = True\n",
    "\n",
    "#     pseudo_lbl_req     = False\n",
    "#     pseudolbl_up       = 0.975\n",
    "#     pseudolbl_low      = 0.00\n",
    "\n",
    "#     n_splits           = 3 if test_req == \"Y\" else 5\n",
    "#     n_repeats          = 1\n",
    "#     nbrnd_erly_stp     = 75\n",
    "#     mdlcv_mthd         = 'GKF'\n",
    "\n",
    "#     # Ensemble:-\n",
    "#     ensemble_req       = True\n",
    "#     metric_obj         = 'minimize'\n",
    "\n",
    "#     # Global variables for plotting:-\n",
    "#     grid_specs = {'visible'  : True,\n",
    "#                   'which'    : 'both',\n",
    "#                   'linestyle': '--',\n",
    "#                   'color'    : 'lightgrey',\n",
    "#                   'linewidth': 0.75\n",
    "#                  }\n",
    "\n",
    "#     title_specs = {'fontsize'   : 9,\n",
    "#                    'fontweight' : 'bold',\n",
    "#                    'color'      : '#992600',\n",
    "#                   }\n",
    "\n",
    "# cv_selector = \\\n",
    "# {\n",
    "#  \"RKF\"   : RKF(n_splits = CFG.n_splits, n_repeats= CFG.n_repeats, random_state= CFG.state),\n",
    "#  \"RSKF\"  : RSKF(n_splits = CFG.n_splits, n_repeats= CFG.n_repeats, random_state= CFG.state),\n",
    "#  \"SKF\"   : SKF(n_splits = CFG.n_splits, shuffle = True, random_state= CFG.state),\n",
    "#  \"KF\"    : KFold(n_splits = CFG.n_splits, shuffle = True, random_state= CFG.state),\n",
    "#  \"GKF\"   : GKF(n_splits = CFG.n_splits)\n",
    "# }\n",
    "\n",
    "# PrintColor(f\"\\n---> Configuration done!\\n\")\n",
    "# collect()"
   ]
  },
  {
   "cell_type": "code",
   "execution_count": 10,
   "id": "7710b98b",
   "metadata": {
    "_kg_hide-input": true,
    "_kg_hide-output": true,
    "execution": {
     "iopub.execute_input": "2024-10-07T00:24:59.715422Z",
     "iopub.status.busy": "2024-10-07T00:24:59.714894Z",
     "iopub.status.idle": "2024-10-07T00:24:59.723954Z",
     "shell.execute_reply": "2024-10-07T00:24:59.722543Z"
    },
    "jupyter": {
     "source_hidden": true
    },
    "papermill": {
     "duration": 0.043513,
     "end_time": "2024-10-07T00:24:59.726878",
     "exception": false,
     "start_time": "2024-10-07T00:24:59.683365",
     "status": "completed"
    },
    "tags": []
   },
   "outputs": [],
   "source": [
    "# %%writefile -a training.py\n",
    "\n",
    "# class Utils:\n",
    "#     \"\"\"\n",
    "#     This class creates and uses several utility methods to be used across the code\n",
    "#     \"\"\";\n",
    "\n",
    "#     def __init__(self):\n",
    "#         pass\n",
    "\n",
    "#     def ScoreMetric(self, ytrue, ypred)-> float:\n",
    "#         \"\"\"\n",
    "#         This method calculates the metric for the competition\n",
    "#         Inputs- ytrue, ypred:- input truth and predictions\n",
    "#         Output- float:- competition metric\n",
    "#         \"\"\"\n",
    "#         return rmse(ytrue, ypred)\n",
    "\n",
    "\n",
    "#     def CleanMemory(self):\n",
    "#         \"This method cleans the memory off unused objects and displays the cleaned state RAM usage\"\n",
    "\n",
    "#         collect();\n",
    "#         libc.malloc_trim(0)\n",
    "#         pid        = getpid()\n",
    "#         py         = Process(pid)\n",
    "#         memory_use = py.memory_info()[0] / 2. ** 30\n",
    "#         return f\"\\nRAM usage = {memory_use :.4} GB\"\n",
    "\n",
    "#     def DisplayAdjTbl(self, *args):\n",
    "#         \"\"\"\n",
    "#         This function displays pandas tables in an adjacent manner, sourced from the below link-\n",
    "#         https://stackoverflow.com/questions/38783027/jupyter-notebook-display-two-pandas-tables-side-by-side\n",
    "#         \"\"\"\n",
    "\n",
    "#         html_str = ''\n",
    "#         for df in args:\n",
    "#             html_str += df.to_html()\n",
    "#         display_html(html_str.replace('table','table style=\"display:inline\"'),raw=True)\n",
    "#         collect()\n",
    "\n",
    "#     def DisplayScores(\n",
    "#         self, Scores: pd.DataFrame, TrainScores: pd.DataFrame, methods: list\n",
    "#     ):\n",
    "#         \"This method displays the scores and their means\"\n",
    "\n",
    "#         args = \\\n",
    "#         [Scores.style.format(precision = 5).\\\n",
    "#          background_gradient(cmap = \"Blues\", subset = methods + [\"Ensemble\"]).\\\n",
    "#          set_caption(f\"\\nOOF scores across methods and folds\\n\"),\n",
    "\n",
    "#          TrainScores.style.format(precision = 5).\\\n",
    "#          background_gradient(cmap = \"Pastel2\", subset = methods).\\\n",
    "#          set_caption(f\"\\nTrain scores across methods and folds\\n\")\n",
    "#         ];\n",
    "\n",
    "#         PrintColor(f\"\\n\\n\\n---> OOF score across all methods and folds\\n\",\n",
    "#                    color = Fore.LIGHTMAGENTA_EX\n",
    "#                    )\n",
    "#         self.DisplayAdjTbl(*args)\n",
    "\n",
    "#         print('\\n')\n",
    "#         display(Scores.mean().to_frame().\\\n",
    "#                 transpose().\\\n",
    "#                 style.format(precision = 5).\\\n",
    "#                 background_gradient(cmap = \"mako\", axis=1,\n",
    "#                                     subset = Scores.columns\n",
    "#                                    ).\\\n",
    "#                 set_caption(f\"\\nOOF mean scores across methods and folds\\n\")\n",
    "#                )\n",
    "\n",
    "\n",
    "# utils = Utils()\n",
    "# collect()\n",
    "# print()"
   ]
  },
  {
   "cell_type": "code",
   "execution_count": 11,
   "id": "8a447ab5",
   "metadata": {
    "_kg_hide-input": true,
    "_kg_hide-output": true,
    "execution": {
     "iopub.execute_input": "2024-10-07T00:24:59.789578Z",
     "iopub.status.busy": "2024-10-07T00:24:59.789091Z",
     "iopub.status.idle": "2024-10-07T00:24:59.795355Z",
     "shell.execute_reply": "2024-10-07T00:24:59.793903Z"
    },
    "jupyter": {
     "source_hidden": true
    },
    "papermill": {
     "duration": 0.041689,
     "end_time": "2024-10-07T00:24:59.798533",
     "exception": false,
     "start_time": "2024-10-07T00:24:59.756844",
     "status": "completed"
    },
    "tags": []
   },
   "outputs": [],
   "source": [
    "# %%writefile -a training.py\n",
    "\n",
    "# def XformCols(df: pd.DataFrame):\n",
    "#     \"This function converts the time column into time components and removes special characters in column labels\"\n",
    "\n",
    "#     df[\"hour_nb\"]   = pd.to_datetime(df['time']).dt.hour\n",
    "#     df['minute_nb'] = pd.to_datetime(df['time']).dt.minute\n",
    "#     df.columns      = df.columns.str.replace('\\W', '', regex = True)\n",
    "\n",
    "#     return df.drop(\"time\", axis=1, errors = \"ignore\")"
   ]
  },
  {
   "cell_type": "code",
   "execution_count": 12,
   "id": "344b40f0",
   "metadata": {
    "_kg_hide-input": true,
    "_kg_hide-output": true,
    "execution": {
     "iopub.execute_input": "2024-10-07T00:24:59.862036Z",
     "iopub.status.busy": "2024-10-07T00:24:59.861535Z",
     "iopub.status.idle": "2024-10-07T00:24:59.867834Z",
     "shell.execute_reply": "2024-10-07T00:24:59.866413Z"
    },
    "jupyter": {
     "source_hidden": true
    },
    "papermill": {
     "duration": 0.041139,
     "end_time": "2024-10-07T00:24:59.870504",
     "exception": false,
     "start_time": "2024-10-07T00:24:59.829365",
     "status": "completed"
    },
    "tags": []
   },
   "outputs": [],
   "source": [
    "# %%capture \n",
    "\n",
    "# exec(open('training.py','r').read())\n",
    "\n",
    "# train    = pd.read_csv(os.path.join(CFG.ip_path, \"train.csv\"), index_col = \"id\", low_memory = False)\n",
    "# test     = pd.read_csv(os.path.join(CFG.ip_path, \"test.csv\"), index_col = \"id\", low_memory = False)\n",
    "# sub_fl   = pd.read_csv(os.path.join(CFG.ip_path, \"sample_submission.csv\"), index_col = \"id\")\n",
    "\n",
    "# if CFG.test_req:\n",
    "#     train = train.groupby(CFG.grouper).sample(n = CFG.test_sample_frac)   \n",
    "# train.index = range(len(train))\n",
    "\n",
    "# _ = utils.CleanMemory()"
   ]
  },
  {
   "cell_type": "code",
   "execution_count": 13,
   "id": "db92c1a3",
   "metadata": {
    "_kg_hide-input": true,
    "_kg_hide-output": true,
    "execution": {
     "iopub.execute_input": "2024-10-07T00:24:59.932356Z",
     "iopub.status.busy": "2024-10-07T00:24:59.931886Z",
     "iopub.status.idle": "2024-10-07T00:24:59.939863Z",
     "shell.execute_reply": "2024-10-07T00:24:59.938514Z"
    },
    "jupyter": {
     "source_hidden": true
    },
    "papermill": {
     "duration": 0.042006,
     "end_time": "2024-10-07T00:24:59.942484",
     "exception": false,
     "start_time": "2024-10-07T00:24:59.900478",
     "status": "completed"
    },
    "tags": []
   },
   "outputs": [],
   "source": [
    "# %%time \n",
    "\n",
    "# PrintColor(f\"---> Shapes = {train.shape} {test.shape} {sub_fl.shape}\")\n",
    "\n",
    "# Xtrain   = train.drop([CFG.target, CFG.grouper], axis=1, errors = \"ignore\")\n",
    "# ytrain   = train[CFG.target]\n",
    "# ygrp     = train[CFG.grouper]\n",
    "# Xtest    = test.drop([CFG.target, CFG.grouper], axis=1, errors = \"ignore\")\n",
    "\n",
    "# # Defining the data pipeline\n",
    "# xform = \\\n",
    "# Pipeline(\n",
    "#     [(\"XformCols\", FT(XformCols)),\n",
    "#      (\"Xform\",\n",
    "#       ColumnTransformer(\n",
    "#          [(\"SI\", SI(strategy = \"mean\"), make_column_selector(dtype_include = np.number)), \n",
    "#           (\"OE\", \n",
    "#            make_pipeline(\n",
    "#                *[SI(strategy = \"constant\", fill_value = \"missing\"),\n",
    "#                  OrdinalEncoder(return_df = False)\n",
    "#                 ]\n",
    "#            ), \n",
    "#            make_column_selector(pattern = \"activity\")\n",
    "#           )\n",
    "#          ],\n",
    "#          remainder = \"passthrough\", \n",
    "#          verbose_feature_names_out= False,\n",
    "#       )\n",
    "#      )\n",
    "#     ], verbose = False\n",
    "# ).set_output(transform = \"pandas\")\n",
    "\n",
    "# Xtrain = xform.fit_transform(Xtrain, ytrain)\n",
    "# Xtest  = xform.transform(Xtest)\n",
    "\n",
    "# PrintColor(f\"---> Shapes = {Xtrain.shape} {ytrain.shape} {Xtest.shape} {sub_fl.shape}\")\n",
    "\n",
    "# # Initializing CV scheme\n",
    "# cv = cv_selector[CFG.mdlcv_mthd]\n",
    "\n",
    "# # Initializing CV folds across the training data:-\n",
    "# folds = np.zeros(len(Xtrain))\n",
    "# for fold_nb, (train_idx, dev_idx) in enumerate(cv.split(Xtrain, ytrain, ygrp)):\n",
    "#     folds[dev_idx] = fold_nb\n",
    "# Xtrain[\"fold_nb\"] = folds\n",
    "# del folds\n",
    "\n",
    "# # Adding a source column for the training algorithm- this has no impact on the model result\n",
    "# Xtrain[\"Source\"] = \"Competition\"\n",
    "\n",
    "# PrintColor(f\"\\nData pipeline structure\\n\", color = Fore.RED)\n",
    "# display(xform)\n",
    "\n",
    "# PrintColor(f\"---> Shapes = {Xtrain.shape} {ytrain.shape} {Xtest.shape} {sub_fl.shape}\")\n",
    "# PrintColor(utils.CleanMemory())"
   ]
  },
  {
   "cell_type": "code",
   "execution_count": 14,
   "id": "58bd8821",
   "metadata": {
    "_kg_hide-input": true,
    "_kg_hide-output": true,
    "execution": {
     "iopub.execute_input": "2024-10-07T00:25:00.005404Z",
     "iopub.status.busy": "2024-10-07T00:25:00.004864Z",
     "iopub.status.idle": "2024-10-07T00:25:00.020403Z",
     "shell.execute_reply": "2024-10-07T00:25:00.018984Z"
    },
    "jupyter": {
     "source_hidden": true
    },
    "papermill": {
     "duration": 0.051157,
     "end_time": "2024-10-07T00:25:00.023065",
     "exception": false,
     "start_time": "2024-10-07T00:24:59.971908",
     "status": "completed"
    },
    "tags": []
   },
   "outputs": [],
   "source": [
    "# %%writefile -a training.py\n",
    "\n",
    "# class ModelTrainer:\n",
    "#     \"This class trains the provided model on the train-test data and returns the predictions and fitted models\"\n",
    "\n",
    "#     def __init__(\n",
    "#         self,\n",
    "#         es_req         : bool  = False,\n",
    "#         es             : int   = 100,\n",
    "#         target         : str   = CFG.target,\n",
    "#         metric_lbl     : str   = \"rmse\",\n",
    "#         drop_cols      : list  = [\"Source\", \"id\", \"Id\", \"Label\", CFG.target, \"fold_nb\", CFG.grouper],\n",
    "#     ):\n",
    "#         \"\"\"\n",
    "#         Key parameters-\n",
    "#         es_iter - early stopping rounds for boosted trees\n",
    "#         \"\"\"\n",
    "\n",
    "#         drop_cols = list(set(drop_cols + [target]))\n",
    "\n",
    "#         self.es_req         = es_req\n",
    "#         self.es_iter        = es\n",
    "#         self.target         = target\n",
    "#         self.drop_cols      = drop_cols\n",
    "#         self.metric_lbl     = metric_lbl\n",
    "\n",
    "#     def ScoreMetric(self, ytrue, ypred)->float:\n",
    "#         \"\"\"\n",
    "#         This is the metric function for the competition scoring\n",
    "#         \"\"\"\n",
    "#         return rmse(ytrue, ypred)\n",
    "\n",
    "#     def PlotFtreImp(\n",
    "#         self, ftreimp: pd.Series, method: str,\n",
    "#         ntop: int = 50,\n",
    "#         title_specs: dict = CFG.title_specs,\n",
    "#         **params,\n",
    "#     ):\n",
    "#         \"This function plots the feature importances for the model provided\"\n",
    "\n",
    "#         print()\n",
    "#         fig, ax = plt.subplots(1, 1, figsize = (25, 8))\n",
    "\n",
    "#         ftreimp.sort_values(ascending = False).\\\n",
    "#         head(ntop).\\\n",
    "#         plot.bar(ax = ax, color = \"blue\")\n",
    "#         ax.set_title(f\"Feature Importances - {method}\", **title_specs)\n",
    "\n",
    "#         plt.tight_layout()\n",
    "#         plt.show()\n",
    "#         print()\n",
    "\n",
    "#     def PostProcessPreds(self, ypred):\n",
    "#         \"This method post-processes predictions optionally\"\n",
    "#         return np.clip(ypred, a_min = 0, a_max = np.inf)\n",
    "\n",
    "#     def MakeOfflineModel(\n",
    "#         self, X, y, ygrp, Xtest, mdl, method,\n",
    "#         test_preds_req   : bool = True,\n",
    "#         ftreimp_plot_req : bool = True,\n",
    "#         ntop             : int  = 50,\n",
    "#         **params,\n",
    "#     ):\n",
    "#         \"\"\"\n",
    "#         This function trains the provided model on the dataset and cross-validates appropriately\n",
    "\n",
    "#         Inputs-\n",
    "#         X, y, ygrp       - training data components\n",
    "#         Xtest            - test data\n",
    "#         model            - model object for training\n",
    "#         method           - model method label\n",
    "#         test_preds_req   - boolean flag to extract test set predictions\n",
    "#         ftreimp_plot_req - boolean flag to plot tree feature importances\n",
    "#         ntop             - top n features for feature importances plot\n",
    "\n",
    "#         Returns-\n",
    "#         oof_preds, test_preds - prediction arrays\n",
    "#         fitted_models         - fitted model list for test set\n",
    "#         ftreimp               - feature importances across selected features\n",
    "#         mdl_best_iter         - model average best iteration across folds\n",
    "#         \"\"\"\n",
    "\n",
    "#         oof_preds     = np.zeros(len(X))\n",
    "#         test_preds    = []\n",
    "#         mdl_best_iter = []\n",
    "#         ftreimp       = 0\n",
    "\n",
    "#         scores, tr_scores, fitted_models = [], [], []\n",
    "#         cv = PDS(ygrp)\n",
    "#         n_splits = ygrp.nunique()\n",
    "\n",
    "#         for fold_nb, (train_idx, dev_idx) in tqdm(enumerate(cv.split(X, y))):\n",
    "#             Xtr   = X.iloc[train_idx].drop(\"Source\", axis=1, errors = \"ignore\")\n",
    "#             Xdev  = X.iloc[dev_idx].query(\"Source == 'Competition'\").drop(\"Source\", axis=1, errors = \"ignore\")\n",
    "#             ytr   = y.iloc[Xtr.index]\n",
    "#             ydev  = y.iloc[Xdev.index]\n",
    "#             model = clone(mdl)\n",
    "\n",
    "#             if \"CB\" in method and self.es_req == True:\n",
    "#                 model.fit(Xtr, ytr,\n",
    "#                           eval_set = [(Xdev, ydev)],\n",
    "#                           verbose = 0,\n",
    "#                           early_stopping_rounds = self.es_iter,\n",
    "#                           )\n",
    "#                 best_iter = model.get_best_iteration()\n",
    "\n",
    "#             elif \"LGB\" in method and self.es_req == True:\n",
    "#                 model.fit(Xtr, ytr,\n",
    "#                           eval_set = [(Xdev, ydev)],\n",
    "#                           callbacks = [log_evaluation(0),\n",
    "#                                        early_stopping(stopping_rounds = self.es_iter, \n",
    "#                                                       verbose = False,\n",
    "#                                                      ),\n",
    "#                                        ],\n",
    "#                           )\n",
    "#                 best_iter = model.best_iteration_\n",
    "\n",
    "#             elif \"XGB\" in method and self.es_req == True:\n",
    "#                 model.fit(Xtr, ytr,\n",
    "#                           eval_set = [(Xdev, ydev)],\n",
    "#                           verbose  = 0,\n",
    "#                           )\n",
    "#                 best_iter = model.best_iteration\n",
    "\n",
    "#             else:\n",
    "#                 model.fit(Xtr, ytr)\n",
    "#                 best_iter = -1\n",
    "\n",
    "#             fitted_models.append(model)\n",
    "\n",
    "#             try:\n",
    "#                 ftreimp += model.feature_importances_\n",
    "#             except:\n",
    "#                 pass\n",
    "\n",
    "#             dev_preds = self.PostProcessPreds(model.predict(Xdev))\n",
    "#             oof_preds[Xdev.index] = dev_preds\n",
    "\n",
    "#             train_preds  = self.PostProcessPreds(model.predict(Xtr))\n",
    "#             tr_score     = self.ScoreMetric(ytr.values.flatten(), train_preds)\n",
    "#             score        = self.ScoreMetric(ydev.values.flatten(), dev_preds)\n",
    "\n",
    "#             scores.append(score)\n",
    "#             tr_scores.append(tr_score)\n",
    "\n",
    "#             nspace = 15 - len(method) - 2 if fold_nb <= 9 else 15 - len(method) - 1\n",
    "\n",
    "#             if self.es_req:\n",
    "#                 PrintColor(f\"{method} Fold{fold_nb} {' ' * nspace} OOF = {score:.6f} | Train = {tr_score:.6f} | Iter = {best_iter:,.0f} \")\n",
    "#             else:\n",
    "#                 PrintColor(f\"{method} Fold{fold_nb} {' ' * nspace} OOF = {score:.6f} | Train = {tr_score:.6f}\")\n",
    "\n",
    "#             mdl_best_iter.append(best_iter)\n",
    "\n",
    "#             if test_preds_req:\n",
    "#                 test_preds.append(\n",
    "#                     self.PostProcessPreds(\n",
    "#                         model.predict(Xtest)\n",
    "#                     )\n",
    "#                 )\n",
    "#             else:\n",
    "#                 pass\n",
    "\n",
    "#         test_preds    = np.mean(np.stack(test_preds, axis = 1), axis=1)\n",
    "#         ftreimp       = pd.Series(ftreimp, index = Xdev.columns)\n",
    "#         mdl_best_iter = np.uint16(np.amax(mdl_best_iter))\n",
    "\n",
    "#         if ftreimp_plot_req == True and best_iter > 0:\n",
    "#             print()\n",
    "#             self.PlotFtreImp(ftreimp, method = method, ntop = ntop,)\n",
    "#         else:\n",
    "#             pass\n",
    "\n",
    "#         PrintColor(f\"\\n---> {np.mean(scores):.6f} +- {np.std(scores):.6f} | OOF\", color = Fore.RED)\n",
    "#         PrintColor(f\"---> {np.mean(tr_scores):.6f} +- {np.std(tr_scores):.6f} | Train\", color = Fore.RED)\n",
    "\n",
    "#         if self.es_req == False:\n",
    "#             pass\n",
    "#         else:\n",
    "#             PrintColor(f\"---> Max best iteration = {mdl_best_iter :,.0f}\", color = Fore.RED)\n",
    "\n",
    "#         return (fitted_models, oof_preds, test_preds, ftreimp, mdl_best_iter)\n",
    "\n",
    "#     def MakeOnlineModel(\n",
    "#         self, X, y, Xtest, model, method,\n",
    "#         test_preds_req : bool = False,\n",
    "#     ):\n",
    "#         \"This method refits the model on the complete train data and returns the model fitted object and predictions\"\n",
    "\n",
    "#         try:\n",
    "#             model.early_stopping_rounds = None\n",
    "#         except:\n",
    "#             pass\n",
    "\n",
    "#         try:\n",
    "#             model.fit(X, y, verbose = 0)\n",
    "#         except:\n",
    "#             model.fit(X, y,)\n",
    "\n",
    "#         oof_preds  = model.predict(X)\n",
    "#         if test_preds_req:\n",
    "#             test_preds = model.predict(Xtest[X.columns])\n",
    "#         else:\n",
    "#             test_preds = 0\n",
    "#         return (model, oof_preds, test_preds)\n",
    "\n",
    "#     def MakeOfflinePreds(self, X, fitted_models):\n",
    "#         \"This method creates test-set predictions for the offline model provided\"\n",
    "\n",
    "#         test_preds = 0\n",
    "#         n_splits   = len(fitted_models)\n",
    "#         PrintColor(f\"---> Number of splits = {n_splits}\")\n",
    "\n",
    "#         for model in fitted_models:\n",
    "#             test_preds = test_preds + (model.predict(X) / n_splits)\n",
    "\n",
    "#         return test_preds"
   ]
  },
  {
   "cell_type": "code",
   "execution_count": 15,
   "id": "970983b5",
   "metadata": {
    "_kg_hide-input": true,
    "_kg_hide-output": true,
    "execution": {
     "iopub.execute_input": "2024-10-07T00:25:00.086701Z",
     "iopub.status.busy": "2024-10-07T00:25:00.085571Z",
     "iopub.status.idle": "2024-10-07T00:25:00.094851Z",
     "shell.execute_reply": "2024-10-07T00:25:00.093337Z"
    },
    "jupyter": {
     "source_hidden": true
    },
    "papermill": {
     "duration": 0.044164,
     "end_time": "2024-10-07T00:25:00.097455",
     "exception": false,
     "start_time": "2024-10-07T00:25:00.053291",
     "status": "completed"
    },
    "tags": []
   },
   "outputs": [],
   "source": [
    "# %%capture\n",
    "\n",
    "# exec(open('training.py','r').read())\n",
    "\n",
    "# try:\n",
    "#     l = MyLogger()\n",
    "#     l.init(logging_lbl = \"lightgbm_custom\")\n",
    "#     lgb.register_logger(l)\n",
    "# except:\n",
    "#     pass\n",
    "\n",
    "# # Initializing model parameters\n",
    "# Mdl_Master = \\\n",
    "# {\n",
    "#  f'LGBM1R' : LGBMR(**{\"objective\"           : \"regression_l2\",\n",
    "#                       \"metrics\"             : \"rmse\",\n",
    "#                       'device'              : \"gpu\" if CFG.gpu_switch == \"ON\" else \"cpu\",\n",
    "#                       'learning_rate'       : 0.04, \n",
    "#                       'n_estimators'        : 5_000,\n",
    "#                       'max_depth'           : 7, \n",
    "#                       'num_leaves'          : 60, \n",
    "#                       'min_data_in_leaf'    : 80,\n",
    "#                       'feature_fraction'    : 0.70, \n",
    "#                       'bagging_fraction'    : 0.88, \n",
    "#                       'bagging_freq'        : 6, \n",
    "#                       'lambda_l1'           : 0.001, \n",
    "#                       'lambda_l2'           : 0.1,\n",
    "#                       'verbosity'           : -1,\n",
    "#                       'random_state'        : CFG.state,\n",
    "#                      }\n",
    "#                   ),\n",
    "\n",
    "#  f'XGB1R' : XGBR(**{  \"objective\"             : \"reg:squarederror\",\n",
    "#                       \"eval_metric\"           : \"rmse\", \n",
    "#                       'device'                : \"cuda\" if CFG.gpu_switch == \"ON\" else \"cpu\",\n",
    "#                       'learning_rate'         : 0.04, \n",
    "#                       'n_estimators'          : 5_000,\n",
    "#                       'max_depth'             : 7, \n",
    "#                       'colsample_bytree'      : 0.75, \n",
    "#                       'colsample_bynode'      : 0.85,\n",
    "#                       'colsample_bylevel'     : 0.45,                     \n",
    "#                       'reg_alpha'             : 0.001, \n",
    "#                       'reg_lambda'            : 0.25,\n",
    "#                       'verbose'               : 0,\n",
    "#                       'random_state'          : CFG.state,\n",
    "#                       'enable_categorical'    : True,\n",
    "#                       'callbacks'             : [XGBLogging(epoch_log_interval= 0)],\n",
    "#                       'early_stopping_rounds' : CFG.nbrnd_erly_stp, \n",
    "#                      }\n",
    "#                   ),\n",
    "\n",
    "#  f'CB1R' : CBR(**{'task_type'           : \"CPU\",\n",
    "#                   'loss_function'       : 'RMSE',\n",
    "#                   'eval_metric'         : \"RMSE\",\n",
    "#                   'bagging_temperature' : 0.25,\n",
    "#                   'colsample_bylevel'   : 0.40,\n",
    "#                   'iterations'          : 5_000,\n",
    "#                   'learning_rate'       : 0.04,\n",
    "#                   'max_depth'           : 7,\n",
    "#                   'l2_leaf_reg'         : 0.80,\n",
    "#                   'min_data_in_leaf'    : 70,\n",
    "#                   'random_strength'     : 0.25,\n",
    "#                   'verbose'             : 0,\n",
    "#                  }\n",
    "#               ),\n",
    "# }\n",
    "\n",
    "# # Initializing model outputs\n",
    "# OOF_Preds    = {}\n",
    "# Mdl_Preds    = {}\n",
    "# FittedModels = {}\n",
    "# FtreImp      = {}\n",
    "# SelMdlCols   = {}"
   ]
  },
  {
   "cell_type": "code",
   "execution_count": 16,
   "id": "4c5aaee6",
   "metadata": {
    "_kg_hide-input": true,
    "_kg_hide-output": true,
    "execution": {
     "iopub.execute_input": "2024-10-07T00:25:00.162726Z",
     "iopub.status.busy": "2024-10-07T00:25:00.161312Z",
     "iopub.status.idle": "2024-10-07T00:25:00.169224Z",
     "shell.execute_reply": "2024-10-07T00:25:00.167695Z"
    },
    "jupyter": {
     "source_hidden": true
    },
    "papermill": {
     "duration": 0.04305,
     "end_time": "2024-10-07T00:25:00.171933",
     "exception": false,
     "start_time": "2024-10-07T00:25:00.128883",
     "status": "completed"
    },
    "tags": []
   },
   "outputs": [],
   "source": [
    "# %%time \n",
    "\n",
    "# # Creating CV scheme:-\n",
    "# md = ModelTrainer(es         = CFG.nbrnd_erly_stp, \n",
    "#                   target     = CFG.target,\n",
    "#                   es_req     = True,\n",
    "#                   metric_lbl = \"rmse\",\n",
    "#                  )\n",
    "\n",
    "# for method, mdl in tqdm(Mdl_Master.items()):\n",
    "#     PrintColor(f\"\\n{'-' * 10} {method} MODEL TRAINING - {CFG.target} {'-' * 10}\\n\", \n",
    "#                color = Fore.MAGENTA\n",
    "#               )\n",
    "\n",
    "#     fitted_models, oof_preds, test_preds, ftreimp, mdl_best_iter =  \\\n",
    "#     md.MakeOfflineModel(\n",
    "#         Xtrain.drop([CFG.target, \"fold_nb\", CFG.grouper], axis = 1, errors = \"ignore\"),\n",
    "#         ytrain,\n",
    "#         Xtrain[\"fold_nb\"],\n",
    "#         Xtest.drop([CFG.target, \"fold_nb\", CFG.grouper], axis = 1, errors = \"ignore\"),\n",
    "#         clone(mdl),\n",
    "#         method,\n",
    "#         test_preds_req   = True,\n",
    "#         ftreimp_plot_req = True,\n",
    "#         ntop = 50,\n",
    "#     ) \n",
    "\n",
    "#     # Integrating data    \n",
    "#     OOF_Preds[f\"{method}\"]  = oof_preds\n",
    "#     Mdl_Preds[f\"{method}\"]  = test_preds\n",
    "#     FtreImp[f\"{method}\"]    = ftreimp\n",
    "\n",
    "#     del fitted_models, oof_preds, test_preds, ftreimp, mdl_best_iter\n",
    "#     _ = utils.CleanMemory()\n",
    "\n",
    "# PrintColor(utils.CleanMemory())"
   ]
  },
  {
   "cell_type": "code",
   "execution_count": 17,
   "id": "d102fa81",
   "metadata": {
    "_kg_hide-input": true,
    "_kg_hide-output": true,
    "execution": {
     "iopub.execute_input": "2024-10-07T00:25:00.234800Z",
     "iopub.status.busy": "2024-10-07T00:25:00.234311Z",
     "iopub.status.idle": "2024-10-07T00:25:00.241128Z",
     "shell.execute_reply": "2024-10-07T00:25:00.239718Z"
    },
    "jupyter": {
     "source_hidden": true
    },
    "papermill": {
     "duration": 0.042171,
     "end_time": "2024-10-07T00:25:00.244189",
     "exception": false,
     "start_time": "2024-10-07T00:25:00.202018",
     "status": "completed"
    },
    "tags": []
   },
   "outputs": [],
   "source": [
    "# %%time \n",
    "\n",
    "# oof_preds  = pd.DataFrame.from_dict(OOF_Preds, orient = \"columns\")\n",
    "# mdl_preds  = pd.DataFrame.from_dict(Mdl_Preds, orient = \"columns\")\n",
    "# test_preds = 0\n",
    "# scores     = 0\n",
    "# ens_preds  = np.zeros(len(oof_preds))\n",
    "# mycv       = PDS(Xtrain[\"fold_nb\"])\n",
    "\n",
    "# PrintColor(f\"\\n ----- Ridge Ensemble ----- \\n\") \n",
    "\n",
    "# for fold_nb, (train_idx, dev_idx) in enumerate(mycv.split(oof_preds, ytrain)):\n",
    "#     Xtr  = oof_preds.iloc[train_idx]\n",
    "#     ytr  = ytrain.loc[train_idx]\n",
    "#     Xdev = oof_preds.iloc[dev_idx]\n",
    "#     ydev = ytrain.loc[dev_idx]\n",
    "\n",
    "#     model = Ridge()\n",
    "#     model.fit(Xtr, ytr)\n",
    "\n",
    "#     dev_preds  = model.predict(Xdev)\n",
    "#     test_preds = test_preds + (model.predict(mdl_preds) / CFG.n_splits)\n",
    "#     score      = utils.ScoreMetric(ydev, dev_preds)\n",
    "#     PrintColor(f\"---> Fold{fold_nb} Score = {score:.6f}\", color = Fore.CYAN)\n",
    "#     scores = scores + (score / CFG.n_splits)\n",
    "\n",
    "#     ens_preds[dev_idx] = dev_preds\n",
    "\n",
    "# PrintColor(f\"\\n---> Mean Score = {scores:.6f}\")"
   ]
  },
  {
   "cell_type": "code",
   "execution_count": 18,
   "id": "12883e57",
   "metadata": {
    "_kg_hide-input": true,
    "_kg_hide-output": true,
    "execution": {
     "iopub.execute_input": "2024-10-07T00:25:00.307969Z",
     "iopub.status.busy": "2024-10-07T00:25:00.306892Z",
     "iopub.status.idle": "2024-10-07T00:25:00.312831Z",
     "shell.execute_reply": "2024-10-07T00:25:00.311570Z"
    },
    "jupyter": {
     "source_hidden": true
    },
    "papermill": {
     "duration": 0.040962,
     "end_time": "2024-10-07T00:25:00.315748",
     "exception": false,
     "start_time": "2024-10-07T00:25:00.274786",
     "status": "completed"
    },
    "tags": []
   },
   "outputs": [],
   "source": [
    "# %%time \n",
    "\n",
    "# oof_preds.assign(**{\"Ensemble\": ens_preds}).\\\n",
    "# to_csv(\n",
    "#     os.path.join(CFG.op_path, f\"OOF_Preds_{CFG.model_label}{CFG.model_id}.csv\")\n",
    "# )\n",
    "\n",
    "# mdl_preds.assign(**{\"Ensemble\": test_preds}).\\\n",
    "# to_csv(\n",
    "#     os.path.join(CFG.op_path, f\"Mdl_Preds_{CFG.model_label}{CFG.model_id}.csv\")\n",
    "# )\n",
    "\n",
    "# sub_fl[CFG.target] = test_preds\n",
    "# sub_fl.to_csv(\n",
    "#     os.path.join(CFG.op_path, f\"submission_1.csv\")\n",
    "# )\n",
    "\n",
    "# print()\n",
    "# !ls\n",
    "# print()\n",
    "# !head submission.csv\n",
    "\n",
    "# _ = utils.CleanMemory()\n",
    "# print()"
   ]
  },
  {
   "cell_type": "markdown",
   "id": "3a112346",
   "metadata": {
    "papermill": {
     "duration": 0.030593,
     "end_time": "2024-10-07T00:25:00.377065",
     "exception": false,
     "start_time": "2024-10-07T00:25:00.346472",
     "status": "completed"
    },
    "tags": []
   },
   "source": [
    "## 2. [Blood Glucose Prediction](https://www.kaggle.com/code/sierra022/blood-glucose-prediction)\n",
    "### [Shashank Mouli](https://www.kaggle.com/sierra022)"
   ]
  },
  {
   "cell_type": "code",
   "execution_count": 19,
   "id": "accb2c15",
   "metadata": {
    "_kg_hide-input": true,
    "_kg_hide-output": true,
    "execution": {
     "iopub.execute_input": "2024-10-07T00:25:00.504165Z",
     "iopub.status.busy": "2024-10-07T00:25:00.503701Z",
     "iopub.status.idle": "2024-10-07T00:25:03.715487Z",
     "shell.execute_reply": "2024-10-07T00:25:03.713889Z"
    },
    "jupyter": {
     "source_hidden": true
    },
    "papermill": {
     "duration": 3.245958,
     "end_time": "2024-10-07T00:25:03.718260",
     "exception": false,
     "start_time": "2024-10-07T00:25:00.472302",
     "status": "completed"
    },
    "tags": []
   },
   "outputs": [
    {
     "name": "stdout",
     "output_type": "stream",
     "text": [
      "/kaggle/input/trainedlightgbm/scikitlearn/default/1/finalmodel.pkl\n",
      "/kaggle/input/brist1d/sample_submission.csv\n",
      "/kaggle/input/brist1d/activities.txt\n",
      "/kaggle/input/brist1d/train.csv\n",
      "/kaggle/input/brist1d/test.csv\n"
     ]
    }
   ],
   "source": [
    "if 'SOLUTION_2' in ENSEMBLE_SOLUTIONS:\n",
    "\n",
    "    # This Python 3 environment comes with many helpful analytics libraries installed\n",
    "    # It is defined by the kaggle/python Docker image: https://github.com/kaggle/docker-python\n",
    "    # For example, here's several helpful packages to load\n",
    "\n",
    "    import numpy as np # linear algebra\n",
    "    import pandas as pd # data processing, CSV file I/O (e.g. pd.read_csv)\n",
    "    # Setup Cell\n",
    "    import pandas as pd\n",
    "    import numpy as np\n",
    "    from sklearn.preprocessing import StandardScaler, LabelEncoder\n",
    "    from sklearn.impute import SimpleImputer\n",
    "    import xgboost as xgb  \n",
    "    # Input data files are available in the read-only \"../input/\" directory\n",
    "    # For example, running this (by clicking run or pressing Shift+Enter) will list all files under the input directory\n",
    "\n",
    "    import os\n",
    "    for dirname, _, filenames in os.walk('/kaggle/input'):\n",
    "        for filename in filenames:\n",
    "            print(os.path.join(dirname, filename))\n",
    "\n",
    "    # You can write up to 20GB to the current directory (/kaggle/working/) that gets preserved as output when you create a version using \"Save & Run All\" \n",
    "    # You can also write temporary files to /kaggle/temp/, but they won't be saved outside of the current session"
   ]
  },
  {
   "cell_type": "code",
   "execution_count": 20,
   "id": "0d1fe437",
   "metadata": {
    "_kg_hide-input": true,
    "_kg_hide-output": true,
    "execution": {
     "iopub.execute_input": "2024-10-07T00:25:03.780420Z",
     "iopub.status.busy": "2024-10-07T00:25:03.779783Z",
     "iopub.status.idle": "2024-10-07T00:25:20.385447Z",
     "shell.execute_reply": "2024-10-07T00:25:20.383691Z"
    },
    "jupyter": {
     "source_hidden": true
    },
    "papermill": {
     "duration": 16.640289,
     "end_time": "2024-10-07T00:25:20.388579",
     "exception": false,
     "start_time": "2024-10-07T00:25:03.748290",
     "status": "completed"
    },
    "tags": []
   },
   "outputs": [
    {
     "name": "stderr",
     "output_type": "stream",
     "text": [
      "/tmp/ipykernel_17/3869539884.py:3: DtypeWarning: Columns (435,436,437,438,439,440,441,442,443,444,445,446,447,448,449,450,451,452,453,454,455,456,457,458,459,460,461,462,463,464,465,466,467,468,469,470,471,472,473,474,475,476,477,478,479,480,481,482,483,484,485,486,487,488,489,490,491,492,493,494,495,496,497,498,499,500,501,502,503,504,505,506) have mixed types. Specify dtype option on import or set low_memory=False.\n",
      "  train=pd.read_csv(\"/kaggle/input/brist1d/train.csv\")\n"
     ]
    },
    {
     "name": "stdout",
     "output_type": "stream",
     "text": [
      "len(train):177024,len(test):3644\n"
     ]
    }
   ],
   "source": [
    "if 'SOLUTION_2' in ENSEMBLE_SOLUTIONS: \n",
    "    \n",
    "    train=pd.read_csv(\"/kaggle/input/brist1d/train.csv\")\n",
    "    test=pd.read_csv(\"/kaggle/input/brist1d/test.csv\")\n",
    "    submission_df = pd.read_csv('/kaggle/input/brist1d/sample_submission.csv')\n",
    "    print(f\"len(train):{len(train)},len(test):{len(test)}\")\n",
    "    train.head()"
   ]
  },
  {
   "cell_type": "code",
   "execution_count": 21,
   "id": "0cf8d8c5",
   "metadata": {
    "_kg_hide-input": true,
    "_kg_hide-output": true,
    "execution": {
     "iopub.execute_input": "2024-10-07T00:25:20.453178Z",
     "iopub.status.busy": "2024-10-07T00:25:20.452708Z",
     "iopub.status.idle": "2024-10-07T00:25:20.525201Z",
     "shell.execute_reply": "2024-10-07T00:25:20.523997Z"
    },
    "jupyter": {
     "source_hidden": true
    },
    "papermill": {
     "duration": 0.109802,
     "end_time": "2024-10-07T00:25:20.529596",
     "exception": false,
     "start_time": "2024-10-07T00:25:20.419794",
     "status": "completed"
    },
    "tags": []
   },
   "outputs": [],
   "source": [
    "if 'SOLUTION_2' in ENSEMBLE_SOLUTIONS:\n",
    "    \n",
    "    train['time'] = pd.to_datetime(train['time'], format='%H:%M:%S')\n",
    "    test['time'] = pd.to_datetime(test['time'], format='%H:%M:%S')"
   ]
  },
  {
   "cell_type": "code",
   "execution_count": 22,
   "id": "3d61bf9e",
   "metadata": {
    "_kg_hide-input": true,
    "_kg_hide-output": true,
    "execution": {
     "iopub.execute_input": "2024-10-07T00:25:20.596809Z",
     "iopub.status.busy": "2024-10-07T00:25:20.596355Z",
     "iopub.status.idle": "2024-10-07T00:25:21.264389Z",
     "shell.execute_reply": "2024-10-07T00:25:21.262993Z"
    },
    "jupyter": {
     "source_hidden": true
    },
    "papermill": {
     "duration": 0.705929,
     "end_time": "2024-10-07T00:25:21.267774",
     "exception": false,
     "start_time": "2024-10-07T00:25:20.561845",
     "status": "completed"
    },
    "tags": []
   },
   "outputs": [],
   "source": [
    "if 'SOLUTION_2' in ENSEMBLE_SOLUTIONS:\n",
    "    \n",
    "    # Extract hour and minute as numerical features\n",
    "    train['hour'] = train['time'].dt.hour\n",
    "    train['minute'] = train['time'].dt.minute\n",
    "    test['hour'] = test['time'].dt.hour\n",
    "    test['minute'] = test['time'].dt.minute\n",
    "\n",
    "    # Drop 'time' column\n",
    "    train.drop('time', axis=1, inplace=True)\n",
    "    test.drop('time', axis=1, inplace=True)\n",
    "\n",
    "    # Identify numerical and categorical columns\n",
    "    numerical_cols = train.select_dtypes(include=['float64', 'int64']).columns.tolist()\n",
    "    numerical_cols.remove('bg+1:00')  # Remove target variable from features\n",
    "    categorical_cols = [col for col in train.columns if 'activity' in col]"
   ]
  },
  {
   "cell_type": "code",
   "execution_count": 23,
   "id": "6392f464",
   "metadata": {
    "_kg_hide-input": true,
    "_kg_hide-output": true,
    "execution": {
     "iopub.execute_input": "2024-10-07T00:25:21.335334Z",
     "iopub.status.busy": "2024-10-07T00:25:21.334899Z",
     "iopub.status.idle": "2024-10-07T00:25:25.373043Z",
     "shell.execute_reply": "2024-10-07T00:25:25.371503Z"
    },
    "jupyter": {
     "source_hidden": true
    },
    "papermill": {
     "duration": 4.075886,
     "end_time": "2024-10-07T00:25:25.376255",
     "exception": false,
     "start_time": "2024-10-07T00:25:21.300369",
     "status": "completed"
    },
    "tags": []
   },
   "outputs": [],
   "source": [
    "if 'SOLUTION_2' in ENSEMBLE_SOLUTIONS:\n",
    "    \n",
    "    # Impute missing numerical values\n",
    "    imputer = SimpleImputer(strategy='mean')\n",
    "    train[numerical_cols] = imputer.fit_transform(train[numerical_cols])\n",
    "    test[numerical_cols] = imputer.transform(test[numerical_cols])"
   ]
  },
  {
   "cell_type": "code",
   "execution_count": 24,
   "id": "6a3bb640",
   "metadata": {
    "_kg_hide-input": true,
    "_kg_hide-output": true,
    "execution": {
     "iopub.execute_input": "2024-10-07T00:25:25.441873Z",
     "iopub.status.busy": "2024-10-07T00:25:25.441288Z",
     "iopub.status.idle": "2024-10-07T00:25:34.671068Z",
     "shell.execute_reply": "2024-10-07T00:25:34.669823Z"
    },
    "jupyter": {
     "source_hidden": true
    },
    "papermill": {
     "duration": 9.266085,
     "end_time": "2024-10-07T00:25:34.674141",
     "exception": false,
     "start_time": "2024-10-07T00:25:25.408056",
     "status": "completed"
    },
    "tags": []
   },
   "outputs": [],
   "source": [
    "if 'SOLUTION_2' in ENSEMBLE_SOLUTIONS:\n",
    "\n",
    "    # Encode categorical variables\n",
    "    for col in categorical_cols:\n",
    "        train[col] = train[col].fillna('None')\n",
    "        test[col] = test[col].fillna('None')\n",
    "        le = LabelEncoder()\n",
    "        combined_data = pd.concat([train[col], test[col]], axis=0)\n",
    "        le.fit(combined_data)\n",
    "        train[col] = le.transform(train[col])\n",
    "        test[col] = le.transform(test[col])\n",
    "\n",
    "    # Scale numerical features\n",
    "    scaler = StandardScaler()\n",
    "    train[numerical_cols] = scaler.fit_transform(train[numerical_cols])\n",
    "    test[numerical_cols] = scaler.transform(test[numerical_cols])\n",
    "\n",
    "    # Prepare data for modeling\n",
    "    X_train = train.drop(['id', 'p_num', 'bg+1:00'], axis=1)\n",
    "    y_train = train['bg+1:00']\n",
    "    X_test = test.drop(['id', 'p_num'], axis=1)"
   ]
  },
  {
   "cell_type": "code",
   "execution_count": 25,
   "id": "6bac9ad2",
   "metadata": {
    "_kg_hide-input": true,
    "_kg_hide-output": true,
    "execution": {
     "iopub.execute_input": "2024-10-07T00:25:34.740357Z",
     "iopub.status.busy": "2024-10-07T00:25:34.739826Z",
     "iopub.status.idle": "2024-10-07T00:25:34.748756Z",
     "shell.execute_reply": "2024-10-07T00:25:34.747089Z"
    },
    "jupyter": {
     "source_hidden": true
    },
    "papermill": {
     "duration": 0.044597,
     "end_time": "2024-10-07T00:25:34.751799",
     "exception": false,
     "start_time": "2024-10-07T00:25:34.707202",
     "status": "completed"
    },
    "tags": []
   },
   "outputs": [],
   "source": [
    "if 'SOLUTION_2' in ENSEMBLE_SOLUTIONS:\n",
    "    \n",
    "    '''\n",
    "    import numpy as np\n",
    "    from sklearn.model_selection import train_test_split\n",
    "    from sklearn.metrics import mean_squared_error\n",
    "    from sklearn.linear_model import LinearRegression\n",
    "    from sklearn.ensemble import RandomForestRegressor\n",
    "    from xgboost import XGBRegressor\n",
    "\n",
    "    # Split data into training and validation sets\n",
    "    X_train_split, X_val_split, y_train_split, y_val_split = train_test_split(\n",
    "        X_train, y_train, test_size=0.2, random_state=42\n",
    "    )\n",
    "\n",
    "\n",
    "    # Train a Linear Regression model\n",
    "    lr_model = LinearRegression()\n",
    "    lr_model.fit(X_train_split, y_train_split)\n",
    "    lr_predictions = lr_model.predict(X_val_split)\n",
    "    lr_rmse = np.sqrt(mean_squared_error(y_val_split, lr_predictions))\n",
    "    print(f\"Linear Regression RMSE: {lr_rmse}\")\n",
    "\n",
    "    # Train a Random Forest model\n",
    "    rf_model = RandomForestRegressor(n_estimators=100, random_state=42)\n",
    "    rf_model.fit(X_train_split, y_train_split)\n",
    "    rf_predictions = rf_model.predict(X_val_split)\n",
    "    rf_rmse = np.sqrt(mean_squared_error(y_val_split, rf_predictions))\n",
    "    print(f\"Random Forest RMSE: {rf_rmse}\")\n",
    "\n",
    "    # Train an XGBoost model\n",
    "    xgb_model = XGBRegressor(objective='reg:squarederror', n_estimators=100, random_state=42)\n",
    "    xgb_model.fit(X_train_split, y_train_split)\n",
    "    xgb_predictions = xgb_model.predict(X_val_split)\n",
    "    xgb_rmse = np.sqrt(mean_squared_error(y_val_split, xgb_predictions))\n",
    "    print(f\"XGBoost RMSE: {xgb_rmse}\")\n",
    "\n",
    "\n",
    "    # Choose the best model based on validation performance and make predictions on the test set\n",
    "    best_model = xgb_model  # Replace with the model that performed best on the validation set\n",
    "    test_predictions = best_model.predict(X_test)\n",
    "\n",
    "    # Create a submission DataFrame\n",
    "    submission_df['bg+1:00'] = test_predictions\n",
    "\n",
    "    # Save the submission file\n",
    "    submission_df.to_csv('submission.csv', index=False)\n",
    "    '''"
   ]
  },
  {
   "cell_type": "code",
   "execution_count": 26,
   "id": "001a3f60",
   "metadata": {
    "_kg_hide-input": true,
    "_kg_hide-output": true,
    "execution": {
     "iopub.execute_input": "2024-10-07T00:25:34.815593Z",
     "iopub.status.busy": "2024-10-07T00:25:34.815101Z",
     "iopub.status.idle": "2024-10-07T00:25:47.883044Z",
     "shell.execute_reply": "2024-10-07T00:25:47.878410Z"
    },
    "jupyter": {
     "source_hidden": true
    },
    "papermill": {
     "duration": 13.104644,
     "end_time": "2024-10-07T00:25:47.887498",
     "exception": false,
     "start_time": "2024-10-07T00:25:34.782854",
     "status": "completed"
    },
    "tags": []
   },
   "outputs": [
    {
     "name": "stdout",
     "output_type": "stream",
     "text": [
      "Linear Regression RMSE: 2.097090424433175\n"
     ]
    }
   ],
   "source": [
    "if 'SOLUTION_2' in ENSEMBLE_SOLUTIONS:\n",
    "    \n",
    "    import numpy as np\n",
    "    from sklearn.model_selection import train_test_split\n",
    "    from sklearn.metrics import mean_squared_error\n",
    "    from sklearn.linear_model import LinearRegression\n",
    "    from sklearn.ensemble import RandomForestRegressor\n",
    "    from xgboost import XGBRegressor\n",
    "\n",
    "    # Split data into training and validation sets\n",
    "    X_train_split, X_val_split, y_train_split, y_val_split = train_test_split(\n",
    "        X_train, y_train, test_size=0.2, random_state=42\n",
    "    )\n",
    "\n",
    "\n",
    "    # Train a Linear Regression model\n",
    "    lr_model = LinearRegression()\n",
    "    lr_model.fit(X_train_split, y_train_split)\n",
    "    lr_predictions = lr_model.predict(X_val_split)\n",
    "    lr_rmse = np.sqrt(mean_squared_error(y_val_split, lr_predictions))\n",
    "    print(f\"Linear Regression RMSE: {lr_rmse}\")"
   ]
  },
  {
   "cell_type": "code",
   "execution_count": 27,
   "id": "d4f81818",
   "metadata": {
    "_kg_hide-input": true,
    "_kg_hide-output": true,
    "execution": {
     "iopub.execute_input": "2024-10-07T00:25:48.007586Z",
     "iopub.status.busy": "2024-10-07T00:25:48.007080Z",
     "iopub.status.idle": "2024-10-07T00:26:16.492043Z",
     "shell.execute_reply": "2024-10-07T00:26:16.490990Z"
    },
    "jupyter": {
     "source_hidden": true
    },
    "papermill": {
     "duration": 28.540994,
     "end_time": "2024-10-07T00:26:16.494406",
     "exception": false,
     "start_time": "2024-10-07T00:25:47.953412",
     "status": "completed"
    },
    "tags": []
   },
   "outputs": [
    {
     "name": "stdout",
     "output_type": "stream",
     "text": [
      "XGBoost RMSE: 1.8536434659924146\n"
     ]
    }
   ],
   "source": [
    "if 'SOLUTION_2' in ENSEMBLE_SOLUTIONS:\n",
    "    \n",
    "    import numpy as np\n",
    "    from sklearn.model_selection import train_test_split\n",
    "    from sklearn.metrics import mean_squared_error\n",
    "    from sklearn.linear_model import LinearRegression\n",
    "    from sklearn.ensemble import RandomForestRegressor\n",
    "    from xgboost import XGBRegressor\n",
    "\n",
    "    # Split data into training and validation sets\n",
    "    X_train_split, X_val_split, y_train_split, y_val_split = train_test_split(X_train, y_train, test_size=0.2, random_state=42)\n",
    "\n",
    "    # Train an XGBoost model\n",
    "    xgb_model = XGBRegressor(objective='reg:squarederror', n_estimators=100, random_state=42)\n",
    "    xgb_model.fit(X_train_split, y_train_split)\n",
    "    xgb_predictions = xgb_model.predict(X_val_split)\n",
    "    xgb_rmse = np.sqrt(mean_squared_error(y_val_split, xgb_predictions))\n",
    "    print(f\"XGBoost RMSE: {xgb_rmse}\")"
   ]
  },
  {
   "cell_type": "code",
   "execution_count": 28,
   "id": "cba4f03c",
   "metadata": {
    "_kg_hide-input": true,
    "_kg_hide-output": true,
    "execution": {
     "iopub.execute_input": "2024-10-07T00:26:16.560160Z",
     "iopub.status.busy": "2024-10-07T00:26:16.559725Z",
     "iopub.status.idle": "2024-10-07T00:26:16.687371Z",
     "shell.execute_reply": "2024-10-07T00:26:16.685701Z"
    },
    "jupyter": {
     "source_hidden": true
    },
    "papermill": {
     "duration": 0.163561,
     "end_time": "2024-10-07T00:26:16.690837",
     "exception": false,
     "start_time": "2024-10-07T00:26:16.527276",
     "status": "completed"
    },
    "tags": []
   },
   "outputs": [],
   "source": [
    "if 'SOLUTION_2' in ENSEMBLE_SOLUTIONS:\n",
    "    \n",
    "    # Choose the best model based on validation performance and make predictions on the test set\n",
    "    best_model = xgb_model \n",
    "    test_predictions = best_model.predict(X_test)\n",
    "\n",
    "    # Create a submission DataFrame\n",
    "    submission_df['bg+1:00'] = test_predictions\n",
    "\n",
    "    # Save the submission file\n",
    "    submission_df.to_csv('submission_2.csv', index=False)"
   ]
  },
  {
   "cell_type": "markdown",
   "id": "085f592a",
   "metadata": {
    "papermill": {
     "duration": 0.031632,
     "end_time": "2024-10-07T00:26:16.754560",
     "exception": false,
     "start_time": "2024-10-07T00:26:16.722928",
     "status": "completed"
    },
    "tags": []
   },
   "source": [
    "## 3. [BrisT1D Yunbase](https://www.kaggle.com/code/yunsuxiaozi/brist1d-yunbase)\n",
    "### [yunsuxiaozi](https://www.kaggle.com/yunsuxiaozi)"
   ]
  },
  {
   "cell_type": "code",
   "execution_count": 29,
   "id": "4dced060",
   "metadata": {
    "_kg_hide-input": true,
    "_kg_hide-output": true,
    "execution": {
     "iopub.execute_input": "2024-10-07T00:26:16.821705Z",
     "iopub.status.busy": "2024-10-07T00:26:16.821173Z",
     "iopub.status.idle": "2024-10-07T00:26:18.808813Z",
     "shell.execute_reply": "2024-10-07T00:26:18.807002Z"
    },
    "jupyter": {
     "source_hidden": true
    },
    "papermill": {
     "duration": 2.024611,
     "end_time": "2024-10-07T00:26:18.811861",
     "exception": false,
     "start_time": "2024-10-07T00:26:16.787250",
     "status": "completed"
    },
    "tags": []
   },
   "outputs": [
    {
     "name": "stdout",
     "output_type": "stream",
     "text": [
      "Cloning into 'Yunbase'...\r\n",
      "remote: Enumerating objects: 50, done.\u001b[K\r\n",
      "remote: Counting objects: 100% (50/50), done.\u001b[K\r\n",
      "remote: Compressing objects: 100% (36/36), done.\u001b[K\r\n",
      "remote: Total 50 (delta 24), reused 39 (delta 13), pack-reused 0 (from 0)\u001b[K\r\n",
      "Unpacking objects: 100% (50/50), 23.81 KiB | 840.00 KiB/s, done.\r\n"
     ]
    }
   ],
   "source": [
    "if 'SOLUTION_3' in ENSEMBLE_SOLUTIONS:\n",
    "    \n",
    "    !git clone https://github.com/yunsuxiaozi/Yunbase.git"
   ]
  },
  {
   "cell_type": "code",
   "execution_count": 30,
   "id": "6ab69bff",
   "metadata": {
    "_kg_hide-input": true,
    "_kg_hide-output": true,
    "execution": {
     "iopub.execute_input": "2024-10-07T00:26:18.879726Z",
     "iopub.status.busy": "2024-10-07T00:26:18.879129Z",
     "iopub.status.idle": "2024-10-07T09:10:00.027769Z",
     "shell.execute_reply": "2024-10-07T09:10:00.025915Z"
    },
    "jupyter": {
     "source_hidden": true
    },
    "papermill": {
     "duration": 31421.186666,
     "end_time": "2024-10-07T09:10:00.031224",
     "exception": false,
     "start_time": "2024-10-07T00:26:18.844558",
     "status": "completed"
    },
    "tags": []
   },
   "outputs": [
    {
     "name": "stdout",
     "output_type": "stream",
     "text": [
      "Currently supported metrics:['custom_metric', 'mae', 'rmse', 'mse', 'medae', 'rmsle', 'auc', 'f1_score', 'mcc', 'accuracy', 'logloss']\n",
      "Currently supported models:['lgb', 'cat', 'xgb']\n",
      "Currently supported kfolds:['KFold', 'GroupKFold', 'StratifiedKFold', 'StratifiedGroupKFold']\n",
      "Currently supported objectives:['binary', 'multi_class', 'regression']\n",
      "len(train):177024\n",
      "time feature\n",
      "nan_count feature\n",
      "fillna\n",
      "diff feature\n",
      "cross feature\n",
      "------------------------------\n",
      "Memory usage of dataframe is 726.95 MB\n",
      "Memory usage after optimization is: 461.23 MB\n",
      "Decreased by 36.6%\n",
      "name:lgb,fold:0\n",
      "Training until validation scores don't improve for 100 rounds\n",
      "[100]\tvalid_0's rmse: 2.2213\n",
      "[200]\tvalid_0's rmse: 2.20617\n",
      "Early stopping, best iteration is:\n",
      "[195]\tvalid_0's rmse: 2.20558\n",
      "name:lgb,fold:1\n",
      "Training until validation scores don't improve for 100 rounds\n",
      "[100]\tvalid_0's rmse: 2.22185\n",
      "[200]\tvalid_0's rmse: 2.21575\n",
      "Early stopping, best iteration is:\n",
      "[143]\tvalid_0's rmse: 2.21274\n",
      "name:lgb,fold:2\n",
      "Training until validation scores don't improve for 100 rounds\n",
      "[100]\tvalid_0's rmse: 1.68959\n",
      "Early stopping, best iteration is:\n",
      "[80]\tvalid_0's rmse: 1.68743\n",
      "name:lgb,fold:3\n",
      "Training until validation scores don't improve for 100 rounds\n",
      "[100]\tvalid_0's rmse: 1.79295\n",
      "Early stopping, best iteration is:\n",
      "[85]\tvalid_0's rmse: 1.78989\n",
      "name:lgb,fold:4\n",
      "Training until validation scores don't improve for 100 rounds\n",
      "[100]\tvalid_0's rmse: 2.03248\n",
      "[200]\tvalid_0's rmse: 2.00852\n",
      "[300]\tvalid_0's rmse: 1.99755\n",
      "[400]\tvalid_0's rmse: 1.99516\n",
      "[500]\tvalid_0's rmse: 1.98923\n",
      "[600]\tvalid_0's rmse: 1.9874\n",
      "[700]\tvalid_0's rmse: 1.98524\n",
      "[800]\tvalid_0's rmse: 1.98516\n",
      "Early stopping, best iteration is:\n",
      "[769]\tvalid_0's rmse: 1.98436\n",
      "name:lgb,fold:5\n",
      "Training until validation scores don't improve for 100 rounds\n",
      "[100]\tvalid_0's rmse: 2.39325\n",
      "[200]\tvalid_0's rmse: 2.35967\n",
      "[300]\tvalid_0's rmse: 2.33537\n",
      "[400]\tvalid_0's rmse: 2.31618\n",
      "[500]\tvalid_0's rmse: 2.31327\n",
      "[600]\tvalid_0's rmse: 2.30637\n",
      "[700]\tvalid_0's rmse: 2.29844\n",
      "[800]\tvalid_0's rmse: 2.29623\n",
      "[900]\tvalid_0's rmse: 2.2937\n",
      "[1000]\tvalid_0's rmse: 2.29287\n",
      "[1100]\tvalid_0's rmse: 2.28673\n",
      "[1200]\tvalid_0's rmse: 2.28653\n",
      "[1300]\tvalid_0's rmse: 2.28202\n",
      "Early stopping, best iteration is:\n",
      "[1246]\tvalid_0's rmse: 2.28068\n",
      "name:lgb,fold:6\n",
      "Training until validation scores don't improve for 100 rounds\n",
      "[100]\tvalid_0's rmse: 2.80693\n",
      "[200]\tvalid_0's rmse: 2.77006\n",
      "[300]\tvalid_0's rmse: 2.75578\n",
      "[400]\tvalid_0's rmse: 2.75657\n",
      "Early stopping, best iteration is:\n",
      "[343]\tvalid_0's rmse: 2.75128\n",
      "name:lgb,fold:7\n",
      "Training until validation scores don't improve for 100 rounds\n",
      "[100]\tvalid_0's rmse: 2.22483\n",
      "[200]\tvalid_0's rmse: 2.23566\n",
      "Early stopping, best iteration is:\n",
      "[103]\tvalid_0's rmse: 2.22335\n",
      "name:lgb,fold:8\n",
      "Training until validation scores don't improve for 100 rounds\n",
      "[100]\tvalid_0's rmse: 2.15619\n",
      "[200]\tvalid_0's rmse: 2.14764\n",
      "[300]\tvalid_0's rmse: 2.14903\n",
      "Early stopping, best iteration is:\n",
      "[282]\tvalid_0's rmse: 2.14524\n",
      "custom_metric:2.092837543977096\n",
      "name:cat,fold:0\n",
      "0:\tlearn: 2.8448671\ttest: 3.0381327\tbest: 3.0381327 (0)\ttotal: 5.57s\tremaining: 15h 27m 54s\n",
      "200:\tlearn: 1.4058215\ttest: 2.2077647\tbest: 2.2048324 (115)\ttotal: 19m 23s\tremaining: 15h 45m 23s\n",
      "Stopped by overfitting detector  (100 iterations wait)\n",
      "\n",
      "bestTest = 2.204832449\n",
      "bestIteration = 115\n",
      "\n",
      "Shrink model to first 116 iterations.\n",
      "name:cat,fold:1\n",
      "0:\tlearn: 2.8486242\ttest: 3.0641027\tbest: 3.0641027 (0)\ttotal: 5.75s\tremaining: 15h 58m 30s\n",
      "Stopped by overfitting detector  (100 iterations wait)\n",
      "\n",
      "bestTest = 2.246936453\n",
      "bestIteration = 68\n",
      "\n",
      "Shrink model to first 69 iterations.\n",
      "name:cat,fold:2\n",
      "0:\tlearn: 2.9365816\ttest: 2.6216305\tbest: 2.6216305 (0)\ttotal: 5.31s\tremaining: 14h 44m 15s\n",
      "Stopped by overfitting detector  (100 iterations wait)\n",
      "\n",
      "bestTest = 1.706714967\n",
      "bestIteration = 68\n",
      "\n",
      "Shrink model to first 69 iterations.\n",
      "name:cat,fold:3\n",
      "0:\tlearn: 2.8979272\ttest: 2.7526577\tbest: 2.7526577 (0)\ttotal: 5.29s\tremaining: 14h 41m 40s\n",
      "Stopped by overfitting detector  (100 iterations wait)\n",
      "\n",
      "bestTest = 1.826771435\n",
      "bestIteration = 56\n",
      "\n",
      "Shrink model to first 57 iterations.\n",
      "name:cat,fold:4\n",
      "0:\tlearn: 2.9603639\ttest: 2.2676011\tbest: 2.2676011 (0)\ttotal: 5.83s\tremaining: 16h 10m 59s\n",
      "Stopped by overfitting detector  (100 iterations wait)\n",
      "\n",
      "bestTest = 2.027977539\n",
      "bestIteration = 18\n",
      "\n",
      "Shrink model to first 19 iterations.\n",
      "name:cat,fold:5\n",
      "0:\tlearn: 2.8533846\ttest: 3.0802066\tbest: 3.0802066 (0)\ttotal: 6.14s\tremaining: 17h 4m 9s\n",
      "200:\tlearn: 1.4129563\ttest: 2.4615798\tbest: 2.4350673 (139)\ttotal: 19m 18s\tremaining: 15h 41m 7s\n",
      "Stopped by overfitting detector  (100 iterations wait)\n",
      "\n",
      "bestTest = 2.435067276\n",
      "bestIteration = 139\n",
      "\n",
      "Shrink model to first 140 iterations.\n",
      "name:cat,fold:6\n",
      "0:\tlearn: 2.8060215\ttest: 4.0194259\tbest: 4.0194259 (0)\ttotal: 5.77s\tremaining: 16h 2m 23s\n",
      "200:\tlearn: 1.4036640\ttest: 2.9120677\tbest: 2.8794825 (121)\ttotal: 20m 12s\tremaining: 16h 25m 27s\n",
      "Stopped by overfitting detector  (100 iterations wait)\n",
      "\n",
      "bestTest = 2.879482485\n",
      "bestIteration = 121\n",
      "\n",
      "Shrink model to first 122 iterations.\n",
      "name:cat,fold:7\n",
      "0:\tlearn: 2.8307715\ttest: 3.6576981\tbest: 3.6576981 (0)\ttotal: 6.16s\tremaining: 17h 6m 43s\n",
      "Stopped by overfitting detector  (100 iterations wait)\n",
      "\n",
      "bestTest = 2.256346542\n",
      "bestIteration = 57\n",
      "\n",
      "Shrink model to first 58 iterations.\n",
      "name:cat,fold:8\n",
      "0:\tlearn: 2.8681833\ttest: 2.9995908\tbest: 2.9995908 (0)\ttotal: 5.56s\tremaining: 15h 27m 14s\n",
      "Stopped by overfitting detector  (100 iterations wait)\n",
      "\n",
      "bestTest = 2.141267496\n",
      "bestIteration = 71\n",
      "\n",
      "Shrink model to first 72 iterations.\n",
      "custom_metric:2.143907285848774\n",
      "name:xgb,fold:0\n",
      "[0]\tvalidation_0-rmse:3.14454\n",
      "[200]\tvalidation_0-rmse:2.23576\n",
      "[400]\tvalidation_0-rmse:2.20720\n",
      "[600]\tvalidation_0-rmse:2.20457\n",
      "[800]\tvalidation_0-rmse:2.20430\n",
      "[863]\tvalidation_0-rmse:2.20421\n",
      "name:xgb,fold:1\n",
      "[0]\tvalidation_0-rmse:3.16423\n",
      "[200]\tvalidation_0-rmse:2.24272\n",
      "[400]\tvalidation_0-rmse:2.20231\n",
      "[600]\tvalidation_0-rmse:2.19583\n",
      "[800]\tvalidation_0-rmse:2.19521\n",
      "[1000]\tvalidation_0-rmse:2.19339\n",
      "[1097]\tvalidation_0-rmse:2.19386\n",
      "name:xgb,fold:2\n",
      "[0]\tvalidation_0-rmse:2.71218\n",
      "[200]\tvalidation_0-rmse:1.78311\n",
      "[400]\tvalidation_0-rmse:1.73191\n",
      "[466]\tvalidation_0-rmse:1.73365\n",
      "name:xgb,fold:3\n",
      "[0]\tvalidation_0-rmse:2.85878\n",
      "[200]\tvalidation_0-rmse:1.85488\n",
      "[400]\tvalidation_0-rmse:1.80258\n",
      "[600]\tvalidation_0-rmse:1.79991\n",
      "[611]\tvalidation_0-rmse:1.80017\n",
      "name:xgb,fold:4\n",
      "[0]\tvalidation_0-rmse:2.31824\n",
      "[200]\tvalidation_0-rmse:2.09436\n",
      "[270]\tvalidation_0-rmse:2.09916\n",
      "name:xgb,fold:5\n",
      "[0]\tvalidation_0-rmse:3.14167\n",
      "[200]\tvalidation_0-rmse:2.38445\n",
      "[238]\tvalidation_0-rmse:2.39366\n",
      "name:xgb,fold:6\n",
      "[0]\tvalidation_0-rmse:4.16062\n",
      "[200]\tvalidation_0-rmse:2.88054\n",
      "[400]\tvalidation_0-rmse:2.82068\n",
      "[600]\tvalidation_0-rmse:2.80669\n",
      "[800]\tvalidation_0-rmse:2.80293\n",
      "[867]\tvalidation_0-rmse:2.80315\n",
      "name:xgb,fold:7\n",
      "[0]\tvalidation_0-rmse:3.80663\n",
      "[200]\tvalidation_0-rmse:2.31277\n",
      "[400]\tvalidation_0-rmse:2.24538\n",
      "[541]\tvalidation_0-rmse:2.24589\n",
      "name:xgb,fold:8\n",
      "[0]\tvalidation_0-rmse:3.10736\n",
      "[200]\tvalidation_0-rmse:2.19836\n",
      "[400]\tvalidation_0-rmse:2.15926\n",
      "[600]\tvalidation_0-rmse:2.15495\n",
      "[685]\tvalidation_0-rmse:2.15714\n",
      "custom_metric:2.128615901557458\n",
      "final_custom_metric:2.087632782697154\n",
      "len(test):3644\n",
      "time feature\n",
      "nan_count feature\n",
      "fillna\n",
      "diff feature\n",
      "cross feature\n",
      "------------------------------\n",
      "Memory usage of dataframe is 14.94 MB\n",
      "Memory usage after optimization is: 9.48 MB\n",
      "Decreased by 36.5%\n"
     ]
    }
   ],
   "source": [
    "if 'SOLUTION_3' in ENSEMBLE_SOLUTIONS:\n",
    "    \n",
    "    from Yunbase.baseline import Yunbase\n",
    "    #necessary\n",
    "    import pandas as pd#导入csv文件的库\n",
    "    import numpy as np#对矩阵进行科学计算的库\n",
    "    import warnings#避免一些可以忽略的报错\n",
    "    warnings.filterwarnings('ignore')#filterwarnings()方法是用于设置警告过滤器的方法，它可以控制警告信息的输出方式和级别。\n",
    "    import random#提供了一些用于生成随机数的函数\n",
    "    #设置随机种子,保证模型可以复现\n",
    "    def seed_everything(seed):\n",
    "        np.random.seed(seed)#numpy的随机种子\n",
    "        random.seed(seed)#python内置的随机种子\n",
    "    seed_everything(seed=2024)\n",
    "\n",
    "    #所有的特征['bg', 'insulin','hr', 'steps', 'cals']:#'activity','carbs'超过0.95的缺失值,drop\n",
    "    def FE(df):\n",
    "\n",
    "        print(\"time feature\")\n",
    "        df['time']=pd.to_datetime(df['time'])\n",
    "        df['hour']=df['time'].dt.hour\n",
    "        df['minute']=df['time'].dt.minute\n",
    "        df['sin_hour']=np.sin(2*np.pi*df['hour']/24)\n",
    "        df['cos_hour']=np.cos(2*np.pi*df['hour']/24)\n",
    "        df['sin_minute']=np.sin(2*np.pi*df['minute']/60)\n",
    "        df['cos_minute']=np.cos(2*np.pi*df['minute']/60)\n",
    "\n",
    "        #step的相关列,长尾分布,用均值填充,然后log1p变换\n",
    "        cols=[col for col in list(df.columns) if 'step' in col]\n",
    "        for c in cols:\n",
    "            df[c]=df[c].fillna(53).astype(np.float32)\n",
    "            df[c]=np.log1p(df[c])\n",
    "\n",
    "        print(\"nan_count feature\")\n",
    "        for c in ['bg', 'insulin','hr', 'steps', 'cals']:\n",
    "            v=df[[col for col in df.columns if (col!='bg+1:00') and (c in col)]].values\n",
    "            df[f'{c}_nan_mean']=np.mean(v!=v,axis=1)#按行求缺失值占比\n",
    "\n",
    "        #bg里相邻的value相关性分别是0.99,0.97,0.95,但是其他特征相邻的value相关性可能就只有0,8X\n",
    "        #所以最终决定,bg每隔4个取一个值,但是其他特征原封不动不做采样.\n",
    "        #不确定是数据本身相关性不高,还是因为缺失值的数量多导致相关性不高.\n",
    "        #相关性不高的,不能用前向和后向填充,相关性高的可以这样操作.\n",
    "        print(\"fillna\")\n",
    "        for c in ['bg']:\n",
    "            c_list=[col for col in list(df.columns) if (col!='bg+1:00') and (c in col)]\n",
    "            df[c_list]=df[c_list].replace('None',np.nan)\n",
    "            df[c_list]=df[c_list].astype(np.float32)\n",
    "            #前向填充和后向填充\n",
    "            df_c=df[c_list].values\n",
    "            for i in range(len(df_c)):\n",
    "                for j in range(1,len(c_list)):\n",
    "                    if df_c[i][j]!=df_c[i][j]:#如果df_bg[i][j]是缺失值\n",
    "                        df_c[i][j]=df_c[i][j-1]\n",
    "            for i in range(len(df_c)):\n",
    "                for j in range(len(c_list)-2,-1,-1):\n",
    "                    if df_c[i][j]!=df_c[i][j]:#如果df_bg[i][j]是缺失值\n",
    "                        df_c[i][j]=df_c[i][j+1]\n",
    "            df[c_list]=df_c\n",
    "\n",
    "        #缺失值占比超过0.95的列\n",
    "        nan_cols=['carbs-5:55', 'carbs-5:50', 'carbs-5:45', 'carbs-5:40', 'carbs-5:35', 'carbs-5:30', 'carbs-5:25', 'carbs-5:20', 'carbs-5:15', 'carbs-5:10', 'carbs-5:05', 'carbs-5:00', 'carbs-4:55', 'carbs-4:50', 'carbs-4:45', 'carbs-4:40', 'carbs-4:35', 'carbs-4:30', 'carbs-4:25', 'carbs-4:20', 'carbs-4:15', 'carbs-4:10', 'carbs-4:05', 'carbs-4:00', 'carbs-3:55', 'carbs-3:50', 'carbs-3:45', 'carbs-3:40', 'carbs-3:35', 'carbs-3:30', 'carbs-3:25', 'carbs-3:20', 'carbs-3:15', 'carbs-3:10', 'carbs-3:05', 'carbs-3:00', 'carbs-2:55', 'carbs-2:50', 'carbs-2:45', 'carbs-2:40', 'carbs-2:35', 'carbs-2:30', 'carbs-2:25', 'carbs-2:20', 'carbs-2:15', 'carbs-2:10', 'carbs-2:05', 'carbs-2:00', 'carbs-1:55', 'carbs-1:50', 'carbs-1:45', 'carbs-1:40', 'carbs-1:35', 'carbs-1:30', 'carbs-1:25', 'carbs-1:20', 'carbs-1:15', 'carbs-1:10', 'carbs-1:05', 'carbs-1:00', 'carbs-0:55', 'carbs-0:50', 'carbs-0:45', 'carbs-0:40', 'carbs-0:35', 'carbs-0:30', 'carbs-0:25', 'carbs-0:20', 'carbs-0:15', 'carbs-0:10', 'carbs-0:05', 'carbs-0:00', 'activity-5:55', 'activity-5:50', 'activity-5:45', 'activity-5:40', 'activity-5:35', 'activity-5:30', 'activity-5:25', 'activity-5:20', 'activity-5:15', 'activity-5:10', 'activity-5:05', 'activity-5:00', 'activity-4:55', 'activity-4:50', 'activity-4:45', 'activity-4:40', 'activity-4:35', 'activity-4:30', 'activity-4:25', 'activity-4:20', 'activity-4:15', 'activity-4:10', 'activity-4:05', 'activity-4:00', 'activity-3:55', 'activity-3:50', 'activity-3:45', 'activity-3:40', 'activity-3:35', 'activity-3:30', 'activity-3:25', 'activity-3:20', 'activity-3:15', 'activity-3:10', 'activity-3:05', 'activity-3:00', 'activity-2:55', 'activity-2:50', 'activity-2:45', 'activity-2:40', 'activity-2:35', 'activity-2:30', 'activity-2:25', 'activity-2:20', 'activity-2:15', 'activity-2:10', 'activity-2:05', 'activity-2:00', 'activity-1:55', 'activity-1:50', 'activity-1:45', 'activity-1:40', 'activity-1:35', 'activity-1:30', 'activity-1:25', 'activity-1:20', 'activity-1:15', 'activity-1:10', 'activity-1:05', 'activity-1:00', 'activity-0:55', 'activity-0:50', 'activity-0:45', 'activity-0:40', 'activity-0:35', 'activity-0:30', 'activity-0:25', 'activity-0:20', 'activity-0:15', 'activity-0:10', 'activity-0:05', 'activity-0:00']\n",
    "        #就近填充缺失值后drop\n",
    "        drop_bg=['bg-5:55', 'bg-5:50', 'bg-5:45', 'bg-5:35', 'bg-5:30', 'bg-5:25', 'bg-5:15', 'bg-5:10', 'bg-5:05', 'bg-4:55', 'bg-4:50', 'bg-4:45', 'bg-4:35', 'bg-4:30', 'bg-4:25', 'bg-4:15', 'bg-4:10', 'bg-4:05', 'bg-3:55', 'bg-3:50', 'bg-3:45', 'bg-3:35', 'bg-3:30', 'bg-3:25', 'bg-3:15', 'bg-3:10', 'bg-3:05', 'bg-2:55', 'bg-2:50', 'bg-2:45', 'bg-2:35', 'bg-2:30', 'bg-2:25', 'bg-2:15', 'bg-2:10', 'bg-2:05', 'bg-1:55', 'bg-1:50', 'bg-1:45', 'bg-1:35', 'bg-1:30', 'bg-1:25', 'bg-1:15', 'bg-1:10', 'bg-1:05', 'bg-0:55', 'bg-0:50', 'bg-0:45', 'bg-0:35', 'bg-0:30', 'bg-0:25', 'bg-0:15', 'bg-0:10', 'bg-0:05']\n",
    "        #id没有实际的意义,time已经做好特征工程了\n",
    "        df.drop(['id','time']+nan_cols+drop_bg,axis=1,inplace=True)\n",
    "\n",
    "        #hr列为什么会有str?\n",
    "        for c in [col for col in df.columns if 'hr' in col]:\n",
    "            df[c]=df[c].astype(np.float32)\n",
    "\n",
    "        print(f\"diff feature\")\n",
    "        for c in ['bg', 'insulin','hr','steps', 'cals']:\n",
    "            c_list=[col for col in df.columns if (col!='bg+1:00') and (c in col)]\n",
    "            v=np.diff(df[c_list].values,axis=1)\n",
    "            for i in range(v.shape[1]):\n",
    "                if i%2==0:#一方面特征数量太多,一方面相邻特征相关性高\n",
    "                    df[f'{c}_1stdiff_{i}']=v[:,i]\n",
    "\n",
    "            v2=np.diff(v,axis=1)\n",
    "            for i in range(v2.shape[1]):\n",
    "                if i%2==1:#一方面特征数量太多,一方面相邻特征相关性高\n",
    "                    df[f'{c}_2nddiff_{i}']=v2[:,i]\n",
    "\n",
    "        print(\"cross feature\")\n",
    "        cross=['bg', 'insulin','steps','hr','cals']\n",
    "        for i in range(len(cross)):\n",
    "            for j in range(i+1,len(cross)):\n",
    "                df[cross[i]+\"-0:00+\"+cross[j]+'-0:00']=df[cross[i]+\"-0:00\"]+df[cross[j]+\"-0:00\"]\n",
    "                df[cross[i]+\"-0:00-\"+cross[j]+'-0:00']=df[cross[i]+\"-0:00\"]-df[cross[j]+\"-0:00\"]\n",
    "                df[cross[i]+\"-0:00*\"+cross[j]+'-0:00']=df[cross[i]+\"-0:00\"]*df[cross[j]+\"-0:00\"]\n",
    "                df[cross[i]+\"-0:00/\"+cross[j]+'-0:00']=df[cross[i]+\"-0:00\"]/(df[cross[j]+\"-0:00\"]+1e-15)\n",
    "        print(\"-\"*30)\n",
    "        return df\n",
    "\n",
    "    def custom_metric(y_true,y_pred):\n",
    "        return np.sqrt(np.mean((y_true-y_pred)**2))\n",
    "\n",
    "    yunbase=Yunbase(num_folds=9,\n",
    "                      models=[],\n",
    "                      FE=FE,\n",
    "                      seed=2024,\n",
    "                      objective='regression',\n",
    "                      metric='custom_metric',\n",
    "                      custom_metric=custom_metric,#'rmse',\n",
    "                      nan_margin=0.95,\n",
    "                      group_col='p_num',\n",
    "                      target_col='bg+1:00',\n",
    "                      device='cpu'\n",
    "                   )\n",
    "    yunbase.fit(train_path_or_file=\"/kaggle/input/brist1d/train.csv\")\n",
    "    test_preds=yunbase.predict(test_path_or_file=\"/kaggle/input/brist1d/test.csv\")\n",
    "    yunbase.submit(submission_path='/kaggle/input/brist1d/sample_submission.csv',test_preds=test_preds)"
   ]
  },
  {
   "cell_type": "code",
   "execution_count": 31,
   "id": "777ef8e2",
   "metadata": {
    "_kg_hide-input": true,
    "_kg_hide-output": true,
    "execution": {
     "iopub.execute_input": "2024-10-07T09:10:00.127082Z",
     "iopub.status.busy": "2024-10-07T09:10:00.126521Z",
     "iopub.status.idle": "2024-10-07T09:10:00.137614Z",
     "shell.execute_reply": "2024-10-07T09:10:00.136113Z"
    },
    "jupyter": {
     "source_hidden": true
    },
    "papermill": {
     "duration": 0.063182,
     "end_time": "2024-10-07T09:10:00.140652",
     "exception": false,
     "start_time": "2024-10-07T09:10:00.077470",
     "status": "completed"
    },
    "tags": []
   },
   "outputs": [],
   "source": [
    "if 'SOLUTION_3' in ENSEMBLE_SOLUTIONS:\n",
    "    \n",
    "    yunbase.train.head()"
   ]
  },
  {
   "cell_type": "code",
   "execution_count": 32,
   "id": "18dd3fa2",
   "metadata": {
    "_kg_hide-input": true,
    "_kg_hide-output": true,
    "execution": {
     "iopub.execute_input": "2024-10-07T09:10:00.241324Z",
     "iopub.status.busy": "2024-10-07T09:10:00.240796Z",
     "iopub.status.idle": "2024-10-07T09:10:00.248877Z",
     "shell.execute_reply": "2024-10-07T09:10:00.247526Z"
    },
    "jupyter": {
     "source_hidden": true
    },
    "papermill": {
     "duration": 0.061203,
     "end_time": "2024-10-07T09:10:00.251895",
     "exception": false,
     "start_time": "2024-10-07T09:10:00.190692",
     "status": "completed"
    },
    "tags": []
   },
   "outputs": [],
   "source": [
    "if 'SOLUTION_3' in ENSEMBLE_SOLUTIONS:\n",
    "    \n",
    "    import os\n",
    "\n",
    "    try:\n",
    "        os.rename('/kaggle/working/yunbase.csv', '/kaggle/working/submission_3.csv')\n",
    "    except FileNotFoundError:\n",
    "        print(\"Chinese master file not found\")\n",
    "    except PermissionError:\n",
    "        print(\"No access to rename chinese master file\")"
   ]
  },
  {
   "cell_type": "markdown",
   "id": "954da960",
   "metadata": {
    "papermill": {
     "duration": 0.047492,
     "end_time": "2024-10-07T09:10:00.347372",
     "exception": false,
     "start_time": "2024-10-07T09:10:00.299880",
     "status": "completed"
    },
    "tags": []
   },
   "source": [
    "## 4. [BloodGlucosePrediction - BlueCast](https://www.kaggle.com/code/thomasmeiner/bloodglucoseprediction-bluecast)\n",
    "### [Thomas Meißner](https://www.kaggle.com/thomasmeiner)"
   ]
  },
  {
   "cell_type": "code",
   "execution_count": 33,
   "id": "b251a0b3",
   "metadata": {
    "_kg_hide-input": true,
    "_kg_hide-output": true,
    "execution": {
     "iopub.execute_input": "2024-10-07T09:10:00.447312Z",
     "iopub.status.busy": "2024-10-07T09:10:00.446846Z",
     "iopub.status.idle": "2024-10-07T09:10:18.946625Z",
     "shell.execute_reply": "2024-10-07T09:10:18.944516Z"
    },
    "jupyter": {
     "source_hidden": true
    },
    "papermill": {
     "duration": 18.551824,
     "end_time": "2024-10-07T09:10:18.950096",
     "exception": false,
     "start_time": "2024-10-07T09:10:00.398272",
     "status": "completed"
    },
    "tags": []
   },
   "outputs": [],
   "source": [
    "%%capture\n",
    "!pip install optuna-integration"
   ]
  },
  {
   "cell_type": "code",
   "execution_count": 34,
   "id": "fb67bc33",
   "metadata": {
    "_kg_hide-input": true,
    "_kg_hide-output": true,
    "execution": {
     "iopub.execute_input": "2024-10-07T09:10:19.049377Z",
     "iopub.status.busy": "2024-10-07T09:10:19.048017Z",
     "iopub.status.idle": "2024-10-07T09:10:19.058838Z",
     "shell.execute_reply": "2024-10-07T09:10:19.057363Z"
    },
    "jupyter": {
     "source_hidden": true
    },
    "papermill": {
     "duration": 0.065014,
     "end_time": "2024-10-07T09:10:19.062056",
     "exception": false,
     "start_time": "2024-10-07T09:10:18.997042",
     "status": "completed"
    },
    "scrolled": true,
    "tags": []
   },
   "outputs": [],
   "source": [
    "if 'SOLUTION_4' in ENSEMBLE_SOLUTIONS:\n",
    "    \n",
    "    !pip install git+https://github.com/ThomasMeissnerDS/BlueCast.git@mini_fix_feature_type_detector"
   ]
  },
  {
   "cell_type": "code",
   "execution_count": 35,
   "id": "ffbf8ea4",
   "metadata": {
    "_kg_hide-input": true,
    "_kg_hide-output": true,
    "execution": {
     "iopub.execute_input": "2024-10-07T09:10:19.156219Z",
     "iopub.status.busy": "2024-10-07T09:10:19.155683Z",
     "iopub.status.idle": "2024-10-07T09:10:19.167235Z",
     "shell.execute_reply": "2024-10-07T09:10:19.165856Z"
    },
    "jupyter": {
     "source_hidden": true
    },
    "papermill": {
     "duration": 0.06176,
     "end_time": "2024-10-07T09:10:19.169780",
     "exception": false,
     "start_time": "2024-10-07T09:10:19.108020",
     "status": "completed"
    },
    "tags": []
   },
   "outputs": [],
   "source": [
    "if 'SOLUTION_4' in ENSEMBLE_SOLUTIONS:\n",
    "    \n",
    "    # Setup Cell\n",
    "    import pandas as pd\n",
    "    import numpy as np\n",
    "\n",
    "    from bluecast.blueprints.cast import BlueCast\n",
    "    from bluecast.blueprints.cast_regression import BlueCastRegression\n",
    "    from bluecast.blueprints.cast_cv import BlueCastCV\n",
    "    from bluecast.blueprints.cast_cv_regression import BlueCastCVRegression\n",
    "    from bluecast.config.training_config import TrainingConfig, XgboostTuneParamsConfig\n",
    "    from bluecast.preprocessing.custom import CustomPreprocessing\n",
    "    from bluecast.general_utils.general_utils import save_to_production, load_for_production\n",
    "\n",
    "    from bluecast.preprocessing.feature_types import FeatureTypeDetector\n",
    "    from bluecast.preprocessing.feature_creation import AddRowLevelAggFeatures, FeatureClusteringScorer, GroupLevelAggFeatures, add_groupby_agg_feats\n",
    "    # Load datasets with low_memory=False to suppress DtypeWarning\n",
    "    train = pd.read_csv('/kaggle/input/brist1d/train.csv', low_memory=False)\n",
    "    test = pd.read_csv('/kaggle/input/brist1d/test.csv', low_memory=False)\n",
    "\n",
    "    target = 'bg+1:00'"
   ]
  },
  {
   "cell_type": "code",
   "execution_count": 36,
   "id": "9a8fec50",
   "metadata": {
    "_kg_hide-input": true,
    "_kg_hide-output": true,
    "collapsed": true,
    "execution": {
     "iopub.execute_input": "2024-10-07T09:10:19.264766Z",
     "iopub.status.busy": "2024-10-07T09:10:19.263096Z",
     "iopub.status.idle": "2024-10-07T09:10:19.269996Z",
     "shell.execute_reply": "2024-10-07T09:10:19.268576Z"
    },
    "jupyter": {
     "outputs_hidden": true,
     "source_hidden": true
    },
    "papermill": {
     "duration": 0.057397,
     "end_time": "2024-10-07T09:10:19.272659",
     "exception": false,
     "start_time": "2024-10-07T09:10:19.215262",
     "status": "completed"
    },
    "tags": []
   },
   "outputs": [],
   "source": [
    "if 'SOLUTION_4' in ENSEMBLE_SOLUTIONS:\n",
    "\n",
    "    display(train)"
   ]
  },
  {
   "cell_type": "code",
   "execution_count": 37,
   "id": "7a01a7ae",
   "metadata": {
    "_kg_hide-input": true,
    "_kg_hide-output": true,
    "collapsed": true,
    "execution": {
     "iopub.execute_input": "2024-10-07T09:10:19.366471Z",
     "iopub.status.busy": "2024-10-07T09:10:19.365909Z",
     "iopub.status.idle": "2024-10-07T09:10:19.372261Z",
     "shell.execute_reply": "2024-10-07T09:10:19.370730Z"
    },
    "jupyter": {
     "outputs_hidden": true,
     "source_hidden": true
    },
    "papermill": {
     "duration": 0.056915,
     "end_time": "2024-10-07T09:10:19.375063",
     "exception": false,
     "start_time": "2024-10-07T09:10:19.318148",
     "status": "completed"
    },
    "tags": []
   },
   "outputs": [],
   "source": [
    "if 'SOLUTION_4' in ENSEMBLE_SOLUTIONS:    \n",
    "    \n",
    "    display(test)"
   ]
  },
  {
   "cell_type": "code",
   "execution_count": 38,
   "id": "cc4b04e3",
   "metadata": {
    "_kg_hide-input": true,
    "_kg_hide-output": true,
    "execution": {
     "iopub.execute_input": "2024-10-07T09:10:19.470477Z",
     "iopub.status.busy": "2024-10-07T09:10:19.469919Z",
     "iopub.status.idle": "2024-10-07T09:10:19.478581Z",
     "shell.execute_reply": "2024-10-07T09:10:19.476972Z"
    },
    "jupyter": {
     "source_hidden": true
    },
    "papermill": {
     "duration": 0.061502,
     "end_time": "2024-10-07T09:10:19.481816",
     "exception": false,
     "start_time": "2024-10-07T09:10:19.420314",
     "status": "completed"
    },
    "tags": []
   },
   "outputs": [],
   "source": [
    "if 'SOLUTION_4' in ENSEMBLE_SOLUTIONS:\n",
    "    \n",
    "    # Convert 'time' column to datetime and extract features\n",
    "    train['time'] = pd.to_datetime(train['time'], format='%H:%M:%S')\n",
    "    test['time'] = pd.to_datetime(test['time'], format='%H:%M:%S')\n",
    "\n",
    "\n",
    "    # Prepare data for modeling\n",
    "    X_train = train.drop(['id'], axis=1)\n",
    "    X_test = test.drop(['id'], axis=1)"
   ]
  },
  {
   "cell_type": "code",
   "execution_count": 39,
   "id": "b0e830ff",
   "metadata": {
    "_kg_hide-input": true,
    "execution": {
     "iopub.execute_input": "2024-10-07T09:10:19.579499Z",
     "iopub.status.busy": "2024-10-07T09:10:19.578406Z",
     "iopub.status.idle": "2024-10-07T09:10:19.584679Z",
     "shell.execute_reply": "2024-10-07T09:10:19.583416Z"
    },
    "jupyter": {
     "source_hidden": true
    },
    "papermill": {
     "duration": 0.058287,
     "end_time": "2024-10-07T09:10:19.587184",
     "exception": false,
     "start_time": "2024-10-07T09:10:19.528897",
     "status": "completed"
    },
    "tags": []
   },
   "outputs": [],
   "source": [
    "if 'SOLUTION_4' in ENSEMBLE_SOLUTIONS:\n",
    "    \n",
    "    print(X_train.shape, X_test.shape)"
   ]
  },
  {
   "cell_type": "code",
   "execution_count": 40,
   "id": "d9e7c717",
   "metadata": {
    "_kg_hide-input": true,
    "execution": {
     "iopub.execute_input": "2024-10-07T09:10:19.682915Z",
     "iopub.status.busy": "2024-10-07T09:10:19.681065Z",
     "iopub.status.idle": "2024-10-07T09:10:19.688868Z",
     "shell.execute_reply": "2024-10-07T09:10:19.687540Z"
    },
    "jupyter": {
     "source_hidden": true
    },
    "papermill": {
     "duration": 0.058418,
     "end_time": "2024-10-07T09:10:19.691813",
     "exception": false,
     "start_time": "2024-10-07T09:10:19.633395",
     "status": "completed"
    },
    "tags": []
   },
   "outputs": [],
   "source": [
    "if 'SOLUTION_4' in ENSEMBLE_SOLUTIONS:\n",
    "    \n",
    "    automl = BlueCastCVRegression(class_problem=\"regression\")\n",
    "    automl.conf_training.hypertuning_cv_folds = 5\n",
    "    automl.conf_training.hypertuning_cv_repeats = 1\n",
    "    automl.conf_xgboost.max_depth_max = 7\n",
    "    #automl.conf_training.enable_feature_selection = True"
   ]
  },
  {
   "cell_type": "code",
   "execution_count": 41,
   "id": "2bac987d",
   "metadata": {
    "_kg_hide-input": true,
    "execution": {
     "iopub.execute_input": "2024-10-07T09:10:19.785522Z",
     "iopub.status.busy": "2024-10-07T09:10:19.785008Z",
     "iopub.status.idle": "2024-10-07T09:10:19.791814Z",
     "shell.execute_reply": "2024-10-07T09:10:19.790311Z"
    },
    "jupyter": {
     "source_hidden": true
    },
    "papermill": {
     "duration": 0.056944,
     "end_time": "2024-10-07T09:10:19.794426",
     "exception": false,
     "start_time": "2024-10-07T09:10:19.737482",
     "status": "completed"
    },
    "tags": []
   },
   "outputs": [],
   "source": [
    "if 'SOLUTION_4' in ENSEMBLE_SOLUTIONS:\n",
    "\n",
    "    automl.fit(X_train.copy(), target_col=target)"
   ]
  },
  {
   "cell_type": "code",
   "execution_count": 42,
   "id": "af22ac8c",
   "metadata": {
    "_kg_hide-input": true,
    "execution": {
     "iopub.execute_input": "2024-10-07T09:10:19.887820Z",
     "iopub.status.busy": "2024-10-07T09:10:19.887260Z",
     "iopub.status.idle": "2024-10-07T09:10:19.895035Z",
     "shell.execute_reply": "2024-10-07T09:10:19.893720Z"
    },
    "jupyter": {
     "source_hidden": true
    },
    "papermill": {
     "duration": 0.05784,
     "end_time": "2024-10-07T09:10:19.897576",
     "exception": false,
     "start_time": "2024-10-07T09:10:19.839736",
     "status": "completed"
    },
    "tags": []
   },
   "outputs": [],
   "source": [
    "if 'SOLUTION_4' in ENSEMBLE_SOLUTIONS:\n",
    "    \n",
    "    # Submission Cell\n",
    "\n",
    "    # Predict on test data\n",
    "    test_preds = automl.predict(X_test)\n",
    "\n",
    "    # Create submission file\n",
    "    submission = pd.DataFrame({\n",
    "        'id': test['id'],\n",
    "        'bg+1:00': test_preds\n",
    "    })\n",
    "\n",
    "    submission.to_csv('/kaggle/working/submission_4.csv', index=False)"
   ]
  },
  {
   "cell_type": "markdown",
   "id": "54c2035f",
   "metadata": {
    "papermill": {
     "duration": 0.046416,
     "end_time": "2024-10-07T09:10:19.989359",
     "exception": false,
     "start_time": "2024-10-07T09:10:19.942943",
     "status": "completed"
    },
    "tags": []
   },
   "source": [
    "## 5. [BloodGlucosePredictionGPU XGBoost](https://www.kaggle.com/code/twobob/bloodglucosepredictiongpu-xgboost)\n",
    "### [Twobob Club](https://www.kaggle.com/twobob)"
   ]
  },
  {
   "cell_type": "code",
   "execution_count": 43,
   "id": "38fd45a2",
   "metadata": {
    "_kg_hide-input": true,
    "execution": {
     "iopub.execute_input": "2024-10-07T09:10:20.085374Z",
     "iopub.status.busy": "2024-10-07T09:10:20.084831Z",
     "iopub.status.idle": "2024-10-07T09:10:20.093083Z",
     "shell.execute_reply": "2024-10-07T09:10:20.091717Z"
    },
    "jupyter": {
     "source_hidden": true
    },
    "papermill": {
     "duration": 0.058512,
     "end_time": "2024-10-07T09:10:20.095795",
     "exception": false,
     "start_time": "2024-10-07T09:10:20.037283",
     "status": "completed"
    },
    "tags": []
   },
   "outputs": [],
   "source": [
    "if 'SOLUTION_5' in ENSEMBLE_SOLUTIONS:\n",
    "    \n",
    "    # Setup Cell\n",
    "    import pandas as pd\n",
    "    import numpy as np\n",
    "    from sklearn.preprocessing import StandardScaler, LabelEncoder\n",
    "    from sklearn.impute import SimpleImputer\n",
    "    import xgboost as xgb  # Import XGBoost with GPU support\n",
    "\n",
    "    # Load datasets with low_memory=False to suppress DtypeWarning\n",
    "    train = pd.read_csv('/kaggle/input/brist1d/train.csv', low_memory=False)\n",
    "    test = pd.read_csv('/kaggle/input/brist1d/test.csv', low_memory=False)"
   ]
  },
  {
   "cell_type": "code",
   "execution_count": 44,
   "id": "91e065ac",
   "metadata": {
    "_kg_hide-input": true,
    "execution": {
     "iopub.execute_input": "2024-10-07T09:10:20.189160Z",
     "iopub.status.busy": "2024-10-07T09:10:20.188654Z",
     "iopub.status.idle": "2024-10-07T09:10:20.211481Z",
     "shell.execute_reply": "2024-10-07T09:10:20.209941Z"
    },
    "jupyter": {
     "source_hidden": true
    },
    "papermill": {
     "duration": 0.073095,
     "end_time": "2024-10-07T09:10:20.214296",
     "exception": false,
     "start_time": "2024-10-07T09:10:20.141201",
     "status": "completed"
    },
    "tags": []
   },
   "outputs": [],
   "source": [
    "if 'SOLUTION_5' in ENSEMBLE_SOLUTIONS:\n",
    "    \n",
    "    # Execution Cell\n",
    "\n",
    "    # Convert 'time' column to datetime and extract features\n",
    "    train['time'] = pd.to_datetime(train['time'], format='%H:%M:%S')\n",
    "    test['time'] = pd.to_datetime(test['time'], format='%H:%M:%S')\n",
    "\n",
    "    # Extract hour and minute as numerical features\n",
    "    train['hour'] = train['time'].dt.hour\n",
    "    train['minute'] = train['time'].dt.minute\n",
    "    test['hour'] = test['time'].dt.hour\n",
    "    test['minute'] = test['time'].dt.minute\n",
    "\n",
    "    # Drop 'time' column\n",
    "    train.drop('time', axis=1, inplace=True)\n",
    "    test.drop('time', axis=1, inplace=True)\n",
    "\n",
    "    # Identify numerical and categorical columns\n",
    "    numerical_cols = train.select_dtypes(include=['float64', 'int64']).columns.tolist()\n",
    "    numerical_cols.remove('bg+1:00')  # Remove target variable from features\n",
    "    categorical_cols = [col for col in train.columns if 'activity' in col]\n",
    "\n",
    "    # Impute missing numerical values\n",
    "    imputer = SimpleImputer(strategy='mean')\n",
    "    train[numerical_cols] = imputer.fit_transform(train[numerical_cols])\n",
    "    test[numerical_cols] = imputer.transform(test[numerical_cols])\n",
    "\n",
    "    # Encode categorical variables\n",
    "    for col in categorical_cols:\n",
    "        train[col] = train[col].fillna('None')\n",
    "        test[col] = test[col].fillna('None')\n",
    "        le = LabelEncoder()\n",
    "        combined_data = pd.concat([train[col], test[col]], axis=0)\n",
    "        le.fit(combined_data)\n",
    "        train[col] = le.transform(train[col])\n",
    "        test[col] = le.transform(test[col])\n",
    "\n",
    "    # Scale numerical features\n",
    "    scaler = StandardScaler()\n",
    "    train[numerical_cols] = scaler.fit_transform(train[numerical_cols])\n",
    "    test[numerical_cols] = scaler.transform(test[numerical_cols])\n",
    "\n",
    "    # Prepare data for modeling\n",
    "    X_train = train.drop(['id', 'p_num', 'bg+1:00'], axis=1)\n",
    "    y_train = train['bg+1:00']\n",
    "    X_test = test.drop(['id', 'p_num'], axis=1)\n",
    "\n",
    "    # Ensure all features are numerical\n",
    "    non_numeric_cols = X_train.select_dtypes(include=['object']).columns.tolist()\n",
    "    if non_numeric_cols:\n",
    "        print(\"Non-numeric columns in X_train:\", non_numeric_cols)\n",
    "        # Drop non-numeric columns\n",
    "        X_train.drop(non_numeric_cols, axis=1, inplace=True)\n",
    "        X_test.drop(non_numeric_cols, axis=1, inplace=True)\n",
    "\n",
    "    # Initialize and train the model using GPU acceleration\n",
    "    model = xgb.XGBRegressor(\n",
    "        n_estimators=250,\n",
    "        max_depth=25,\n",
    "        tree_method='hist',  # Use GPU for training\n",
    "        device='cuda',  # Specify device as 'cuda' for GPU\n",
    "        random_state=1337\n",
    "    )\n",
    "\n",
    "    model.fit(X_train, y_train)"
   ]
  },
  {
   "cell_type": "code",
   "execution_count": 45,
   "id": "78f39d18",
   "metadata": {
    "_kg_hide-input": true,
    "execution": {
     "iopub.execute_input": "2024-10-07T09:10:20.308141Z",
     "iopub.status.busy": "2024-10-07T09:10:20.307558Z",
     "iopub.status.idle": "2024-10-07T09:10:20.315318Z",
     "shell.execute_reply": "2024-10-07T09:10:20.313990Z"
    },
    "jupyter": {
     "source_hidden": true
    },
    "papermill": {
     "duration": 0.05875,
     "end_time": "2024-10-07T09:10:20.318732",
     "exception": false,
     "start_time": "2024-10-07T09:10:20.259982",
     "status": "completed"
    },
    "tags": []
   },
   "outputs": [],
   "source": [
    "if 'SOLUTION_5' in ENSEMBLE_SOLUTIONS:\n",
    "\n",
    "    # Submission Cell\n",
    "\n",
    "    # Predict on test data\n",
    "    test_preds = model.predict(X_test)\n",
    "\n",
    "    # Create submission file\n",
    "    submission = pd.DataFrame({\n",
    "        'id': test['id'],\n",
    "        'bg+1:00': test_preds\n",
    "    })\n",
    "\n",
    "    submission.to_csv('/kaggle/working/submission_5.csv', index=False)"
   ]
  },
  {
   "cell_type": "markdown",
   "id": "2356f301",
   "metadata": {
    "papermill": {
     "duration": 0.046964,
     "end_time": "2024-10-07T09:10:20.413073",
     "exception": false,
     "start_time": "2024-10-07T09:10:20.366109",
     "status": "completed"
    },
    "tags": []
   },
   "source": [
    "## 7. [LightGBM Optuna - LB 2.61](https://www.kaggle.com/code/salman1127/lightgbm-optuna-lb-2-61)\n",
    "### [Salman A.](https://www.kaggle.com/salman1127)"
   ]
  },
  {
   "cell_type": "code",
   "execution_count": 46,
   "id": "a45fef69",
   "metadata": {
    "_kg_hide-input": true,
    "execution": {
     "iopub.execute_input": "2024-10-07T09:10:20.511318Z",
     "iopub.status.busy": "2024-10-07T09:10:20.510784Z",
     "iopub.status.idle": "2024-10-07T09:10:20.518374Z",
     "shell.execute_reply": "2024-10-07T09:10:20.517123Z"
    },
    "jupyter": {
     "source_hidden": true
    },
    "papermill": {
     "duration": 0.06069,
     "end_time": "2024-10-07T09:10:20.521012",
     "exception": false,
     "start_time": "2024-10-07T09:10:20.460322",
     "status": "completed"
    },
    "tags": []
   },
   "outputs": [],
   "source": [
    "if 'SOLUTION_7' in ENSEMBLE_SOLUTIONS:\n",
    "\n",
    "    !pip uninstall scikit-learn -y\n",
    "    !pip install scikit-learn==1.5.2\n",
    "    #!pip uninstall pandas -y\n",
    "    #!pip install pandas==2.1.4"
   ]
  },
  {
   "cell_type": "code",
   "execution_count": 47,
   "id": "baa52235",
   "metadata": {
    "_kg_hide-input": true,
    "execution": {
     "iopub.execute_input": "2024-10-07T09:10:20.617792Z",
     "iopub.status.busy": "2024-10-07T09:10:20.616620Z",
     "iopub.status.idle": "2024-10-07T09:10:20.625948Z",
     "shell.execute_reply": "2024-10-07T09:10:20.624335Z"
    },
    "jupyter": {
     "source_hidden": true
    },
    "papermill": {
     "duration": 0.060299,
     "end_time": "2024-10-07T09:10:20.629095",
     "exception": false,
     "start_time": "2024-10-07T09:10:20.568796",
     "status": "completed"
    },
    "tags": []
   },
   "outputs": [],
   "source": [
    "if 'SOLUTION_7' in ENSEMBLE_SOLUTIONS:\n",
    "\n",
    "    # This Python 3 environment comes with many helpful analytics libraries installed\n",
    "    # It is defined by the kaggle/python Docker image: https://github.com/kaggle/docker-python\n",
    "    # For example, here's several helpful packages to load\n",
    "\n",
    "    import numpy as np # linear algebra\n",
    "    import pandas as pd # data processing, CSV file I/O (e.g. pd.read_csv)\n",
    "\n",
    "    # Input data files are available in the read-only \"../input/\" directory\n",
    "    # For example, running this (by clicking run or pressing Shift+Enter) will list all files under the input directory\n",
    "\n",
    "    import os\n",
    "    for dirname, _, filenames in os.walk('/kaggle/input'):\n",
    "        for filename in filenames:\n",
    "            print(os.path.join(dirname, filename))\n",
    "\n",
    "    # You can write up to 20GB to the current directory (/kaggle/working/) that gets preserved as output when you create a version using \"Save & Run All\" \n",
    "    # You can also write temporary files to /kaggle/temp/, but they won't be saved outside of the current session"
   ]
  },
  {
   "cell_type": "code",
   "execution_count": 48,
   "id": "944bf170",
   "metadata": {
    "_kg_hide-input": true,
    "execution": {
     "iopub.execute_input": "2024-10-07T09:10:20.726204Z",
     "iopub.status.busy": "2024-10-07T09:10:20.725741Z",
     "iopub.status.idle": "2024-10-07T09:10:20.733466Z",
     "shell.execute_reply": "2024-10-07T09:10:20.732163Z"
    },
    "jupyter": {
     "source_hidden": true
    },
    "papermill": {
     "duration": 0.059838,
     "end_time": "2024-10-07T09:10:20.736329",
     "exception": false,
     "start_time": "2024-10-07T09:10:20.676491",
     "status": "completed"
    },
    "tags": []
   },
   "outputs": [],
   "source": [
    "if 'SOLUTION_7' in ENSEMBLE_SOLUTIONS:\n",
    "    \n",
    "    #!pip install optuna\n",
    "    !pip uninstall lightgbm -y\n",
    "    !pip install lightgbm --config-settings=cmake.define.USE_CUDA=ON"
   ]
  },
  {
   "cell_type": "code",
   "execution_count": 49,
   "id": "77865519",
   "metadata": {
    "_kg_hide-input": true,
    "execution": {
     "iopub.execute_input": "2024-10-07T09:10:20.833756Z",
     "iopub.status.busy": "2024-10-07T09:10:20.833301Z",
     "iopub.status.idle": "2024-10-07T09:10:20.842067Z",
     "shell.execute_reply": "2024-10-07T09:10:20.840598Z"
    },
    "jupyter": {
     "source_hidden": true
    },
    "papermill": {
     "duration": 0.060976,
     "end_time": "2024-10-07T09:10:20.845085",
     "exception": false,
     "start_time": "2024-10-07T09:10:20.784109",
     "status": "completed"
    },
    "tags": []
   },
   "outputs": [],
   "source": [
    "if 'SOLUTION_7' in ENSEMBLE_SOLUTIONS:\n",
    "    \n",
    "    import lightgbm\n",
    "    import numpy as np\n",
    "    def check_gpu_support():\n",
    "        try:\n",
    "            data = np.random.rand(50, 2)\n",
    "            label = np.random.randint(2, size=50)\n",
    "            train_data = lightgbm.Dataset(data, label=label)\n",
    "            params = {'num_iterations': 1, 'device': 'gpu'}\n",
    "            gbm = lightgbm.train(params, train_set=train_data)\n",
    "            return True\n",
    "        except Exception as e:\n",
    "            return False\n",
    "    check_gpu_support()"
   ]
  },
  {
   "cell_type": "code",
   "execution_count": 50,
   "id": "52a8bcb6",
   "metadata": {
    "_kg_hide-input": true,
    "execution": {
     "iopub.execute_input": "2024-10-07T09:10:20.943532Z",
     "iopub.status.busy": "2024-10-07T09:10:20.943069Z",
     "iopub.status.idle": "2024-10-07T09:10:20.948917Z",
     "shell.execute_reply": "2024-10-07T09:10:20.947707Z"
    },
    "jupyter": {
     "source_hidden": true
    },
    "papermill": {
     "duration": 0.057809,
     "end_time": "2024-10-07T09:10:20.951623",
     "exception": false,
     "start_time": "2024-10-07T09:10:20.893814",
     "status": "completed"
    },
    "tags": []
   },
   "outputs": [],
   "source": [
    "if 'SOLUTION_7' in ENSEMBLE_SOLUTIONS:\n",
    "\n",
    "    # check xgboost version\n",
    "    import xgboost as xg"
   ]
  },
  {
   "cell_type": "code",
   "execution_count": 51,
   "id": "01fb2bdd",
   "metadata": {
    "_kg_hide-input": true,
    "execution": {
     "iopub.execute_input": "2024-10-07T09:10:21.053312Z",
     "iopub.status.busy": "2024-10-07T09:10:21.052856Z",
     "iopub.status.idle": "2024-10-07T09:10:21.087297Z",
     "shell.execute_reply": "2024-10-07T09:10:21.086079Z"
    },
    "jupyter": {
     "source_hidden": true
    },
    "papermill": {
     "duration": 0.089339,
     "end_time": "2024-10-07T09:10:21.090409",
     "exception": false,
     "start_time": "2024-10-07T09:10:21.001070",
     "status": "completed"
    },
    "tags": []
   },
   "outputs": [],
   "source": [
    "if 'SOLUTION_7' in ENSEMBLE_SOLUTIONS:\n",
    "\n",
    "    import pandas as pd\n",
    "    import numpy as np\n",
    "    import lightgbm as lgb\n",
    "    import optuna\n",
    "    from sklearn.model_selection import train_test_split, cross_val_score\n",
    "    from sklearn.preprocessing import OneHotEncoder, StandardScaler\n",
    "    from sklearn.compose import ColumnTransformer\n",
    "    from sklearn.pipeline import Pipeline\n",
    "    from sklearn.impute import SimpleImputer, KNNImputer\n",
    "    from sklearn.metrics import mean_squared_error\n",
    "    import gc  # Import garbage collection for manual memory management\n",
    "\n",
    "    def remove_columns(df, columns_to_remove):\n",
    "        \"\"\"\n",
    "        Remove specified columns from the DataFrame.\n",
    "\n",
    "        :param df: Input DataFrame.\n",
    "        :param columns_to_remove: List of column names to remove.\n",
    "        :return: DataFrame with specified columns removed.\n",
    "        \"\"\"\n",
    "        df = df.drop(columns=columns_to_remove, errors='ignore')\n",
    "        return df\n",
    "\n",
    "    # Function to reduce memory usage by downcasting numerical data types\n",
    "    def reduce_memory_usage(df):\n",
    "        for col in df.columns:\n",
    "            col_type = df[col].dtype\n",
    "\n",
    "            if col_type != object:\n",
    "                if pd.api.types.is_integer_dtype(df[col]):\n",
    "                    df[col] = pd.to_numeric(df[col], downcast='integer')\n",
    "                else:\n",
    "                    df[col] = pd.to_numeric(df[col], downcast='float')\n",
    "            else:\n",
    "                # Convert object types to category type for memory efficiency\n",
    "                df[col] = df[col].astype('category')\n",
    "\n",
    "        return df\n",
    "\n",
    "    # Function to preprocess data and train model with Optuna for hyperparameter tuning\n",
    "    def preprocess_and_train_with_optuna(dataset_path, target_variable,columns_to_remove=None, n_trials=50, use_knn_imputer=True, chunk_size=5000):\n",
    "        # Load the dataset in chunks for memory efficiency\n",
    "        chunks = pd.read_csv(dataset_path, chunksize=chunk_size)\n",
    "\n",
    "        # Concatenate chunks into a single DataFrame while reducing memory usage\n",
    "        data = pd.concat([reduce_memory_usage(chunk) for chunk in chunks])\n",
    "\n",
    "        if columns_to_remove is not None:\n",
    "            data = remove_columns(data, columns_to_remove)\n",
    "\n",
    "        # Explicit garbage collection to free up memory\n",
    "        gc.collect()\n",
    "\n",
    "        # Check if target variable exists in dataset\n",
    "        if target_variable not in data.columns:\n",
    "            raise ValueError(f\"{target_variable} not found in the dataset\")\n",
    "\n",
    "        # Separate features and target\n",
    "        X = data.drop(columns=[target_variable])\n",
    "        y = data[target_variable]\n",
    "\n",
    "        # Optimize target column by converting to float32\n",
    "        y = y.astype(np.float32)\n",
    "\n",
    "        # Identify numerical and categorical columns\n",
    "        numerical_features = X.select_dtypes(include=['int32', 'int64', 'float32', 'float64']).columns\n",
    "        categorical_features = X.select_dtypes(include=['object', 'category']).columns\n",
    "\n",
    "        # Intelligent imputation for numerical features\n",
    "        if use_knn_imputer:\n",
    "            # Use KNN Imputer for numerical columns (more advanced, but can be heavy on memory)\n",
    "            numerical_imputer = KNNImputer(n_neighbors=3)\n",
    "        else:\n",
    "            # Use Median Imputer for numerical columns\n",
    "            numerical_imputer = SimpleImputer(strategy='median')\n",
    "\n",
    "        # Preprocessing for numerical features (KNN Imputation or Median Imputation and Scaling)\n",
    "        numerical_transformer = Pipeline(steps=[\n",
    "            ('imputer', numerical_imputer),\n",
    "            ('scaler', StandardScaler())\n",
    "        ])\n",
    "\n",
    "        # Intelligent imputation for categorical features (add 'Missing' as a new category)\n",
    "        categorical_transformer = Pipeline(steps=[\n",
    "            ('imputer', SimpleImputer(strategy='constant', fill_value='Missing')),\n",
    "            ('onehot', OneHotEncoder(handle_unknown='ignore', sparse_output=False))\n",
    "        ])\n",
    "\n",
    "        # Combine numerical and categorical transformers\n",
    "        preprocessor = ColumnTransformer(\n",
    "            transformers=[\n",
    "                ('num', numerical_transformer, numerical_features),\n",
    "                ('cat', categorical_transformer, categorical_features)\n",
    "            ])\n",
    "\n",
    "        # Define the objective function for Optuna\n",
    "        def objective(trial):\n",
    "            # Define hyperparameter search space\n",
    "            xgboost_param = {\n",
    "                'device':'gpu',\n",
    "                'objective': 'reg:squarederror',\n",
    "                'eval_metric': 'rmse',\n",
    "                'tree_method': 'gpu_hist',  # Enable GPU for XGBoost\n",
    "                'lambda': trial.suggest_loguniform('lambda', 1e-8, 10.0),\n",
    "                'alpha': trial.suggest_loguniform('alpha', 1e-8, 10.0),\n",
    "                'learning_rate': trial.suggest_loguniform('learning_rate', 1e-3, 0.1),\n",
    "                'n_estimators': trial.suggest_int('n_estimators', 100, 1000),\n",
    "                'max_depth': trial.suggest_int('max_depth', 3, 20),\n",
    "                'min_child_weight': trial.suggest_int('min_child_weight', 1, 10),\n",
    "                'gamma': trial.suggest_loguniform('gamma', 1e-8, 1.0),\n",
    "            }\n",
    "\n",
    "            # Create LightGBM model\n",
    "            model = Pipeline(steps=[\n",
    "                ('preprocessor', preprocessor),\n",
    "                ('regressor', xg.XGBRegressor(**xgboost_param, random_state=42))\n",
    "            ])\n",
    "            print(\"Training\")\n",
    "            # Cross-validation with 5-fold to evaluate the performance using RMSE\n",
    "            cv_scores = cross_val_score(model, X, y, cv=5, scoring='neg_root_mean_squared_error', n_jobs=-1)\n",
    "            rmse = -np.mean(cv_scores)  # RMSE (scikit-learn uses negative RMSE by default)\n",
    "            return rmse\n",
    "\n",
    "        # Create an Optuna study and optimize it\n",
    "        study = optuna.create_study(direction='minimize')\n",
    "\n",
    "        study.optimize(objective, n_trials=n_trials)\n",
    "\n",
    "        # Get the best hyperparameters\n",
    "        best_params = study.best_params\n",
    "        print(f\"Best parameters: {best_params}\")\n",
    "\n",
    "        # Train the final model using the best hyperparameters\n",
    "        best_model = Pipeline(steps=[\n",
    "            ('preprocessor', preprocessor),\n",
    "            ('regressor', lgb.LGBMRegressor(**best_params, random_state=42))\n",
    "        ])\n",
    "\n",
    "        # Split the data into training and testing sets\n",
    "        X_train, X_test, y_train, y_test = train_test_split(X, y, test_size=0.2, random_state=42)\n",
    "\n",
    "        # Train the model\n",
    "        best_model.fit(X_train, y_train)\n",
    "\n",
    "        # Predict on the test set\n",
    "        y_pred = best_model.predict(X_test)\n",
    "\n",
    "        # Calculate and print final performance using RMSE\n",
    "        mse = mean_squared_error(y_test, y_pred)\n",
    "        rmse = np.sqrt(mse)\n",
    "        print(f'Test RMSE: {rmse}')\n",
    "\n",
    "        # Explicit garbage collection\n",
    "        gc.collect()\n",
    "\n",
    "        return best_model, study"
   ]
  },
  {
   "cell_type": "code",
   "execution_count": 52,
   "id": "64d2139d",
   "metadata": {
    "_kg_hide-input": true,
    "execution": {
     "iopub.execute_input": "2024-10-07T09:10:21.188463Z",
     "iopub.status.busy": "2024-10-07T09:10:21.187957Z",
     "iopub.status.idle": "2024-10-07T09:10:21.196168Z",
     "shell.execute_reply": "2024-10-07T09:10:21.194930Z"
    },
    "jupyter": {
     "source_hidden": true
    },
    "papermill": {
     "duration": 0.060978,
     "end_time": "2024-10-07T09:10:21.198918",
     "exception": false,
     "start_time": "2024-10-07T09:10:21.137940",
     "status": "completed"
    },
    "tags": []
   },
   "outputs": [],
   "source": [
    "if 'SOLUTION_7' in ENSEMBLE_SOLUTIONS:\n",
    "    \n",
    "    # Predict function that accepts a DataFrame\n",
    "    def predict(model, input_data,columns_to_remove = None):\n",
    "        \"\"\"\n",
    "        Predicts target values using the trained model on new input data.\n",
    "\n",
    "        :param model: Trained regression model pipeline\n",
    "        :param input_data: Pandas DataFrame containing input features\n",
    "        :return: Predicted values\n",
    "        \"\"\"\n",
    "        # Ensure input data is in DataFrame format\n",
    "        if not isinstance(input_data, pd.DataFrame):\n",
    "            raise ValueError(\"Input data must be a pandas DataFrame\")\n",
    "\n",
    "        if columns_to_remove is not None:\n",
    "            data = remove_columns(input_data, columns_to_remove)\n",
    "\n",
    "        # Predict using the trained model\n",
    "        predictions = model.predict(data)\n",
    "\n",
    "        return predictions     "
   ]
  },
  {
   "cell_type": "code",
   "execution_count": 53,
   "id": "163fe4d6",
   "metadata": {
    "_kg_hide-input": true,
    "execution": {
     "iopub.execute_input": "2024-10-07T09:10:21.298714Z",
     "iopub.status.busy": "2024-10-07T09:10:21.298205Z",
     "iopub.status.idle": "2024-10-07T09:10:21.305003Z",
     "shell.execute_reply": "2024-10-07T09:10:21.303713Z"
    },
    "jupyter": {
     "source_hidden": true
    },
    "papermill": {
     "duration": 0.06063,
     "end_time": "2024-10-07T09:10:21.307862",
     "exception": false,
     "start_time": "2024-10-07T09:10:21.247232",
     "status": "completed"
    },
    "tags": []
   },
   "outputs": [],
   "source": [
    "if 'SOLUTION_7' in ENSEMBLE_SOLUTIONS: \n",
    "    \n",
    "    import pickle\n",
    "    \n",
    "    model = pickle.read('/kaggle/input/trainedlightgbm/scikitlearn/default/1/finalmodel.pkl')\n",
    "    \n",
    "#     with open('/kaggle/input/trainedlightgbm/scikitlearn/default/1/finalmodel.pkl', 'rb') as file:\n",
    "#         model = pickle.load(file)"
   ]
  },
  {
   "cell_type": "code",
   "execution_count": 54,
   "id": "f6b7642e",
   "metadata": {
    "_kg_hide-input": true,
    "execution": {
     "iopub.execute_input": "2024-10-07T09:10:21.406553Z",
     "iopub.status.busy": "2024-10-07T09:10:21.406049Z",
     "iopub.status.idle": "2024-10-07T09:10:21.413028Z",
     "shell.execute_reply": "2024-10-07T09:10:21.411832Z"
    },
    "jupyter": {
     "source_hidden": true
    },
    "papermill": {
     "duration": 0.06041,
     "end_time": "2024-10-07T09:10:21.416113",
     "exception": false,
     "start_time": "2024-10-07T09:10:21.355703",
     "status": "completed"
    },
    "tags": []
   },
   "outputs": [],
   "source": [
    "if 'SOLUTION_7' in ENSEMBLE_SOLUTIONS:\n",
    "    \n",
    "    # Example DataFrame for prediction (replace with actual data)\n",
    "    test =  pd.read_csv('/kaggle/input/brist1d/test.csv')\n",
    "\n",
    "    # Get predictions\n",
    "    predictions = predict(model, test,columns_to_remove=['id'])"
   ]
  },
  {
   "cell_type": "code",
   "execution_count": 55,
   "id": "f39c1e67",
   "metadata": {
    "_kg_hide-input": true,
    "execution": {
     "iopub.execute_input": "2024-10-07T09:10:21.519798Z",
     "iopub.status.busy": "2024-10-07T09:10:21.519311Z",
     "iopub.status.idle": "2024-10-07T09:10:21.527022Z",
     "shell.execute_reply": "2024-10-07T09:10:21.525827Z"
    },
    "jupyter": {
     "source_hidden": true
    },
    "papermill": {
     "duration": 0.06425,
     "end_time": "2024-10-07T09:10:21.529966",
     "exception": false,
     "start_time": "2024-10-07T09:10:21.465716",
     "status": "completed"
    },
    "tags": []
   },
   "outputs": [],
   "source": [
    "if 'SOLUTION_7' in ENSEMBLE_SOLUTIONS:\n",
    "\n",
    "    test['bg+1:00'] = predictions"
   ]
  },
  {
   "cell_type": "code",
   "execution_count": 56,
   "id": "dadc197b",
   "metadata": {
    "_kg_hide-input": true,
    "execution": {
     "iopub.execute_input": "2024-10-07T09:10:21.628603Z",
     "iopub.status.busy": "2024-10-07T09:10:21.627380Z",
     "iopub.status.idle": "2024-10-07T09:10:21.633651Z",
     "shell.execute_reply": "2024-10-07T09:10:21.632333Z"
    },
    "jupyter": {
     "source_hidden": true
    },
    "papermill": {
     "duration": 0.058771,
     "end_time": "2024-10-07T09:10:21.636817",
     "exception": false,
     "start_time": "2024-10-07T09:10:21.578046",
     "status": "completed"
    },
    "tags": []
   },
   "outputs": [],
   "source": [
    "if 'SOLUTION_7' in ENSEMBLE_SOLUTIONS:\n",
    "\n",
    "    final_sub_df = test[['id','bg+1:00']]"
   ]
  },
  {
   "cell_type": "code",
   "execution_count": 57,
   "id": "d4802813",
   "metadata": {
    "_kg_hide-input": true,
    "execution": {
     "iopub.execute_input": "2024-10-07T09:10:21.748764Z",
     "iopub.status.busy": "2024-10-07T09:10:21.748192Z",
     "iopub.status.idle": "2024-10-07T09:10:21.755609Z",
     "shell.execute_reply": "2024-10-07T09:10:21.753866Z"
    },
    "jupyter": {
     "source_hidden": true
    },
    "papermill": {
     "duration": 0.070878,
     "end_time": "2024-10-07T09:10:21.759008",
     "exception": false,
     "start_time": "2024-10-07T09:10:21.688130",
     "status": "completed"
    },
    "tags": []
   },
   "outputs": [],
   "source": [
    "if 'SOLUTION_7' in ENSEMBLE_SOLUTIONS:\n",
    "    \n",
    "    final_sub_df.to_csv('submission_7.csv',index = False)"
   ]
  },
  {
   "cell_type": "markdown",
   "id": "ee66265e",
   "metadata": {
    "papermill": {
     "duration": 0.045853,
     "end_time": "2024-10-07T09:10:21.857466",
     "exception": false,
     "start_time": "2024-10-07T09:10:21.811613",
     "status": "completed"
    },
    "tags": []
   },
   "source": [
    "## 8. [BrisT1D Blood Glucose Prediction | LightBGM](https://www.kaggle.com/code/valentinemwai/brist1d-blood-glucose-prediction-lightbgm)\n",
    "### [valentine mwai](https://www.kaggle.com/valentinemwai)"
   ]
  },
  {
   "cell_type": "code",
   "execution_count": 58,
   "id": "7c7c5a6a",
   "metadata": {
    "_kg_hide-input": true,
    "execution": {
     "iopub.execute_input": "2024-10-07T09:10:21.951718Z",
     "iopub.status.busy": "2024-10-07T09:10:21.951262Z",
     "iopub.status.idle": "2024-10-07T09:10:22.427487Z",
     "shell.execute_reply": "2024-10-07T09:10:22.426146Z"
    },
    "jupyter": {
     "source_hidden": true
    },
    "papermill": {
     "duration": 0.526753,
     "end_time": "2024-10-07T09:10:22.430417",
     "exception": false,
     "start_time": "2024-10-07T09:10:21.903664",
     "status": "completed"
    },
    "tags": []
   },
   "outputs": [],
   "source": [
    "if 'SOLUTION_8' in ENSEMBLE_SOLUTIONS:\n",
    "\n",
    "    import pandas as pd \n",
    "    import numpy as np\n",
    "    import matplotlib.pyplot as plt\n",
    "    import seaborn as sns"
   ]
  },
  {
   "cell_type": "code",
   "execution_count": 59,
   "id": "2fa5cdaf",
   "metadata": {
    "_kg_hide-input": true,
    "_kg_hide-output": true,
    "execution": {
     "iopub.execute_input": "2024-10-07T09:10:22.530082Z",
     "iopub.status.busy": "2024-10-07T09:10:22.529396Z",
     "iopub.status.idle": "2024-10-07T09:10:38.286812Z",
     "shell.execute_reply": "2024-10-07T09:10:38.285194Z"
    },
    "jupyter": {
     "source_hidden": true
    },
    "papermill": {
     "duration": 15.810759,
     "end_time": "2024-10-07T09:10:38.290886",
     "exception": false,
     "start_time": "2024-10-07T09:10:22.480127",
     "status": "completed"
    },
    "tags": []
   },
   "outputs": [],
   "source": [
    "if 'SOLUTION_8' in ENSEMBLE_SOLUTIONS:\n",
    "    \n",
    "    #Importing the training data\n",
    "    train= pd.read_csv('/kaggle/input/brist1d/train.csv')\n",
    "    test= pd.read_csv('/kaggle/input/brist1d/test.csv')\n",
    "    train.head()\n",
    "    test.head()"
   ]
  },
  {
   "cell_type": "code",
   "execution_count": 60,
   "id": "32fe3046",
   "metadata": {
    "_kg_hide-input": true,
    "_kg_hide-output": true,
    "execution": {
     "iopub.execute_input": "2024-10-07T09:10:38.386977Z",
     "iopub.status.busy": "2024-10-07T09:10:38.386430Z",
     "iopub.status.idle": "2024-10-07T09:10:38.433250Z",
     "shell.execute_reply": "2024-10-07T09:10:38.431742Z"
    },
    "jupyter": {
     "source_hidden": true
    },
    "papermill": {
     "duration": 0.098085,
     "end_time": "2024-10-07T09:10:38.436006",
     "exception": false,
     "start_time": "2024-10-07T09:10:38.337921",
     "status": "completed"
    },
    "tags": []
   },
   "outputs": [
    {
     "name": "stdout",
     "output_type": "stream",
     "text": [
      "<class 'pandas.core.frame.DataFrame'>\n",
      "RangeIndex: 177024 entries, 0 to 177023\n",
      "Columns: 508 entries, id to bg+1:00\n",
      "dtypes: float64(433), object(75)\n",
      "memory usage: 686.1+ MB\n"
     ]
    }
   ],
   "source": [
    "if 'SOLUTION_8' in ENSEMBLE_SOLUTIONS:\n",
    "\n",
    "    train.info()"
   ]
  },
  {
   "cell_type": "code",
   "execution_count": 61,
   "id": "788baea7",
   "metadata": {
    "_kg_hide-input": true,
    "_kg_hide-output": true,
    "execution": {
     "iopub.execute_input": "2024-10-07T09:10:38.533054Z",
     "iopub.status.busy": "2024-10-07T09:10:38.532533Z",
     "iopub.status.idle": "2024-10-07T09:10:44.075482Z",
     "shell.execute_reply": "2024-10-07T09:10:44.073741Z"
    },
    "jupyter": {
     "source_hidden": true
    },
    "papermill": {
     "duration": 5.595495,
     "end_time": "2024-10-07T09:10:44.078701",
     "exception": false,
     "start_time": "2024-10-07T09:10:38.483206",
     "status": "completed"
    },
    "tags": []
   },
   "outputs": [],
   "source": [
    "if 'SOLUTION_8' in ENSEMBLE_SOLUTIONS:\n",
    "\n",
    "    train.describe()"
   ]
  },
  {
   "cell_type": "code",
   "execution_count": 62,
   "id": "38182e93",
   "metadata": {
    "_kg_hide-input": true,
    "_kg_hide-output": true,
    "execution": {
     "iopub.execute_input": "2024-10-07T09:10:44.180258Z",
     "iopub.status.busy": "2024-10-07T09:10:44.179566Z",
     "iopub.status.idle": "2024-10-07T09:10:46.104395Z",
     "shell.execute_reply": "2024-10-07T09:10:46.102743Z"
    },
    "jupyter": {
     "source_hidden": true
    },
    "papermill": {
     "duration": 1.981389,
     "end_time": "2024-10-07T09:10:46.107283",
     "exception": false,
     "start_time": "2024-10-07T09:10:44.125894",
     "status": "completed"
    },
    "tags": []
   },
   "outputs": [
    {
     "name": "stdout",
     "output_type": "stream",
     "text": [
      "The dataset contains 44.81 % missing values\n",
      "bg-5:55           27254\n",
      "bg-5:50           18491\n",
      "bg-5:45           13660\n",
      "bg-5:40           27258\n",
      "bg-5:35           18770\n",
      "                  ...  \n",
      "activity-0:20    174270\n",
      "activity-0:15    174293\n",
      "activity-0:10    174287\n",
      "activity-0:05    174271\n",
      "activity-0:00    174287\n",
      "Length: 504, dtype: int64\n"
     ]
    }
   ],
   "source": [
    "if 'SOLUTION_8' in ENSEMBLE_SOLUTIONS:\n",
    "    \n",
    "    train.isnull().sum()\n",
    "    # Let us see what columns have missing values\n",
    "    # Total number of entries (rows X columns) in the dataset\n",
    "    total= train.size\n",
    "    #Number of missing values per column\n",
    "    missingCount = train.isnull().sum()\n",
    "    #Total number of missing values\n",
    "    missing_tot = missingCount.sum()\n",
    "    # Calculate percentage of missing values\n",
    "    print(\"The dataset contains\", round(((missing_tot/total) * 100), 2), \"%\", \"missing values\")\n",
    "\n",
    "    # keeping only the columns with missing values>0 \n",
    "    missing = missingCount[missingCount > 0] \n",
    "    print(missing)"
   ]
  },
  {
   "cell_type": "code",
   "execution_count": 63,
   "id": "688c27d6",
   "metadata": {
    "_kg_hide-input": true,
    "_kg_hide-output": true,
    "execution": {
     "iopub.execute_input": "2024-10-07T09:10:46.204579Z",
     "iopub.status.busy": "2024-10-07T09:10:46.204074Z",
     "iopub.status.idle": "2024-10-07T09:10:47.632515Z",
     "shell.execute_reply": "2024-10-07T09:10:47.630752Z"
    },
    "jupyter": {
     "source_hidden": true
    },
    "papermill": {
     "duration": 1.481084,
     "end_time": "2024-10-07T09:10:47.635406",
     "exception": false,
     "start_time": "2024-10-07T09:10:46.154322",
     "status": "completed"
    },
    "tags": []
   },
   "outputs": [
    {
     "name": "stdout",
     "output_type": "stream",
     "text": [
      "<class 'pandas.core.frame.DataFrame'>\n",
      "Index: 144 entries, carbs-5:55 to activity-0:00\n",
      "Data columns (total 2 columns):\n",
      " #   Column                 Non-Null Count  Dtype  \n",
      "---  ------                 --------------  -----  \n",
      " 0   Missing Values(train)  144 non-null    int64  \n",
      " 1   Percentage             144 non-null    float64\n",
      "dtypes: float64(1), int64(1)\n",
      "memory usage: 3.4+ KB\n"
     ]
    }
   ],
   "source": [
    "if 'SOLUTION_8' in ENSEMBLE_SOLUTIONS:\n",
    "    \n",
    "    train_na=train.isnull().sum()\n",
    "    percentage = train.isnull().mean() * 100\n",
    "    missing = pd.DataFrame({'Missing Values(train)':train_na, 'Percentage':percentage})\n",
    "    missing\n",
    "\n",
    "    # Filter only the columns with more than 80% missing values\n",
    "    missing_above_80 = missing[missing['Percentage'] > 80]\n",
    "    missing_above_80.info()"
   ]
  },
  {
   "cell_type": "code",
   "execution_count": 64,
   "id": "73e285b8",
   "metadata": {
    "_kg_hide-input": true,
    "_kg_hide-output": true,
    "execution": {
     "iopub.execute_input": "2024-10-07T09:10:47.733322Z",
     "iopub.status.busy": "2024-10-07T09:10:47.732780Z",
     "iopub.status.idle": "2024-10-07T09:10:47.838213Z",
     "shell.execute_reply": "2024-10-07T09:10:47.836641Z"
    },
    "jupyter": {
     "source_hidden": true
    },
    "papermill": {
     "duration": 0.157699,
     "end_time": "2024-10-07T09:10:47.841188",
     "exception": false,
     "start_time": "2024-10-07T09:10:47.683489",
     "status": "completed"
    },
    "tags": []
   },
   "outputs": [],
   "source": [
    "if 'SOLUTION_8' in ENSEMBLE_SOLUTIONS: \n",
    "    \n",
    "    # Extract numerical features\n",
    "    num = train.select_dtypes(include=np.number).columns.tolist()\n",
    "    num"
   ]
  },
  {
   "cell_type": "code",
   "execution_count": 65,
   "id": "a876c87a",
   "metadata": {
    "_kg_hide-input": true,
    "_kg_hide-output": true,
    "execution": {
     "iopub.execute_input": "2024-10-07T09:10:47.940925Z",
     "iopub.status.busy": "2024-10-07T09:10:47.940389Z",
     "iopub.status.idle": "2024-10-07T09:10:48.357061Z",
     "shell.execute_reply": "2024-10-07T09:10:48.355465Z"
    },
    "jupyter": {
     "source_hidden": true
    },
    "papermill": {
     "duration": 0.470032,
     "end_time": "2024-10-07T09:10:48.360204",
     "exception": false,
     "start_time": "2024-10-07T09:10:47.890172",
     "status": "completed"
    },
    "tags": []
   },
   "outputs": [
    {
     "data": {
      "image/png": "[encoded data removed]",
      "text/plain": [
       "<Figure size 640x480 with 1 Axes>"
      ]
     },
     "metadata": {},
     "output_type": "display_data"
    }
   ],
   "source": [
    "if 'SOLUTION_8' in ENSEMBLE_SOLUTIONS: \n",
    "    \n",
    "    #Histogram of blood glucose in mmol/L\n",
    "    plt.hist(train['bg+1:00'])\n",
    "    plt.title('Distribution of blood glucose an hour in the future ')\n",
    "    plt.xlabel('Blood glucose in mmol/L')\n",
    "    plt.show()"
   ]
  },
  {
   "cell_type": "code",
   "execution_count": 66,
   "id": "10368c6b",
   "metadata": {
    "_kg_hide-input": true,
    "execution": {
     "iopub.execute_input": "2024-10-07T09:10:48.464612Z",
     "iopub.status.busy": "2024-10-07T09:10:48.464081Z",
     "iopub.status.idle": "2024-10-07T09:10:48.499430Z",
     "shell.execute_reply": "2024-10-07T09:10:48.497745Z"
    },
    "jupyter": {
     "source_hidden": true
    },
    "papermill": {
     "duration": 0.090568,
     "end_time": "2024-10-07T09:10:48.502338",
     "exception": false,
     "start_time": "2024-10-07T09:10:48.411770",
     "status": "completed"
    },
    "tags": []
   },
   "outputs": [],
   "source": [
    "if 'SOLUTION_8' in ENSEMBLE_SOLUTIONS:\n",
    "    \n",
    "    num_var = train[\n",
    "        ['bg-5:55',\n",
    "         'bg-5:50',\n",
    "         'bg-2:30',\n",
    "         'bg-0:15',\n",
    "         'bg-0:00',\n",
    "         'insulin-5:55',\n",
    "         'insulin-5:50',\n",
    "         'insulin-2:30', \n",
    "         'insulin-0:00',\n",
    "         'insulin-0:15',\n",
    "         'insulin-0:00',\n",
    "         'cals-5:50', \n",
    "         'cals-0:00',\n",
    "         'steps-5:55',\n",
    "         'steps-0:05',\n",
    "         'steps-0:00',\n",
    "         'hr-5:55',\n",
    "         'hr-0:05',\n",
    "         'hr-0:00',\n",
    "         'carbs-5:55',\n",
    "         'carbs-0:05',\n",
    "         'carbs-0:00',\n",
    "         'bg+1:00']\n",
    "    ]"
   ]
  },
  {
   "cell_type": "code",
   "execution_count": 67,
   "id": "d51ca679",
   "metadata": {
    "_kg_hide-input": true,
    "execution": {
     "iopub.execute_input": "2024-10-07T09:10:48.604932Z",
     "iopub.status.busy": "2024-10-07T09:10:48.604384Z",
     "iopub.status.idle": "2024-10-07T09:10:50.686414Z",
     "shell.execute_reply": "2024-10-07T09:10:50.684677Z"
    },
    "jupyter": {
     "source_hidden": true
    },
    "papermill": {
     "duration": 2.138939,
     "end_time": "2024-10-07T09:10:50.690554",
     "exception": false,
     "start_time": "2024-10-07T09:10:48.551615",
     "status": "completed"
    },
    "tags": []
   },
   "outputs": [
    {
     "data": {
      "image/png": "[encoded data removed]",
      "text/plain": [
       "<Figure size 1500x1000 with 2 Axes>"
      ]
     },
     "metadata": {},
     "output_type": "display_data"
    }
   ],
   "source": [
    "if 'SOLUTION_8' in ENSEMBLE_SOLUTIONS:\n",
    "    \n",
    "    # Find the pearson correlations matrix\n",
    "    corr = num_var.corr(method = 'pearson')\n",
    "    corr\n",
    "\n",
    "    plt.figure(figsize=(15, 10))\n",
    "\n",
    "    # Using Seaborn to create a heatmap\n",
    "    sns.heatmap(corr, annot=True, fmt='.2f', cmap='Pastel2', linewidths=2)\n",
    "\n",
    "    plt.title('Correlation Heatmap')\n",
    "    plt.show()"
   ]
  },
  {
   "cell_type": "code",
   "execution_count": 68,
   "id": "f0b74bc2",
   "metadata": {
    "_kg_hide-input": true,
    "_kg_hide-output": true,
    "execution": {
     "iopub.execute_input": "2024-10-07T09:10:50.798984Z",
     "iopub.status.busy": "2024-10-07T09:10:50.797807Z",
     "iopub.status.idle": "2024-10-07T09:10:51.747507Z",
     "shell.execute_reply": "2024-10-07T09:10:51.745656Z"
    },
    "jupyter": {
     "source_hidden": true
    },
    "papermill": {
     "duration": 1.007936,
     "end_time": "2024-10-07T09:10:51.751387",
     "exception": false,
     "start_time": "2024-10-07T09:10:50.743451",
     "status": "completed"
    },
    "tags": []
   },
   "outputs": [],
   "source": [
    "if 'SOLUTION_8' in ENSEMBLE_SOLUTIONS:\n",
    "    \n",
    "    train = train.drop(train.loc[:,'carbs-5:55' : 'activity-0:00'].columns, axis=1)\n",
    "    train "
   ]
  },
  {
   "cell_type": "code",
   "execution_count": 69,
   "id": "4e6dffdf",
   "metadata": {
    "_kg_hide-input": true,
    "execution": {
     "iopub.execute_input": "2024-10-07T09:10:51.860889Z",
     "iopub.status.busy": "2024-10-07T09:10:51.860321Z",
     "iopub.status.idle": "2024-10-07T09:10:51.959170Z",
     "shell.execute_reply": "2024-10-07T09:10:51.957734Z"
    },
    "jupyter": {
     "source_hidden": true
    },
    "papermill": {
     "duration": 0.155613,
     "end_time": "2024-10-07T09:10:51.962673",
     "exception": false,
     "start_time": "2024-10-07T09:10:51.807060",
     "status": "completed"
    },
    "tags": []
   },
   "outputs": [],
   "source": [
    "if 'SOLUTION_8' in ENSEMBLE_SOLUTIONS:\n",
    "\n",
    "    train = train.drop(train.loc[:,'id' : 'p_num'].columns, axis=1)"
   ]
  },
  {
   "cell_type": "code",
   "execution_count": 70,
   "id": "563e74f9",
   "metadata": {
    "_kg_hide-input": true,
    "execution": {
     "iopub.execute_input": "2024-10-07T09:10:52.075731Z",
     "iopub.status.busy": "2024-10-07T09:10:52.075207Z",
     "iopub.status.idle": "2024-10-07T09:10:52.120026Z",
     "shell.execute_reply": "2024-10-07T09:10:52.118530Z"
    },
    "jupyter": {
     "source_hidden": true
    },
    "papermill": {
     "duration": 0.105329,
     "end_time": "2024-10-07T09:10:52.123496",
     "exception": false,
     "start_time": "2024-10-07T09:10:52.018167",
     "status": "completed"
    },
    "tags": []
   },
   "outputs": [],
   "source": [
    "if 'SOLUTION_8' in ENSEMBLE_SOLUTIONS:\n",
    "    \n",
    "    train= train.rename(columns={'bg+1:00': 'bg+1hour'}, inplace=False)\n",
    "\n",
    "    import re\n",
    "\n",
    "    # Function to clean feature names\n",
    "    def clean_column_names(train):\n",
    "        train.columns = [re.sub(r'[^\\w\\s]', '_', col) for col in train.columns]  # Replace special characters with underscores\n",
    "        return train\n",
    "    train = clean_column_names (train)\n",
    "    train"
   ]
  },
  {
   "cell_type": "code",
   "execution_count": 71,
   "id": "004bcf12",
   "metadata": {
    "_kg_hide-input": true,
    "execution": {
     "iopub.execute_input": "2024-10-07T09:10:52.233459Z",
     "iopub.status.busy": "2024-10-07T09:10:52.232958Z",
     "iopub.status.idle": "2024-10-07T09:10:52.341063Z",
     "shell.execute_reply": "2024-10-07T09:10:52.339686Z"
    },
    "jupyter": {
     "source_hidden": true
    },
    "papermill": {
     "duration": 0.167073,
     "end_time": "2024-10-07T09:10:52.344627",
     "exception": false,
     "start_time": "2024-10-07T09:10:52.177554",
     "status": "completed"
    },
    "tags": []
   },
   "outputs": [],
   "source": [
    "if 'SOLUTION_8' in ENSEMBLE_SOLUTIONS:\n",
    "    \n",
    "    # Extract feature and target arrays\n",
    "    X= train.drop('bg_1hour', axis=1)\n",
    "    y= train[['bg_1hour']]\n",
    "    # Extract text features\n",
    "    cats = X.select_dtypes(exclude=np.number).columns.tolist()\n",
    "\n",
    "    # Convert to pd.Categorical\n",
    "    for col in cats:\n",
    "        X[col] = X[col].astype('category')"
   ]
  },
  {
   "cell_type": "code",
   "execution_count": 72,
   "id": "25cefdb6",
   "metadata": {
    "_kg_hide-input": true,
    "execution": {
     "iopub.execute_input": "2024-10-07T09:10:52.457692Z",
     "iopub.status.busy": "2024-10-07T09:10:52.457156Z",
     "iopub.status.idle": "2024-10-07T09:10:52.743032Z",
     "shell.execute_reply": "2024-10-07T09:10:52.741474Z"
    },
    "jupyter": {
     "source_hidden": true
    },
    "papermill": {
     "duration": 0.345189,
     "end_time": "2024-10-07T09:10:52.746048",
     "exception": false,
     "start_time": "2024-10-07T09:10:52.400859",
     "status": "completed"
    },
    "tags": []
   },
   "outputs": [],
   "source": [
    "if 'SOLUTION_8' in ENSEMBLE_SOLUTIONS:\n",
    "    \n",
    "    from sklearn.model_selection import train_test_split\n",
    "\n",
    "    X_train, X_test, y_train, y_test = train_test_split(X, y, test_size= 0.2, random_state=42)"
   ]
  },
  {
   "cell_type": "code",
   "execution_count": 73,
   "id": "97b321ac",
   "metadata": {
    "_kg_hide-input": true,
    "execution": {
     "iopub.execute_input": "2024-10-07T09:10:52.854855Z",
     "iopub.status.busy": "2024-10-07T09:10:52.854275Z",
     "iopub.status.idle": "2024-10-07T09:11:26.265544Z",
     "shell.execute_reply": "2024-10-07T09:11:26.264038Z"
    },
    "jupyter": {
     "source_hidden": true
    },
    "papermill": {
     "duration": 33.470013,
     "end_time": "2024-10-07T09:11:26.269288",
     "exception": false,
     "start_time": "2024-10-07T09:10:52.799275",
     "status": "completed"
    },
    "tags": []
   },
   "outputs": [],
   "source": [
    "if 'SOLUTION_8' in ENSEMBLE_SOLUTIONS: \n",
    "    \n",
    "    #Training with LightGBM model \n",
    "    import lightgbm as lgbm\n",
    "    \n",
    "    params = { 'objective': 'regression',  # not needed\n",
    "        'boosting_type': 'gbdt',  # default\n",
    "        'num_leaves': 31,  # default\n",
    "        'learning_rate': 0.05,  # default = 0.10\n",
    "        'feature_fraction': 1.0,  # default\n",
    "        'min_data_in_leaf': 2,  # default = 20\n",
    "        'random_state': 0,\n",
    "        'verbosity': -1}\n",
    "\n",
    "    model = lgbm.LGBMRegressor(**params)\n",
    "    model.fit(X_train, y_train)"
   ]
  },
  {
   "cell_type": "code",
   "execution_count": 74,
   "id": "0fb9b972",
   "metadata": {
    "_kg_hide-input": true,
    "execution": {
     "iopub.execute_input": "2024-10-07T09:11:26.379164Z",
     "iopub.status.busy": "2024-10-07T09:11:26.377795Z",
     "iopub.status.idle": "2024-10-07T09:11:26.917853Z",
     "shell.execute_reply": "2024-10-07T09:11:26.916104Z"
    },
    "jupyter": {
     "source_hidden": true
    },
    "papermill": {
     "duration": 0.597882,
     "end_time": "2024-10-07T09:11:26.920767",
     "exception": false,
     "start_time": "2024-10-07T09:11:26.322885",
     "status": "completed"
    },
    "tags": []
   },
   "outputs": [
    {
     "name": "stdout",
     "output_type": "stream",
     "text": [
      "3.993849963101157\n"
     ]
    }
   ],
   "source": [
    "if 'SOLUTION_8' in ENSEMBLE_SOLUTIONS:\n",
    "    \n",
    "    #Predictions\n",
    "    y_pred = model.predict(X_test)\n",
    "    \n",
    "    from sklearn.metrics import mean_squared_error\n",
    "    \n",
    "    # printing the mean squared error between real value and predicted value\n",
    "    print(mean_squared_error(y_test, y_pred))"
   ]
  },
  {
   "cell_type": "code",
   "execution_count": 75,
   "id": "f5d66563",
   "metadata": {
    "_kg_hide-input": true,
    "execution": {
     "iopub.execute_input": "2024-10-07T09:11:27.029697Z",
     "iopub.status.busy": "2024-10-07T09:11:27.029095Z",
     "iopub.status.idle": "2024-10-07T09:11:27.037927Z",
     "shell.execute_reply": "2024-10-07T09:11:27.036543Z"
    },
    "jupyter": {
     "source_hidden": true
    },
    "papermill": {
     "duration": 0.067296,
     "end_time": "2024-10-07T09:11:27.040795",
     "exception": false,
     "start_time": "2024-10-07T09:11:26.973499",
     "status": "completed"
    },
    "tags": []
   },
   "outputs": [],
   "source": [
    "if 'SOLUTION_8' in ENSEMBLE_SOLUTIONS:\n",
    "    \n",
    "    test"
   ]
  },
  {
   "cell_type": "code",
   "execution_count": 76,
   "id": "a7cf6e6e",
   "metadata": {
    "_kg_hide-input": true,
    "execution": {
     "iopub.execute_input": "2024-10-07T09:11:27.150442Z",
     "iopub.status.busy": "2024-10-07T09:11:27.149122Z",
     "iopub.status.idle": "2024-10-07T09:11:27.186968Z",
     "shell.execute_reply": "2024-10-07T09:11:27.185567Z"
    },
    "jupyter": {
     "source_hidden": true
    },
    "papermill": {
     "duration": 0.095926,
     "end_time": "2024-10-07T09:11:27.189955",
     "exception": false,
     "start_time": "2024-10-07T09:11:27.094029",
     "status": "completed"
    },
    "tags": []
   },
   "outputs": [],
   "source": [
    "if 'SOLUTION_8' in ENSEMBLE_SOLUTIONS:\n",
    "    \n",
    "    test = test.drop(test.loc[:,'id' : 'p_num'].columns, axis=1)\n",
    "    test = test.drop(test.loc[:,'carbs-5:55' : 'activity-0:00'].columns, axis=1)\n",
    "\n",
    "    # Function to clean feature names\n",
    "    def clean_column_names(test):\n",
    "        test.columns = [re.sub(r'[^\\w\\s]', '_', col) for col in test.columns]  # Replace special characters with underscores\n",
    "        return test\n",
    "\n",
    "    test = clean_column_names (test)\n",
    "    # Extract text features\n",
    "    cats = test.select_dtypes(exclude=np.number).columns.tolist()\n",
    "\n",
    "    # Convert to pd.Categorical\n",
    "    for col in cats:\n",
    "        test[col] = test[col].astype('category')"
   ]
  },
  {
   "cell_type": "code",
   "execution_count": 77,
   "id": "9cee978a",
   "metadata": {
    "_kg_hide-input": true,
    "execution": {
     "iopub.execute_input": "2024-10-07T09:11:27.298375Z",
     "iopub.status.busy": "2024-10-07T09:11:27.297873Z",
     "iopub.status.idle": "2024-10-07T09:11:27.354013Z",
     "shell.execute_reply": "2024-10-07T09:11:27.352545Z"
    },
    "jupyter": {
     "source_hidden": true
    },
    "papermill": {
     "duration": 0.114159,
     "end_time": "2024-10-07T09:11:27.356984",
     "exception": false,
     "start_time": "2024-10-07T09:11:27.242825",
     "status": "completed"
    },
    "tags": []
   },
   "outputs": [],
   "source": [
    "if 'SOLUTION_8' in ENSEMBLE_SOLUTIONS:\n",
    "    \n",
    "    pred_LightGBM=model.predict(test)\n",
    "    pred_LightGBM"
   ]
  },
  {
   "cell_type": "code",
   "execution_count": 78,
   "id": "1a963925",
   "metadata": {
    "_kg_hide-input": true,
    "execution": {
     "iopub.execute_input": "2024-10-07T09:11:27.466762Z",
     "iopub.status.busy": "2024-10-07T09:11:27.466189Z",
     "iopub.status.idle": "2024-10-07T09:11:27.497096Z",
     "shell.execute_reply": "2024-10-07T09:11:27.495665Z"
    },
    "jupyter": {
     "source_hidden": true
    },
    "papermill": {
     "duration": 0.089749,
     "end_time": "2024-10-07T09:11:27.500826",
     "exception": false,
     "start_time": "2024-10-07T09:11:27.411077",
     "status": "completed"
    },
    "tags": []
   },
   "outputs": [],
   "source": [
    "if 'SOLUTION_8' in ENSEMBLE_SOLUTIONS:\n",
    "    \n",
    "    sub = pd.read_csv('/kaggle/input/brist1d/sample_submission.csv')\n",
    "    sub['bg+1:00'] = pred_LightGBM\n",
    "    sub.to_csv('submission_8.csv', index=False)"
   ]
  },
  {
   "cell_type": "code",
   "execution_count": 79,
   "id": "8df0b74e",
   "metadata": {
    "_kg_hide-input": true,
    "execution": {
     "iopub.execute_input": "2024-10-07T09:11:27.612447Z",
     "iopub.status.busy": "2024-10-07T09:11:27.611963Z",
     "iopub.status.idle": "2024-10-07T09:11:27.618386Z",
     "shell.execute_reply": "2024-10-07T09:11:27.616841Z"
    },
    "jupyter": {
     "source_hidden": true
    },
    "papermill": {
     "duration": 0.065279,
     "end_time": "2024-10-07T09:11:27.621123",
     "exception": false,
     "start_time": "2024-10-07T09:11:27.555844",
     "status": "completed"
    },
    "tags": []
   },
   "outputs": [],
   "source": [
    "if 'SOLUTION_8' in ENSEMBLE_SOLUTIONS:\n",
    "    \n",
    "    sub"
   ]
  },
  {
   "cell_type": "markdown",
   "id": "12dad584",
   "metadata": {
    "papermill": {
     "duration": 0.055068,
     "end_time": "2024-10-07T09:11:27.730844",
     "exception": false,
     "start_time": "2024-10-07T09:11:27.675776",
     "status": "completed"
    },
    "tags": []
   },
   "source": [
    "## 9. [2.51_score_BrisT1D Blood Glucose](https://www.kaggle.com/code/muhammadqasimshabbir/2-51-score-brist1d-blood-glucose)\n",
    "### [Muhammad Qasim Shabbir](https://www.kaggle.com/muhammadqasimshabbir/code)"
   ]
  },
  {
   "cell_type": "code",
   "execution_count": 80,
   "id": "9e79802f",
   "metadata": {
    "_kg_hide-input": true,
    "_kg_hide-output": true,
    "execution": {
     "iopub.execute_input": "2024-10-07T09:11:27.845058Z",
     "iopub.status.busy": "2024-10-07T09:11:27.844516Z",
     "iopub.status.idle": "2024-10-07T09:11:27.854585Z",
     "shell.execute_reply": "2024-10-07T09:11:27.852945Z"
    },
    "jupyter": {
     "source_hidden": true
    },
    "papermill": {
     "duration": 0.069659,
     "end_time": "2024-10-07T09:11:27.857618",
     "exception": false,
     "start_time": "2024-10-07T09:11:27.787959",
     "status": "completed"
    },
    "tags": []
   },
   "outputs": [],
   "source": [
    "# if 'SOLUTION_9' in ENSEMBLE_SOLUTIONS:\n",
    "\n",
    "#     import pandas as pd\n",
    "#     from catboost import CatBoostRegressor\n",
    "\n",
    "#     # Load the datasets\n",
    "#     train = pd.read_csv('/kaggle/input/brist1d/train.csv')\n",
    "#     test = pd.read_csv('/kaggle/input/brist1d/test.csv')\n",
    "\n",
    "#     # Set the threshold for dropping columns (50% missing values)\n",
    "#     threshold = 0.5\n",
    "\n",
    "#     # Create a mask of columns to drop in the training set\n",
    "#     train_missing_ratio = train.isnull().mean()\n",
    "#     train_cols_to_drop = train_missing_ratio[train_missing_ratio > threshold].index\n",
    "\n",
    "#     # Apply the same columns to the test set for consistency\n",
    "#     test_missing_ratio = test.isnull().mean()\n",
    "#     test_cols_to_drop = test_missing_ratio[test_missing_ratio > threshold].index\n",
    "\n",
    "#     # Combine the columns to drop from both train and test (to ensure consistency)\n",
    "#     cols_to_drop = set(train_cols_to_drop).union(set(test_cols_to_drop))\n",
    "\n",
    "#     # Drop the columns in both train and test\n",
    "#     train_cleaned = train.drop(cols_to_drop, axis=1)\n",
    "#     test_cleaned = test.drop(cols_to_drop, axis=1)\n",
    "\n",
    "#     # Drop the 'id' column from both datasets\n",
    "#     train_cleaned = train_cleaned.drop('id', axis=1)\n",
    "#     test_cleaned = test_cleaned.drop('id', axis=1)\n",
    "\n",
    "#     # Convert time columns to hours, minutes, and seconds\n",
    "#     def convert_time_columns(df):\n",
    "#         for col in df.columns:\n",
    "#             if pd.api.types.is_datetime64_any_dtype(df[col]) or 'time' in col.lower():\n",
    "#                 df[col] = pd.to_datetime(df[col], errors='coerce')  # Convert to datetime\n",
    "#                 df[col+'_hour'] = df[col].dt.hour\n",
    "#                 df[col+'_minute'] = df[col].dt.minute\n",
    "#                 df[col+'_second'] = df[col].dt.second\n",
    "#                 df.drop(col, axis=1, inplace=True)  # Drop original time column after conversion\n",
    "\n",
    "#     # Apply time conversion to both train and test datasets\n",
    "#     convert_time_columns(train_cleaned)\n",
    "#     convert_time_columns(test_cleaned)\n",
    "\n",
    "#     # Handle 'p_num' in the test set: find unique values and replace them with numbers\n",
    "#     unique_pnums = test_cleaned['p_num'].unique()\n",
    "#     pnum_mapping = {value: idx for idx, value in enumerate(unique_pnums)}\n",
    "#     test_cleaned['p_num'] = test_cleaned['p_num'].map(pnum_mapping)\n",
    "\n",
    "#     # Also ensure the same mapping is applied to 'p_num' in the train set, if it exists\n",
    "#     if 'p_num' in train_cleaned.columns:\n",
    "#         train_cleaned['p_num'] = train_cleaned['p_num'].map(pnum_mapping)\n",
    "\n",
    "#     # Fill missing values with the mean of their respective columns in both train and test\n",
    "#     train_cleaned.fillna(train_cleaned.mean(), inplace=True)\n",
    "#     test_cleaned.fillna(test_cleaned.mean(), inplace=True)\n",
    "\n",
    "\n",
    "#     # Split training data into features (X) and target (y)\n",
    "#     X_train = train_cleaned.drop('bg+1:00', axis=1)  # Replace 'target_column' with the actual name of the target\n",
    "#     y_train = train_cleaned['bg+1:00']\n",
    "\n",
    "#     # Initialize the CatBoost Regressor\n",
    "#     model = CatBoostRegressor(iterations=1000, learning_rate=0.1, depth=6, verbose=100)\n",
    "\n",
    "#     # Train the model on the training data\n",
    "#     model.fit(X_train, y_train)\n",
    "\n",
    "#     # Make predictions on the test data\n",
    "#     X_test = test_cleaned.drop('bg+1:00', axis=1, errors='ignore')  # Ensure no target column in test data\n",
    "#     predictions = model.predict(X_test)\n",
    "\n",
    "\n",
    "#     # Optionally, save the predictions to a CSV file\n",
    "#     submission = pd.DataFrame({'id': test['id'], 'bg+1:00': predictions})  # Replace 'target_column' as needed\n",
    "#     submission.to_csv('/kaggle/working/submission.csv', index=False)\n",
    "\n",
    "#     print(\"Model training and predictions completed.\")\n",
    "#     print(\"Unique 'p_num' values replaced with integers:\", pnum_mapping)\n"
   ]
  },
  {
   "cell_type": "code",
   "execution_count": 81,
   "id": "207cbea6",
   "metadata": {
    "_kg_hide-input": true,
    "_kg_hide-output": true,
    "execution": {
     "iopub.execute_input": "2024-10-07T09:11:27.966466Z",
     "iopub.status.busy": "2024-10-07T09:11:27.965964Z",
     "iopub.status.idle": "2024-10-07T09:11:27.987740Z",
     "shell.execute_reply": "2024-10-07T09:11:27.986142Z"
    },
    "jupyter": {
     "source_hidden": true
    },
    "papermill": {
     "duration": 0.079788,
     "end_time": "2024-10-07T09:11:27.990809",
     "exception": false,
     "start_time": "2024-10-07T09:11:27.911021",
     "status": "completed"
    },
    "tags": []
   },
   "outputs": [],
   "source": [
    "if 'SOLUTION_9' in ENSEMBLE_SOLUTIONS:\n",
    "\n",
    "    import pandas as pd\n",
    "    from catboost import CatBoostRegressor\n",
    "\n",
    "    # Load the datasets\n",
    "    train = pd.read_csv('/kaggle/input/brist1d/train.csv')\n",
    "    test = pd.read_csv('/kaggle/input/brist1d/test.csv')\n",
    "\n",
    "    # Set the threshold for dropping columns (50% missing values)\n",
    "    threshold = 0.5\n",
    "\n",
    "    # Create a mask of columns to drop in the training set\n",
    "    train_missing_ratio = train.isnull().mean()\n",
    "    train_cols_to_drop = train_missing_ratio[train_missing_ratio > threshold].index\n",
    "\n",
    "    # Apply the same columns to the test set for consistency\n",
    "    test_missing_ratio = test.isnull().mean()\n",
    "    test_cols_to_drop = test_missing_ratio[test_missing_ratio > threshold].index\n",
    "\n",
    "    # Combine the columns to drop from both train and test (to ensure consistency)\n",
    "    cols_to_drop = set(train_cols_to_drop).union(set(test_cols_to_drop))\n",
    "\n",
    "    # Drop the columns in both train and test\n",
    "    train_cleaned = train.drop(cols_to_drop, axis=1)\n",
    "    test_cleaned = test.drop(cols_to_drop, axis=1)\n",
    "\n",
    "    # Drop the 'id' column from both datasets\n",
    "    train_cleaned = train_cleaned.drop('id', axis=1)\n",
    "    test_cleaned = test_cleaned.drop('id', axis=1)\n",
    "\n",
    "    # Convert time columns to hours, minutes, and seconds\n",
    "    def convert_time_columns(df):\n",
    "        for col in df.columns:\n",
    "            if pd.api.types.is_datetime64_any_dtype(df[col]) or 'time' in col.lower():\n",
    "                df[col] = pd.to_datetime(df[col], errors='coerce')  # Convert to datetime\n",
    "                df[col+'_hour'] = df[col].dt.hour\n",
    "                df[col+'_minute'] = df[col].dt.minute\n",
    "                df[col+'_second'] = df[col].dt.second\n",
    "                df.drop(col, axis=1, inplace=True)  # Drop original time column after conversion\n",
    "\n",
    "    # Apply time conversion to both train and test datasets\n",
    "    convert_time_columns(train_cleaned)\n",
    "    convert_time_columns(test_cleaned)\n",
    "\n",
    "    # Handle 'p_num' in the test set: find unique values and replace them with numbers\n",
    "    unique_pnums = test_cleaned['p_num'].unique()\n",
    "    pnum_mapping = {value: idx for idx, value in enumerate(unique_pnums)}\n",
    "    test_cleaned['p_num'] = test_cleaned['p_num'].map(pnum_mapping)\n",
    "\n",
    "    # Also ensure the same mapping is applied to 'p_num' in the train set, if it exists\n",
    "    if 'p_num' in train_cleaned.columns:\n",
    "        train_cleaned['p_num'] = train_cleaned['p_num'].map(pnum_mapping)\n",
    "\n",
    "    # Fill missing values with the mean of their respective columns in both train and test\n",
    "    train_cleaned.fillna(train_cleaned.mean(), inplace=True)\n",
    "    test_cleaned.fillna(test_cleaned.mean(), inplace=True)\n",
    "\n",
    "\n",
    "    # Split training data into features (X) and target (y)\n",
    "    X_train = train_cleaned.drop('bg+1:00', axis=1)  # Replace 'target_column' with the actual name of the target\n",
    "    y_train = train_cleaned['bg+1:00']\n",
    "\n",
    "    # Initialize the CatBoost Regressor\n",
    "    model = CatBoostRegressor(iterations=1000, learning_rate=0.1, depth=6, verbose=100)\n",
    "\n",
    "    # Train the model on the training data\n",
    "    model.fit(X_train, y_train)\n",
    "\n",
    "    # Make predictions on the test data\n",
    "    X_test = test_cleaned.drop('bg+1:00', axis=1, errors='ignore')  # Ensure no target column in test data\n",
    "    predictions = model.predict(X_test)\n",
    "\n",
    "\n",
    "    # Optionally, save the predictions to a CSV file\n",
    "    submission = pd.DataFrame({'id': test['id'], 'bg+1:00': predictions})  # Replace 'target_column' as needed\n",
    "    submission.to_csv('/kaggle/working/submission_9.csv', index=False)\n",
    "\n",
    "    print(\"Model training and predictions completed.\")\n",
    "    print(\"Unique 'p_num' values replaced with integers:\", pnum_mapping)"
   ]
  },
  {
   "cell_type": "markdown",
   "id": "7a88bb0b",
   "metadata": {
    "_kg_hide-input": true,
    "_kg_hide-output": true,
    "papermill": {
     "duration": 0.056119,
     "end_time": "2024-10-07T09:11:28.106258",
     "exception": false,
     "start_time": "2024-10-07T09:11:28.050139",
     "status": "completed"
    },
    "tags": []
   },
   "source": [
    "## Ensemble solutions"
   ]
  },
  {
   "cell_type": "code",
   "execution_count": 82,
   "id": "3cca7c2b",
   "metadata": {
    "_kg_hide-input": true,
    "_kg_hide-output": false,
    "execution": {
     "iopub.execute_input": "2024-10-07T09:11:28.221239Z",
     "iopub.status.busy": "2024-10-07T09:11:28.220743Z",
     "iopub.status.idle": "2024-10-07T09:11:28.287805Z",
     "shell.execute_reply": "2024-10-07T09:11:28.286160Z"
    },
    "jupyter": {
     "source_hidden": true
    },
    "papermill": {
     "duration": 0.127972,
     "end_time": "2024-10-07T09:11:28.290893",
     "exception": false,
     "start_time": "2024-10-07T09:11:28.162921",
     "status": "completed"
    },
    "tags": []
   },
   "outputs": [
    {
     "data": {
      "text/html": [
       "<div>\n",
       "<style scoped>\n",
       "    .dataframe tbody tr th:only-of-type {\n",
       "        vertical-align: middle;\n",
       "    }\n",
       "\n",
       "    .dataframe tbody tr th {\n",
       "        vertical-align: top;\n",
       "    }\n",
       "\n",
       "    .dataframe thead th {\n",
       "        text-align: right;\n",
       "    }\n",
       "</style>\n",
       "<table border=\"1\" class=\"dataframe\">\n",
       "  <thead>\n",
       "    <tr style=\"text-align: right;\">\n",
       "      <th></th>\n",
       "      <th>id</th>\n",
       "      <th>bg+1:00_2</th>\n",
       "      <th>bg+1:00_8</th>\n",
       "      <th>bg+1:00_3</th>\n",
       "    </tr>\n",
       "  </thead>\n",
       "  <tbody>\n",
       "    <tr>\n",
       "      <th>0</th>\n",
       "      <td>p01_8459</td>\n",
       "      <td>9.252602</td>\n",
       "      <td>9.225039</td>\n",
       "      <td>8.849679</td>\n",
       "    </tr>\n",
       "    <tr>\n",
       "      <th>1</th>\n",
       "      <td>p01_8460</td>\n",
       "      <td>5.855112</td>\n",
       "      <td>5.835941</td>\n",
       "      <td>6.145966</td>\n",
       "    </tr>\n",
       "    <tr>\n",
       "      <th>2</th>\n",
       "      <td>p01_8461</td>\n",
       "      <td>7.920167</td>\n",
       "      <td>7.515613</td>\n",
       "      <td>7.353638</td>\n",
       "    </tr>\n",
       "    <tr>\n",
       "      <th>3</th>\n",
       "      <td>p01_8462</td>\n",
       "      <td>10.099611</td>\n",
       "      <td>9.670034</td>\n",
       "      <td>10.381640</td>\n",
       "    </tr>\n",
       "    <tr>\n",
       "      <th>4</th>\n",
       "      <td>p01_8463</td>\n",
       "      <td>5.981306</td>\n",
       "      <td>5.995573</td>\n",
       "      <td>7.332532</td>\n",
       "    </tr>\n",
       "    <tr>\n",
       "      <th>...</th>\n",
       "      <td>...</td>\n",
       "      <td>...</td>\n",
       "      <td>...</td>\n",
       "      <td>...</td>\n",
       "    </tr>\n",
       "    <tr>\n",
       "      <th>3639</th>\n",
       "      <td>p24_256</td>\n",
       "      <td>6.441653</td>\n",
       "      <td>6.444435</td>\n",
       "      <td>6.543861</td>\n",
       "    </tr>\n",
       "    <tr>\n",
       "      <th>3640</th>\n",
       "      <td>p24_257</td>\n",
       "      <td>9.389265</td>\n",
       "      <td>9.610002</td>\n",
       "      <td>9.703669</td>\n",
       "    </tr>\n",
       "    <tr>\n",
       "      <th>3641</th>\n",
       "      <td>p24_258</td>\n",
       "      <td>7.440189</td>\n",
       "      <td>6.726151</td>\n",
       "      <td>6.912447</td>\n",
       "    </tr>\n",
       "    <tr>\n",
       "      <th>3642</th>\n",
       "      <td>p24_259</td>\n",
       "      <td>8.170865</td>\n",
       "      <td>8.347773</td>\n",
       "      <td>8.122575</td>\n",
       "    </tr>\n",
       "    <tr>\n",
       "      <th>3643</th>\n",
       "      <td>p24_260</td>\n",
       "      <td>7.465808</td>\n",
       "      <td>6.419931</td>\n",
       "      <td>7.341450</td>\n",
       "    </tr>\n",
       "  </tbody>\n",
       "</table>\n",
       "<p>3644 rows × 4 columns</p>\n",
       "</div>"
      ],
      "text/plain": [
       "            id  bg+1:00_2  bg+1:00_8  bg+1:00_3\n",
       "0     p01_8459   9.252602   9.225039   8.849679\n",
       "1     p01_8460   5.855112   5.835941   6.145966\n",
       "2     p01_8461   7.920167   7.515613   7.353638\n",
       "3     p01_8462  10.099611   9.670034  10.381640\n",
       "4     p01_8463   5.981306   5.995573   7.332532\n",
       "...        ...        ...        ...        ...\n",
       "3639   p24_256   6.441653   6.444435   6.543861\n",
       "3640   p24_257   9.389265   9.610002   9.703669\n",
       "3641   p24_258   7.440189   6.726151   6.912447\n",
       "3642   p24_259   8.170865   8.347773   8.122575\n",
       "3643   p24_260   7.465808   6.419931   7.341450\n",
       "\n",
       "[3644 rows x 4 columns]"
      ]
     },
     "metadata": {},
     "output_type": "display_data"
    }
   ],
   "source": [
    "if ENSEMBLE_SOLUTIONS == ['SOLUTION_2','SOLUTION_8','SOLUTION_3']  and LAUNCH_VARIANT == 'option 27':   \n",
    "    sm2 = pd.read_csv('submission_2.csv')\n",
    "    sm8 = pd.read_csv('submission_8.csv')\n",
    "    sm3 = pd.read_csv('submission_3.csv')\n",
    "    sm2 = sm2.rename(columns={'bg+1:00': 'bg+1:00_2'})\n",
    "    sm8 = sm8.rename(columns={'bg+1:00': 'bg+1:00_8'})\n",
    "    sm3 = sm3.rename(columns={'bg+1:00': 'bg+1:00_3'})   # LB=2515\n",
    "    sms = pd.merge(sm2,sm8,on=['id'])\n",
    "    sms = pd.merge(sms,sm3,on=['id'])\n",
    "    display(sms)\n",
    "    sms['bg+1:00'] = sms['bg+1:00_2'] *0.30 + 0.30* sms['bg+1:00_8'] + 0.40*sms['bg+1:00_3']\n",
    "    \n",
    "if ENSEMBLE_SOLUTIONS == ['SOLUTION_2','SOLUTION_8','SOLUTION_3']  and LAUNCH_VARIANT == 'option 30':   \n",
    "    sm2 = pd.read_csv('submission_2.csv')\n",
    "    sm8 = pd.read_csv('submission_8.csv')\n",
    "    sm3 = pd.read_csv('submission_3.csv')\n",
    "    sm2 = sm2.rename(columns={'bg+1:00': 'bg+1:00_2'})\n",
    "    sm8 = sm8.rename(columns={'bg+1:00': 'bg+1:00_8'})\n",
    "    sm3 = sm3.rename(columns={'bg+1:00': 'bg+1:00_3'})   # LB=?\n",
    "    sms = pd.merge(sm2,sm8,on=['id'])\n",
    "    sms = pd.merge(sms,sm3,on=['id'])\n",
    "    display(sms)\n",
    "    sms['bg+1:00'] = sms['bg+1:00_2'] *0.21 + 0.33* sms['bg+1:00_8'] + 0.46*sms['bg+1:00_3']"
   ]
  },
  {
   "cell_type": "code",
   "execution_count": 83,
   "id": "16032bd8",
   "metadata": {
    "_kg_hide-input": true,
    "_kg_hide-output": true,
    "execution": {
     "iopub.execute_input": "2024-10-07T09:11:28.400305Z",
     "iopub.status.busy": "2024-10-07T09:11:28.399790Z",
     "iopub.status.idle": "2024-10-07T09:11:28.432511Z",
     "shell.execute_reply": "2024-10-07T09:11:28.431025Z"
    },
    "jupyter": {
     "source_hidden": true
    },
    "papermill": {
     "duration": 0.090984,
     "end_time": "2024-10-07T09:11:28.435701",
     "exception": false,
     "start_time": "2024-10-07T09:11:28.344717",
     "status": "completed"
    },
    "tags": []
   },
   "outputs": [
    {
     "data": {
      "text/html": [
       "<div>\n",
       "<style scoped>\n",
       "    .dataframe tbody tr th:only-of-type {\n",
       "        vertical-align: middle;\n",
       "    }\n",
       "\n",
       "    .dataframe tbody tr th {\n",
       "        vertical-align: top;\n",
       "    }\n",
       "\n",
       "    .dataframe thead th {\n",
       "        text-align: right;\n",
       "    }\n",
       "</style>\n",
       "<table border=\"1\" class=\"dataframe\">\n",
       "  <thead>\n",
       "    <tr style=\"text-align: right;\">\n",
       "      <th></th>\n",
       "      <th>id</th>\n",
       "      <th>bg+1:00</th>\n",
       "    </tr>\n",
       "  </thead>\n",
       "  <tbody>\n",
       "    <tr>\n",
       "      <th>0</th>\n",
       "      <td>p01_8459</td>\n",
       "      <td>9.058162</td>\n",
       "    </tr>\n",
       "    <tr>\n",
       "      <th>1</th>\n",
       "      <td>p01_8460</td>\n",
       "      <td>5.982578</td>\n",
       "    </tr>\n",
       "    <tr>\n",
       "      <th>2</th>\n",
       "      <td>p01_8461</td>\n",
       "      <td>7.526061</td>\n",
       "    </tr>\n",
       "    <tr>\n",
       "      <th>3</th>\n",
       "      <td>p01_8462</td>\n",
       "      <td>10.087584</td>\n",
       "    </tr>\n",
       "    <tr>\n",
       "      <th>4</th>\n",
       "      <td>p01_8463</td>\n",
       "      <td>6.607578</td>\n",
       "    </tr>\n",
       "    <tr>\n",
       "      <th>...</th>\n",
       "      <td>...</td>\n",
       "      <td>...</td>\n",
       "    </tr>\n",
       "    <tr>\n",
       "      <th>3639</th>\n",
       "      <td>p24_256</td>\n",
       "      <td>6.489587</td>\n",
       "    </tr>\n",
       "    <tr>\n",
       "      <th>3640</th>\n",
       "      <td>p24_257</td>\n",
       "      <td>9.606734</td>\n",
       "    </tr>\n",
       "    <tr>\n",
       "      <th>3641</th>\n",
       "      <td>p24_258</td>\n",
       "      <td>6.961795</td>\n",
       "    </tr>\n",
       "    <tr>\n",
       "      <th>3642</th>\n",
       "      <td>p24_259</td>\n",
       "      <td>8.207031</td>\n",
       "    </tr>\n",
       "    <tr>\n",
       "      <th>3643</th>\n",
       "      <td>p24_260</td>\n",
       "      <td>7.063464</td>\n",
       "    </tr>\n",
       "  </tbody>\n",
       "</table>\n",
       "<p>3644 rows × 2 columns</p>\n",
       "</div>"
      ],
      "text/plain": [
       "            id    bg+1:00\n",
       "0     p01_8459   9.058162\n",
       "1     p01_8460   5.982578\n",
       "2     p01_8461   7.526061\n",
       "3     p01_8462  10.087584\n",
       "4     p01_8463   6.607578\n",
       "...        ...        ...\n",
       "3639   p24_256   6.489587\n",
       "3640   p24_257   9.606734\n",
       "3641   p24_258   6.961795\n",
       "3642   p24_259   8.207031\n",
       "3643   p24_260   7.063464\n",
       "\n",
       "[3644 rows x 2 columns]"
      ]
     },
     "execution_count": 83,
     "metadata": {},
     "output_type": "execute_result"
    }
   ],
   "source": [
    "sub = sms[['id','bg+1:00']]\n",
    "sub.to_csv('submission.csv', index=False)\n",
    "sub"
   ]
  },
  {
   "cell_type": "code",
   "execution_count": 84,
   "id": "7505fb91",
   "metadata": {
    "_kg_hide-input": true,
    "execution": {
     "iopub.execute_input": "2024-10-07T09:11:28.552211Z",
     "iopub.status.busy": "2024-10-07T09:11:28.551665Z",
     "iopub.status.idle": "2024-10-07T09:11:28.571070Z",
     "shell.execute_reply": "2024-10-07T09:11:28.569528Z"
    },
    "jupyter": {
     "source_hidden": true
    },
    "papermill": {
     "duration": 0.081583,
     "end_time": "2024-10-07T09:11:28.574039",
     "exception": false,
     "start_time": "2024-10-07T09:11:28.492456",
     "status": "completed"
    },
    "tags": []
   },
   "outputs": [],
   "source": [
    "# arhiv\n",
    "\n",
    "\n",
    "# - option 25 ->Lb=**?** solutions (8,9) + weight(0.43+0.57)\n",
    "# - option 26 ->Lb=**?** solutions (8,9) + weight(0.37+0.63)\n",
    "# - \n",
    "# - option 19 ->Lb=**?** solutions (2,8) + weight(0.485+0.515)\n",
    "# - option 20 ->Lb=**?** solutions (2,8) + weight(0.515+0.485)\n",
    "\n",
    "\n",
    "# elif ENSEMBLE_SOLUTIONS == ['SOLUTION_3','SOLUTION_2']  and LAUNCH_VARIANT == 'option 28':\n",
    "#     sm3 = pd.read_csv('submission_3.csv')\n",
    "#     sm2 = pd.read_csv('submission_2.csv')\n",
    "#     sm3 = sm3.rename(columns={'bg+1:00': 'bg+1:00_3'})   # LB=?\n",
    "#     sm2 = sm2.rename(columns={'bg+1:00': 'bg+1:00_2'})\n",
    "#     sms = pd.merge(sm3,sm2,on=['id'])\n",
    "#     display(sms)\n",
    "#     sms['bg+1:00'] = sms['bg+1:00_3'] *0.55 + 0.45* sms['bg+1:00_2']\n",
    "    \n",
    "# elif ENSEMBLE_SOLUTIONS == ['SOLUTION_3','SOLUTION_8']  and LAUNCH_VARIANT == 'option 29':   \n",
    "#     sm3 = pd.read_csv('submission_3.csv')\n",
    "#     sm8 = pd.read_csv('submission_8.csv')\n",
    "#     sm3 = sm3.rename(columns={'bg+1:00': 'bg+1:00_3'})   # LB=?\n",
    "#     sm8 = sm8.rename(columns={'bg+1:00': 'bg+1:00_8'})\n",
    "#     sms = pd.merge(sm3,sm8,on=['id'])\n",
    "#     display(sms)\n",
    "#     sms['bg+1:00'] = sms['bg+1:00_3'] *0.55 + 0.45* sms['bg+1:00_8']\n",
    "\n",
    "#LAUNCH_VARIANT,ENSEMBLE_SOLUTIONS = 'option 28',['SOLUTION_3','SOLUTION_2'] # weight(0.55+0.45)\n",
    "#LAUNCH_VARIANT,ENSEMBLE_SOLUTIONS = 'option 29',['SOLUTION_3','SOLUTION_8'] # weight(0.55+0.45)\n",
    "\n",
    "# if ENSEMBLE_SOLUTIONS == ['SOLUTION_2','SOLUTION_8']  and LAUNCH_VARIANT == 'option 10':   \n",
    "#     sm2 = pd.read_csv('submission_2.csv')\n",
    "#     sm8 = pd.read_csv('submission_8.csv')\n",
    "#     sm2 = sm2.rename(columns={'bg+1:00': 'bg+1:00_2'})    # LB=0.5331\n",
    "#     sm8 = sm8.rename(columns={'bg+1:00': 'bg+1:00_8'})\n",
    "#     sms = pd.merge(sm2,sm8,on=['id'])\n",
    "#     display(sms)\n",
    "#     sms['bg+1:00'] = sms['bg+1:00_2'] *0.50 + 0.50* sms['bg+1:00_8']\n",
    "    \n",
    "    \n",
    "# elif ENSEMBLE_SOLUTIONS == ['SOLUTION_2','SOLUTION_8']  and LAUNCH_VARIANT == 'option 19':   \n",
    "#     sm2 = pd.read_csv('submission_2.csv')\n",
    "#     sm8 = pd.read_csv('submission_8.csv')\n",
    "#     sm2 = sm2.rename(columns={'bg+1:00': 'bg+1:00_2'})    # LB=?\n",
    "#     sm8 = sm8.rename(columns={'bg+1:00': 'bg+1:00_8'})\n",
    "#     sms = pd.merge(sm2,sm8,on=['id'])\n",
    "#     display(sms)\n",
    "#     sms['bg+1:00'] = sms['bg+1:00_2'] *0.485 + 0.515* sms['bg+1:00_8']\n",
    "    \n",
    "# elif ENSEMBLE_SOLUTIONS == ['SOLUTION_2','SOLUTION_8']  and LAUNCH_VARIANT == 'option 20':   \n",
    "#     sm2 = pd.read_csv('submission_2.csv')\n",
    "#     sm8 = pd.read_csv('submission_8.csv')\n",
    "#     sm2 = sm2.rename(columns={'bg+1:00': 'bg+1:00_2'})    # LB=?\n",
    "#     sm8 = sm8.rename(columns={'bg+1:00': 'bg+1:00_8'})\n",
    "#     sms = pd.merge(sm2,sm8,on=['id'])\n",
    "#     display(sms)\n",
    "#     sms['bg+1:00'] = sms['bg+1:00_2'] *0.515 + 0.485* sms['bg+1:00_8']\n",
    "    \n",
    "# if ENSEMBLE_SOLUTIONS == ['SOLUTION_8','SOLUTION_9']  and LAUNCH_VARIANT == 'option 21':   \n",
    "#     sm9 = pd.read_csv('submission_9.csv')\n",
    "#     sm8 = pd.read_csv('submission_8.csv')\n",
    "#     sm9 = sm9.rename(columns={'bg+1:00': 'bg+1:00_9'})    # LB=2.5348\n",
    "#     sm8 = sm8.rename(columns={'bg+1:00': 'bg+1:00_8'})\n",
    "#     sms = pd.merge(sm8,sm9,on=['id'])\n",
    "#     display(sms)\n",
    "#     sms['bg+1:00'] = sms['bg+1:00_8'] *0.50 + 0.50* sms['bg+1:00_9']\n",
    "\n",
    "# if ENSEMBLE_SOLUTIONS == ['SOLUTION_8','SOLUTION_9']  and LAUNCH_VARIANT == 'option 22':   \n",
    "#     sm9 = pd.read_csv('submission_9.csv')\n",
    "#     sm8 = pd.read_csv('submission_8.csv')\n",
    "#     sm9 = sm9.rename(columns={'bg+1:00': 'bg+1:00_9'})    # LB=2.5386\n",
    "#     sm8 = sm8.rename(columns={'bg+1:00': 'bg+1:00_8'})\n",
    "#     sms = pd.merge(sm8,sm9,on=['id'])\n",
    "#     display(sms)\n",
    "#     sms['bg+1:00'] = sms['bg+1:00_8'] *0.60 + 0.40* sms['bg+1:00_9']\n",
    "    \n",
    "# if ENSEMBLE_SOLUTIONS == ['SOLUTION_8','SOLUTION_9']  and LAUNCH_VARIANT == 'option 23':   \n",
    "#     sm9 = pd.read_csv('submission_9.csv')\n",
    "#     sm8 = pd.read_csv('submission_8.csv')\n",
    "#     sm9 = sm9.rename(columns={'bg+1:00': 'bg+1:00_9'})    # LB=2.5332\n",
    "#     sm8 = sm8.rename(columns={'bg+1:00': 'bg+1:00_8'})\n",
    "#     sms = pd.merge(sm8,sm9,on=['id'])\n",
    "#     display(sms)\n",
    "#     sms['bg+1:00'] = sms['bg+1:00_8'] *0.40 + 0.60* sms['bg+1:00_9']\n",
    "    \n",
    "# if ENSEMBLE_SOLUTIONS == ['SOLUTION_8','SOLUTION_9']  and LAUNCH_VARIANT == 'option 24':   \n",
    "#     sm9 = pd.read_csv('submission_9.csv')\n",
    "#     sm8 = pd.read_csv('submission_8.csv')\n",
    "#     sm9 = sm9.rename(columns={'bg+1:00': 'bg+1:00_9'})    # LB=2.5332\n",
    "#     sm8 = sm8.rename(columns={'bg+1:00': 'bg+1:00_8'})\n",
    "#     sms = pd.merge(sm8,sm9,on=['id'])\n",
    "#     display(sms)\n",
    "#     sms['bg+1:00'] = sms['bg+1:00_8'] *0.343 + 0.657* sms['bg+1:00_9']\n",
    "    \n",
    "    \n",
    "# if ENSEMBLE_SOLUTIONS == ['SOLUTION_3','SOLUTION_8']  and LAUNCH_VARIANT == 'option 18':   \n",
    "#     sm3 = pd.read_csv('submission_3.csv')\n",
    "#     sm8 = pd.read_csv('submission_8.csv')\n",
    "#     sm3 = sm3.rename(columns={'bg+1:00': 'bg+1:00_3'})    # LB=?\n",
    "#     sm8 = sm8.rename(columns={'bg+1:00': 'bg+1:00_8'})\n",
    "#     sms = pd.merge(sm3,sm8,on=['id'])\n",
    "#     display(sms)\n",
    "#     sms['bg+1:00'] = sms['bg+1:00_3'] *0.50 + 0.50* sms['bg+1:00_8']\n",
    "    \n",
    "# if ENSEMBLE_SOLUTIONS == ['SOLUTION_2','SOLUTION_8']  and LAUNCH_VARIANT == 'option 17':   \n",
    "#     sm2 = pd.read_csv('submission_2.csv')\n",
    "#     sm8 = pd.read_csv('submission_8.csv')\n",
    "#     sm2 = sm2.rename(columns={'bg+1:00': 'bg+1:00_2'})    # LB=?\n",
    "#     sm8 = sm8.rename(columns={'bg+1:00': 'bg+1:00_8'})\n",
    "#     sms = pd.merge(sm2,sm8,on=['id'])\n",
    "#     display(sms)\n",
    "#     sms['bg+1:00'] = sms['bg+1:00_2'] *0.40 + 0.60* sms['bg+1:00_8']\n",
    "\n",
    "# if ENSEMBLE_SOLUTIONS == ['SOLUTION_2','SOLUTION_8']  and LAUNCH_VARIANT == 'option 15':   \n",
    "#     sm2 = pd.read_csv('submission_2.csv')\n",
    "#     sm8 = pd.read_csv('submission_8.csv')\n",
    "#     sm2 = sm2.rename(columns={'bg+1:00': 'bg+1:00_2'})    # LB=0.5340\n",
    "#     sm8 = sm8.rename(columns={'bg+1:00': 'bg+1:00_8'})\n",
    "#     sms  = pd.merge(sm2,sm8,on=['id'])\n",
    "#     display(sms)\n",
    "#     sms['bg+1:00'] = sms['bg+1:00_2'] *0.55 + 0.45* sms['bg+1:00_8']\n",
    "    \n",
    "# if ENSEMBLE_SOLUTIONS == ['SOLUTION_2','SOLUTION_8']  and LAUNCH_VARIANT == 'option 16':   \n",
    "#     sm2 = pd.read_csv('submission_2.csv')\n",
    "#     sm8 = pd.read_csv('submission_8.csv')\n",
    "#     sm2 = sm2.rename(columns={'bg+1:00': 'bg+1:00_2'})    # LB=?\n",
    "#     sm8 = sm8.rename(columns={'bg+1:00': 'bg+1:00_8'})\n",
    "#     sms  = pd.merge(sm2,sm8,on=['id'])\n",
    "#     display(sms)\n",
    "#     sms['bg+1:00'] = sms['bg+1:00_2'] *0.45 + 0.55* sms['bg+1:00_8']\n",
    "    \n",
    "# elif ENSEMBLE_SOLUTIONS == ['SOLUTION_2','SOLUTION_8','SOLUTION_1']  and LAUNCH_VARIANT == 'option 13':   \n",
    "#     sm2 = pd.read_csv('submission_2.csv')\n",
    "#     sm8 = pd.read_csv('submission_8.csv')\n",
    "#     sm1 = pd.read_csv('submission_1.csv')\n",
    "#     sm2 = sm2.rename(columns={'bg+1:00': 'bg+1:00_2'})\n",
    "#     sm8 = sm8.rename(columns={'bg+1:00': 'bg+1:00_8'})\n",
    "#     sm1 = sm1.rename(columns={'bg+1:00': 'bg+1:00_1'})\n",
    "#     sms  = pd.merge(sm2,sm8,on=['id'])\n",
    "#     sms  = pd.merge(sms,sm1,on=['id'])\n",
    "#     display(sms)\n",
    "#     sms['bg+1:00'] = np.round(sms['bg+1:00_2'] *0.49 + 0.49* sms['bg+1:00_8'] + 0.02* sms['bg+1:00_1']).astype(int)  \n",
    "    \n",
    "# elif ENSEMBLE_SOLUTIONS == ['SOLUTION_2','SOLUTION_8','SOLUTION_3']  and LAUNCH_VARIANT == 'option 11':   \n",
    "#     sm2 = pd.read_csv('submission_2.csv')\n",
    "#     sm8 = pd.read_csv('submission_8.csv')\n",
    "#     sm3 = pd.read_csv('submission_3.csv')\n",
    "#     sm2 = sm2.rename(columns={'bg+1:00': 'bg+1:00_2'})\n",
    "#     sm8 = sm8.rename(columns={'bg+1:00': 'bg+1:00_8'})\n",
    "#     sm3 = sm3.rename(columns={'bg+1:00': 'bg+1:00_3'})\n",
    "#     sms  = pd.merge(sm2,sm8,on=['id'])\n",
    "#     sms  = pd.merge(sms,sm3,on=['id'])\n",
    "#     display(sms)\n",
    "#     sms['bg+1:00'] = np.round(sms['bg+1:00_2'] *0.477 + 0.474* sms['bg+1:00_8']  + 0.049* sms['bg+1:00_3']).astype(int)\n",
    "    \n",
    "# elif ENSEMBLE_SOLUTIONS == ['SOLUTION_2','SOLUTION_8','SOLUTION_4']  and LAUNCH_VARIANT == 'option 12':   \n",
    "#     sm2 = pd.read_csv('submission_2.csv')\n",
    "#     sm8 = pd.read_csv('submission_8.csv')\n",
    "#     sm4 = pd.read_csv('submission_4.csv')\n",
    "#     sm2 = sm2.rename(columns={'bg+1:00': 'bg+1:00_2'})\n",
    "#     sm8 = sm8.rename(columns={'bg+1:00': 'bg+1:00_8'})\n",
    "#     sm4 = sm4.rename(columns={'bg+1:00': 'bg+1:00_4'})\n",
    "#     sms  = pd.merge(sm2,sm8,on=['id'])\n",
    "#     sms  = pd.merge(sms,sm4,on=['id'])\n",
    "#     display(sms)\n",
    "#     sms['bg+1:00'] = np.round(sms['bg+1:00_2'] *0.477 + 0.474* sms['bg+1:00_8'] + 0.049* sms['bg+1:00_4']).astype(int)\n",
    "    \n",
    "# elif ENSEMBLE_SOLUTIONS == ['SOLUTION_3','SOLUTION_4']  and LAUNCH_VARIANT == 'option 13':   \n",
    "#     sm3 = pd.read_csv('submission_3.csv')\n",
    "#     sm4 = pd.read_csv('submission_4.csv')\n",
    "#     sm3 = sm3.rename(columns={'bg+1:00': 'bg+1:00_3'})\n",
    "#     sm4 = sm4.rename(columns={'bg+1:00': 'bg+1:00_4'})\n",
    "#     sms  = pd.merge(sm3,sm4,on=['id'])\n",
    "#     display(sms)\n",
    "#     sms['bg+1:00'] = (sms['bg+1:00_3'] + sms['bg+1:00_4']) / 2\n",
    "\n",
    "# if ENSEMBLE_SOLUTIONS == ['SOLUTION_1','SOLUTION_8']  and LAUNCH_VARIANT == 'option 8':   \n",
    "#     sm1 = pd.read_csv('submission_1.csv')\n",
    "#     sm8 = pd.read_csv('submission_8.csv')\n",
    "#     sm1 = sm1.rename(columns={'bg+1:00': 'bg+1:00_1'})\n",
    "#     sm8 = sm8.rename(columns={'bg+1:00': 'bg+1:00_8'})\n",
    "#     sms  = pd.merge(sm1,sm8,on=['id'])\n",
    "#     display(sms)\n",
    "#     sms['bg+1:00'] = sms['bg+1:00_1'] *0.50 + 0.50* sms['bg+1:00_8']\n",
    "    \n",
    "# elif ENSEMBLE_SOLUTIONS == ['SOLUTION_1','SOLUTION_2','SOLUTION_8']  and LAUNCH_VARIANT == 'option 9':   \n",
    "#     sm1 = pd.read_csv('submission_1.csv')\n",
    "#     sm2 = pd.read_csv('submission_2.csv')\n",
    "#     sm8 = pd.read_csv('submission_8.csv')\n",
    "#     sm1 = sm1.rename(columns={'bg+1:00': 'bg+1:00_1'})\n",
    "#     sm2 = sm2.rename(columns={'bg+1:00': 'bg+1:00_2'})\n",
    "#     sm8 = sm8.rename(columns={'bg+1:00': 'bg+1:00_8'})\n",
    "#     sms  = pd.merge(sm1,sm2,on=['id'])\n",
    "#     sms  = pd.merge(sms,sm8,on=['id'])\n",
    "#     display(sms)\n",
    "#     sms['bg+1:00'] = np.round(sms['bg+1:00_1']*0.33 + sms['bg+1:00_2'] *0.35 + 0.32* sms['bg+1:00_8']).astype(int)\n",
    "    \n",
    "# if ENSEMBLE_SOLUTIONS == ['SOLUTION_1','SOLUTION_2']  and LAUNCH_VARIANT == 'option 1':   \n",
    "#     sm1 = pd.read_csv('submission_1.csv')\n",
    "#     sm2 = pd.read_csv('submission_2.csv')\n",
    "#     sm1 = sm1.rename(columns={'bg+1:00': 'bg+1:00_1'})\n",
    "#     sm2 = sm2.rename(columns={'bg+1:00': 'bg+1:00_2'})\n",
    "#     sms  = pd.merge(sm1,sm2,on=['id'])\n",
    "#     display(sms)\n",
    "#     sms['bg+1:00'] = sms['bg+1:00_1'] *0.50 + 0.50* sms['bg+1:00_2']\n",
    "\n",
    "# if ENSEMBLE_SOLUTIONS == ['SOLUTION_1','SOLUTION_5']  and LAUNCH_VARIANT == 'option 2':   \n",
    "#     sm1 = pd.read_csv('submission_1.csv')\n",
    "#     sm5 = pd.read_csv('submission_5.csv')\n",
    "#     sm1 = sm1.rename(columns={'bg+1:00': 'bg+1:00_1'})\n",
    "#     sm5 = sm5.rename(columns={'bg+1:00': 'bg+1:00_5'})\n",
    "#     sms  = pd.merge(sm1,sm5,on=['id'])\n",
    "#     display(sms)\n",
    "#     sms['bg+1:00'] = sms['bg+1:00_1'] *0.50 + 0.50* sms['bg+1:00_5']\n",
    "\n",
    "# if ENSEMBLE_SOLUTIONS == ['SOLUTION_2','SOLUTION_5']  and LAUNCH_VARIANT == 'option 3':   \n",
    "#     sm2 = pd.read_csv('submission_2.csv')\n",
    "#     sm5 = pd.read_csv('submission_5.csv')\n",
    "#     sm2 = sm2.rename(columns={'bg+1:00': 'bg+1:00_2'})\n",
    "#     sm5 = sm5.rename(columns={'bg+1:00': 'bg+1:00_5'})\n",
    "#     sms  = pd.merge(sm2,sm5,on=['id'])\n",
    "#     display(sms)\n",
    "#     sms['bg+1:00'] = sms['bg+1:00_2'] *0.50 + 0.50* sms['bg+1:00_5']\n",
    "\n",
    "# elif ENSEMBLE_SOLUTIONS == ['SOLUTION_1','SOLUTION_2','SOLUTION_5']  and LAUNCH_VARIANT == 'option 4':   \n",
    "#     sm1 = pd.read_csv('submission_1.csv')\n",
    "#     sm2 = pd.read_csv('submission_2.csv')\n",
    "#     sm5 = pd.read_csv('submission_5.csv')\n",
    "#     sm1 = sm1.rename(columns={'bg+1:00': 'bg+1:00_1'})\n",
    "#     sm2 = sm2.rename(columns={'bg+1:00': 'bg+1:00_2'})\n",
    "#     sm5 = sm5.rename(columns={'bg+1:00': 'bg+1:00_5'})\n",
    "#     sms  = pd.merge(sm1,sm2,on=['id'])\n",
    "#     sms  = pd.merge(sms,sm5,on=['id'])\n",
    "#     display(sms)\n",
    "#     sms['bg+1:00'] = np.round(sms['bg+1:00_1']*0.58 + sms['bg+1:00_2'] *0.37 + 0.05* sms['bg+1:00_5']).astype(int)"
   ]
  }
 ],
 "metadata": {
  "kaggle": {
   "accelerator": "none",
   "dataSources": [
    {
     "databundleVersionId": 9553358,
     "sourceId": 82611,
     "sourceType": "competition"
    },
    {
     "isSourceIdPinned": true,
     "modelId": 128179,
     "modelInstanceId": 103967,
     "sourceId": 123522,
     "sourceType": "modelInstanceVersion"
    }
   ],
   "dockerImageVersionId": 30776,
   "isGpuEnabled": false,
   "isInternetEnabled": true,
   "language": "python",
   "sourceType": "notebook"
  },
  "kernelspec": {
   "display_name": "Python 3",
   "language": "python",
   "name": "python3"
  },
  "language_info": {
   "codemirror_mode": {
    "name": "ipython",
    "version": 3
   },
   "file_extension": ".py",
   "mimetype": "text/x-python",
   "name": "python",
   "nbconvert_exporter": "python",
   "pygments_lexer": "ipython3",
   "version": "3.10.14"
  },
  "papermill": {
   "default_parameters": {},
   "duration": 31595.958072,
   "end_time": "2024-10-07T09:11:31.050822",
   "environment_variables": {},
   "exception": null,
   "input_path": "__notebook__.ipynb",
   "output_path": "__notebook__.ipynb",
   "parameters": {},
   "start_time": "2024-10-07T00:24:55.092750",
   "version": "2.6.0"
  }
 },
 "nbformat": 4,
 "nbformat_minor": 5
}
